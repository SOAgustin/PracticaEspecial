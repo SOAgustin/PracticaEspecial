{
 "cells": [
  {
   "cell_type": "markdown",
   "metadata": {},
   "source": [
    "# Notas de la clase del 8/10"
   ]
  },
  {
   "cell_type": "markdown",
   "metadata": {},
   "source": [
    "#### Basicamente todo se basa en nuestro criterio. No hay una receta fija, pero si recomendaciones. Pero en resumen mientras justifiquemos todo y mantegamos el mismo criterio podemos tomar cualquier decision. \n",
    "#### Adicionalmente es correcto lo que habiamos pensado de eliminar la columna que solo tenia dos valores para convertirla en booleana para no tener informacion redundante (Basicamente la vamos a modificar para que se vuelva booleana). Por otra parte si justificamos bien (Contar por que nos parece) es correcto la eliminacion de la columna que solo tiene una medicion en todas [Creo que era la de derivados del petroleo].\n",
    "\n",
    "En el colab van las decisiones tecnicas. En el informe se plantean las hipotesis y se justifican, nos metemos en el dominio, referencias bibliograficas, etc. Seamos creativos, vayamos a bañarnos al rio de la plata y mostrar la cantidad de caca que hay :)."
   ]
  },
  {
   "cell_type": "markdown",
   "metadata": {},
   "source": [
    "# Instalacion del requirements"
   ]
  },
  {
   "cell_type": "code",
   "execution_count": 155,
   "metadata": {},
   "outputs": [],
   "source": [
    "### %pip install -r requirements.txt"
   ]
  },
  {
   "cell_type": "markdown",
   "metadata": {},
   "source": [
    "# Lectura del archivo"
   ]
  },
  {
   "cell_type": "markdown",
   "metadata": {},
   "source": [
    "Cambiar la forma en la que se lee el archivo, no cambiarlo a excel, sino que debemos indicar el separador que usa el csv"
   ]
  },
  {
   "cell_type": "code",
   "execution_count": 156,
   "metadata": {},
   "outputs": [
    {
     "data": {
      "text/html": [
       "<div>\n",
       "<style scoped>\n",
       "    .dataframe tbody tr th:only-of-type {\n",
       "        vertical-align: middle;\n",
       "    }\n",
       "\n",
       "    .dataframe tbody tr th {\n",
       "        vertical-align: top;\n",
       "    }\n",
       "\n",
       "    .dataframe thead th {\n",
       "        text-align: right;\n",
       "    }\n",
       "</style>\n",
       "<table border=\"1\" class=\"dataframe\">\n",
       "  <thead>\n",
       "    <tr style=\"text-align: right;\">\n",
       "      <th></th>\n",
       "      <th>orden</th>\n",
       "      <th>sitios</th>\n",
       "      <th>codigo</th>\n",
       "      <th>fecha</th>\n",
       "      <th>año</th>\n",
       "      <th>campaña</th>\n",
       "      <th>tem_agua</th>\n",
       "      <th>tem_aire</th>\n",
       "      <th>od</th>\n",
       "      <th>ph</th>\n",
       "      <th>olores</th>\n",
       "      <th>color</th>\n",
       "      <th>espumas</th>\n",
       "      <th>mat_susp</th>\n",
       "      <th>colif_fecales_ufc_100ml</th>\n",
       "      <th>escher_coli_ufc_100ml</th>\n",
       "      <th>enteroc_ufc_100ml</th>\n",
       "      <th>nitrato_mg_l</th>\n",
       "      <th>nh4_mg_l</th>\n",
       "      <th>p_total_l_mg_l</th>\n",
       "      <th>fosf_ortofos_mg_l</th>\n",
       "      <th>dbo_mg_l</th>\n",
       "      <th>dqo_mg_l</th>\n",
       "      <th>turbiedad_ntu</th>\n",
       "      <th>hidr_deriv_petr_ug_l</th>\n",
       "      <th>cr_total_mg_l</th>\n",
       "      <th>cd_total_mg_l</th>\n",
       "      <th>clorofila_a_ug_l</th>\n",
       "      <th>microcistina_ug_l</th>\n",
       "      <th>ica</th>\n",
       "      <th>calidad_de_agua</th>\n",
       "    </tr>\n",
       "  </thead>\n",
       "  <tbody>\n",
       "    <tr>\n",
       "      <th>0</th>\n",
       "      <td>1</td>\n",
       "      <td>Canal Villanueva y Río Luján</td>\n",
       "      <td>TI001</td>\n",
       "      <td>22/2/2023</td>\n",
       "      <td>2023</td>\n",
       "      <td>Verano</td>\n",
       "      <td>26</td>\n",
       "      <td>24</td>\n",
       "      <td>6.59</td>\n",
       "      <td>7.24</td>\n",
       "      <td>Ausencia</td>\n",
       "      <td>Ausencia</td>\n",
       "      <td>Ausencia</td>\n",
       "      <td>Presencia</td>\n",
       "      <td>600</td>\n",
       "      <td>100</td>\n",
       "      <td>130</td>\n",
       "      <td>3.9</td>\n",
       "      <td>&lt;0.05</td>\n",
       "      <td>0.26</td>\n",
       "      <td>&lt;0.10</td>\n",
       "      <td>&lt;2.0</td>\n",
       "      <td>&lt;30</td>\n",
       "      <td>29</td>\n",
       "      <td>&lt;0.10</td>\n",
       "      <td>&lt;0.005</td>\n",
       "      <td>&lt;0.001</td>\n",
       "      <td>0.87</td>\n",
       "      <td>&lt;0.15</td>\n",
       "      <td>53</td>\n",
       "      <td>Muy deteriorada</td>\n",
       "    </tr>\n",
       "    <tr>\n",
       "      <th>1</th>\n",
       "      <td>1</td>\n",
       "      <td>Canal Villanueva y Río Luján</td>\n",
       "      <td>TI001</td>\n",
       "      <td>10/5/2023</td>\n",
       "      <td>2023</td>\n",
       "      <td>otoño</td>\n",
       "      <td>18</td>\n",
       "      <td>12</td>\n",
       "      <td>7.09</td>\n",
       "      <td>7.22</td>\n",
       "      <td>Ausencia</td>\n",
       "      <td>Ausencia</td>\n",
       "      <td>Ausencia</td>\n",
       "      <td>Ausencia</td>\n",
       "      <td>3200</td>\n",
       "      <td>2200</td>\n",
       "      <td>770</td>\n",
       "      <td>3.90</td>\n",
       "      <td>0.30</td>\n",
       "      <td>0.16</td>\n",
       "      <td>0.15</td>\n",
       "      <td>&lt;2.0</td>\n",
       "      <td>&lt;30</td>\n",
       "      <td>45.00</td>\n",
       "      <td>&lt;0.10</td>\n",
       "      <td>&lt;0.005</td>\n",
       "      <td>&lt;1.0</td>\n",
       "      <td>2.56</td>\n",
       "      <td>&lt;0.15</td>\n",
       "      <td>39</td>\n",
       "      <td>Extremadamente deteriorada</td>\n",
       "    </tr>\n",
       "    <tr>\n",
       "      <th>2</th>\n",
       "      <td>1</td>\n",
       "      <td>Canal Villanueva y Río Luján</td>\n",
       "      <td>TI001</td>\n",
       "      <td>23/8/2023</td>\n",
       "      <td>2023</td>\n",
       "      <td>invierno</td>\n",
       "      <td>16.3</td>\n",
       "      <td>11</td>\n",
       "      <td>8.53</td>\n",
       "      <td>7.27</td>\n",
       "      <td>Ausencia</td>\n",
       "      <td>Ausencia</td>\n",
       "      <td>Ausencia</td>\n",
       "      <td>Presencia</td>\n",
       "      <td>240</td>\n",
       "      <td>200</td>\n",
       "      <td>300</td>\n",
       "      <td>4.2</td>\n",
       "      <td>0.19</td>\n",
       "      <td>0.57</td>\n",
       "      <td>&lt;0.20</td>\n",
       "      <td>&lt;2.0</td>\n",
       "      <td>&lt;30</td>\n",
       "      <td>38</td>\n",
       "      <td>&lt;0.10</td>\n",
       "      <td>&lt;0.005</td>\n",
       "      <td>&lt;0.001</td>\n",
       "      <td>1.02</td>\n",
       "      <td>&lt;0.15</td>\n",
       "      <td>48</td>\n",
       "      <td>Muy deteriorada</td>\n",
       "    </tr>\n",
       "    <tr>\n",
       "      <th>3</th>\n",
       "      <td>1</td>\n",
       "      <td>Canal Villanueva y Río Luján</td>\n",
       "      <td>TI001</td>\n",
       "      <td>14/11/2023</td>\n",
       "      <td>2023</td>\n",
       "      <td>primavera</td>\n",
       "      <td>23</td>\n",
       "      <td>25</td>\n",
       "      <td>4.72</td>\n",
       "      <td>6.57</td>\n",
       "      <td>Ausencia</td>\n",
       "      <td>Ausencia</td>\n",
       "      <td>Ausencia</td>\n",
       "      <td>Ausencia</td>\n",
       "      <td>200</td>\n",
       "      <td>180</td>\n",
       "      <td>290</td>\n",
       "      <td>3.3</td>\n",
       "      <td>0.13</td>\n",
       "      <td>0.12</td>\n",
       "      <td>&lt;0.20</td>\n",
       "      <td>&lt;2.0</td>\n",
       "      <td>&lt;30</td>\n",
       "      <td>24</td>\n",
       "      <td>&lt;0.10</td>\n",
       "      <td>&lt;0.005</td>\n",
       "      <td>&lt;0.001</td>\n",
       "      <td>&lt;10.00</td>\n",
       "      <td>&lt;0.15</td>\n",
       "      <td>42</td>\n",
       "      <td>Extremadamente deteriorada</td>\n",
       "    </tr>\n",
       "    <tr>\n",
       "      <th>4</th>\n",
       "      <td>2</td>\n",
       "      <td>Río Lujan y Arroyo Caraguatá</td>\n",
       "      <td>TI006</td>\n",
       "      <td>22/2/2023</td>\n",
       "      <td>2023</td>\n",
       "      <td>Verano</td>\n",
       "      <td>26.8</td>\n",
       "      <td>25</td>\n",
       "      <td>5.94</td>\n",
       "      <td>6.96</td>\n",
       "      <td>Ausencia</td>\n",
       "      <td>Ausencia</td>\n",
       "      <td>Ausencia</td>\n",
       "      <td>Presencia</td>\n",
       "      <td>1000</td>\n",
       "      <td>400</td>\n",
       "      <td>1.500</td>\n",
       "      <td>5.2</td>\n",
       "      <td>0.25</td>\n",
       "      <td>0.16</td>\n",
       "      <td>0.11</td>\n",
       "      <td>2.1</td>\n",
       "      <td>&lt;30</td>\n",
       "      <td>24</td>\n",
       "      <td>&lt;0.10</td>\n",
       "      <td>&lt;0.005</td>\n",
       "      <td>&lt;0.001</td>\n",
       "      <td>10.61</td>\n",
       "      <td>0.21</td>\n",
       "      <td>39</td>\n",
       "      <td>Extremadamente deteriorada</td>\n",
       "    </tr>\n",
       "  </tbody>\n",
       "</table>\n",
       "</div>"
      ],
      "text/plain": [
       "   orden                        sitios codigo       fecha   año    campaña  \\\n",
       "0      1  Canal Villanueva y Río Luján  TI001   22/2/2023  2023     Verano   \n",
       "1      1  Canal Villanueva y Río Luján  TI001   10/5/2023  2023      otoño   \n",
       "2      1  Canal Villanueva y Río Luján  TI001   23/8/2023  2023   invierno   \n",
       "3      1  Canal Villanueva y Río Luján  TI001  14/11/2023  2023  primavera   \n",
       "4      2  Río Lujan y Arroyo Caraguatá  TI006   22/2/2023  2023     Verano   \n",
       "\n",
       "  tem_agua tem_aire    od    ph    olores     color   espumas   mat_susp  \\\n",
       "0       26       24  6.59  7.24  Ausencia  Ausencia  Ausencia  Presencia   \n",
       "1       18       12  7.09  7.22  Ausencia  Ausencia  Ausencia   Ausencia   \n",
       "2     16.3       11  8.53  7.27  Ausencia  Ausencia  Ausencia  Presencia   \n",
       "3       23       25  4.72  6.57  Ausencia  Ausencia  Ausencia   Ausencia   \n",
       "4     26.8       25  5.94  6.96  Ausencia  Ausencia  Ausencia  Presencia   \n",
       "\n",
       "  colif_fecales_ufc_100ml escher_coli_ufc_100ml enteroc_ufc_100ml  \\\n",
       "0                     600                   100               130   \n",
       "1                    3200                  2200               770   \n",
       "2                     240                   200               300   \n",
       "3                     200                   180               290   \n",
       "4                    1000                   400             1.500   \n",
       "\n",
       "  nitrato_mg_l nh4_mg_l p_total_l_mg_l fosf_ortofos_mg_l dbo_mg_l dqo_mg_l  \\\n",
       "0          3.9    <0.05           0.26             <0.10     <2.0      <30   \n",
       "1         3.90     0.30           0.16              0.15     <2.0      <30   \n",
       "2          4.2     0.19           0.57             <0.20     <2.0      <30   \n",
       "3          3.3     0.13           0.12             <0.20     <2.0      <30   \n",
       "4          5.2     0.25           0.16              0.11      2.1      <30   \n",
       "\n",
       "  turbiedad_ntu hidr_deriv_petr_ug_l cr_total_mg_l cd_total_mg_l  \\\n",
       "0            29                <0.10        <0.005        <0.001   \n",
       "1         45.00                <0.10        <0.005          <1.0   \n",
       "2            38                <0.10        <0.005        <0.001   \n",
       "3            24                <0.10        <0.005        <0.001   \n",
       "4            24                <0.10        <0.005        <0.001   \n",
       "\n",
       "  clorofila_a_ug_l microcistina_ug_l ica             calidad_de_agua  \n",
       "0             0.87             <0.15  53            Muy deteriorada   \n",
       "1             2.56             <0.15  39  Extremadamente deteriorada  \n",
       "2             1.02             <0.15  48             Muy deteriorada  \n",
       "3           <10.00             <0.15  42  Extremadamente deteriorada  \n",
       "4            10.61              0.21  39  Extremadamente deteriorada  "
      ]
     },
     "execution_count": 156,
     "metadata": {},
     "output_type": "execute_result"
    }
   ],
   "source": [
    "import pandas as pd\n",
    "\n",
    "#apertura del archivo usando una función específica de pandas\n",
    "raw_dataset = pd.read_csv(\"Calidad_de_agua_2023.csv\", sep = ';')\n",
    "\n",
    "# Configurar pandas para mostrar todas las columnas\n",
    "pd.set_option('display.max_columns', None)\n",
    "\n",
    "raw_dataset.head()"
   ]
  },
  {
   "cell_type": "markdown",
   "metadata": {},
   "source": [
    "## Informacion"
   ]
  },
  {
   "cell_type": "code",
   "execution_count": 157,
   "metadata": {},
   "outputs": [
    {
     "name": "stdout",
     "output_type": "stream",
     "text": [
      "<class 'pandas.core.frame.DataFrame'>\n",
      "RangeIndex: 169 entries, 0 to 168\n",
      "Data columns (total 31 columns):\n",
      " #   Column                   Non-Null Count  Dtype \n",
      "---  ------                   --------------  ----- \n",
      " 0   orden                    169 non-null    int64 \n",
      " 1   sitios                   169 non-null    object\n",
      " 2   codigo                   169 non-null    object\n",
      " 3   fecha                    169 non-null    object\n",
      " 4   año                      169 non-null    int64 \n",
      " 5   campaña                  169 non-null    object\n",
      " 6   tem_agua                 169 non-null    object\n",
      " 7   tem_aire                 169 non-null    object\n",
      " 8   od                       169 non-null    object\n",
      " 9   ph                       168 non-null    object\n",
      " 10  olores                   169 non-null    object\n",
      " 11  color                    169 non-null    object\n",
      " 12  espumas                  169 non-null    object\n",
      " 13  mat_susp                 169 non-null    object\n",
      " 14  colif_fecales_ufc_100ml  169 non-null    object\n",
      " 15  escher_coli_ufc_100ml    169 non-null    object\n",
      " 16  enteroc_ufc_100ml        169 non-null    object\n",
      " 17  nitrato_mg_l             169 non-null    object\n",
      " 18  nh4_mg_l                 169 non-null    object\n",
      " 19  p_total_l_mg_l           168 non-null    object\n",
      " 20  fosf_ortofos_mg_l        169 non-null    object\n",
      " 21  dbo_mg_l                 168 non-null    object\n",
      " 22  dqo_mg_l                 169 non-null    object\n",
      " 23  turbiedad_ntu            169 non-null    object\n",
      " 24  hidr_deriv_petr_ug_l     169 non-null    object\n",
      " 25  cr_total_mg_l            169 non-null    object\n",
      " 26  cd_total_mg_l            169 non-null    object\n",
      " 27  clorofila_a_ug_l         169 non-null    object\n",
      " 28  microcistina_ug_l        169 non-null    object\n",
      " 29  ica                      168 non-null    object\n",
      " 30  calidad_de_agua          154 non-null    object\n",
      "dtypes: int64(2), object(29)\n",
      "memory usage: 41.1+ KB\n"
     ]
    }
   ],
   "source": [
    "raw_dataset.info()"
   ]
  },
  {
   "cell_type": "markdown",
   "metadata": {},
   "source": [
    "## Describe"
   ]
  },
  {
   "cell_type": "code",
   "execution_count": 158,
   "metadata": {},
   "outputs": [
    {
     "data": {
      "text/html": [
       "<div>\n",
       "<style scoped>\n",
       "    .dataframe tbody tr th:only-of-type {\n",
       "        vertical-align: middle;\n",
       "    }\n",
       "\n",
       "    .dataframe tbody tr th {\n",
       "        vertical-align: top;\n",
       "    }\n",
       "\n",
       "    .dataframe thead th {\n",
       "        text-align: right;\n",
       "    }\n",
       "</style>\n",
       "<table border=\"1\" class=\"dataframe\">\n",
       "  <thead>\n",
       "    <tr style=\"text-align: right;\">\n",
       "      <th></th>\n",
       "      <th>orden</th>\n",
       "      <th>año</th>\n",
       "    </tr>\n",
       "  </thead>\n",
       "  <tbody>\n",
       "    <tr>\n",
       "      <th>count</th>\n",
       "      <td>169.000000</td>\n",
       "      <td>169.0</td>\n",
       "    </tr>\n",
       "    <tr>\n",
       "      <th>mean</th>\n",
       "      <td>21.627219</td>\n",
       "      <td>2023.0</td>\n",
       "    </tr>\n",
       "    <tr>\n",
       "      <th>std</th>\n",
       "      <td>12.233228</td>\n",
       "      <td>0.0</td>\n",
       "    </tr>\n",
       "    <tr>\n",
       "      <th>min</th>\n",
       "      <td>1.000000</td>\n",
       "      <td>2023.0</td>\n",
       "    </tr>\n",
       "    <tr>\n",
       "      <th>25%</th>\n",
       "      <td>11.000000</td>\n",
       "      <td>2023.0</td>\n",
       "    </tr>\n",
       "    <tr>\n",
       "      <th>50%</th>\n",
       "      <td>22.000000</td>\n",
       "      <td>2023.0</td>\n",
       "    </tr>\n",
       "    <tr>\n",
       "      <th>75%</th>\n",
       "      <td>32.000000</td>\n",
       "      <td>2023.0</td>\n",
       "    </tr>\n",
       "    <tr>\n",
       "      <th>max</th>\n",
       "      <td>43.000000</td>\n",
       "      <td>2023.0</td>\n",
       "    </tr>\n",
       "  </tbody>\n",
       "</table>\n",
       "</div>"
      ],
      "text/plain": [
       "            orden     año\n",
       "count  169.000000   169.0\n",
       "mean    21.627219  2023.0\n",
       "std     12.233228     0.0\n",
       "min      1.000000  2023.0\n",
       "25%     11.000000  2023.0\n",
       "50%     22.000000  2023.0\n",
       "75%     32.000000  2023.0\n",
       "max     43.000000  2023.0"
      ]
     },
     "execution_count": 158,
     "metadata": {},
     "output_type": "execute_result"
    }
   ],
   "source": [
    "raw_dataset.describe()"
   ]
  },
  {
   "cell_type": "markdown",
   "metadata": {},
   "source": [
    "# Creacion del profiling"
   ]
  },
  {
   "cell_type": "code",
   "execution_count": 159,
   "metadata": {},
   "outputs": [],
   "source": [
    "import pandas as pd\n",
    "\n",
    "# generamos el reporte\n",
    "###report = pp.ProfileReport(raw_dataset)\n",
    "# lo mostramos interactivo en nuestra notebook\n",
    "# report.to_notebook_iframe()\n",
    "\n",
    "# lo guardamos como un archivo\n",
    "###report.to_file(output_file=\"reporte_Calidad_de_agua_2023.html\")"
   ]
  },
  {
   "cell_type": "markdown",
   "metadata": {},
   "source": [
    "# Copiamos el dataset para poder modificarlo a gusto"
   ]
  },
  {
   "cell_type": "code",
   "execution_count": 160,
   "metadata": {},
   "outputs": [
    {
     "data": {
      "text/html": [
       "<div>\n",
       "<style scoped>\n",
       "    .dataframe tbody tr th:only-of-type {\n",
       "        vertical-align: middle;\n",
       "    }\n",
       "\n",
       "    .dataframe tbody tr th {\n",
       "        vertical-align: top;\n",
       "    }\n",
       "\n",
       "    .dataframe thead th {\n",
       "        text-align: right;\n",
       "    }\n",
       "</style>\n",
       "<table border=\"1\" class=\"dataframe\">\n",
       "  <thead>\n",
       "    <tr style=\"text-align: right;\">\n",
       "      <th></th>\n",
       "      <th>orden</th>\n",
       "      <th>sitios</th>\n",
       "      <th>codigo</th>\n",
       "      <th>fecha</th>\n",
       "      <th>año</th>\n",
       "      <th>campaña</th>\n",
       "      <th>tem_agua</th>\n",
       "      <th>tem_aire</th>\n",
       "      <th>od</th>\n",
       "      <th>ph</th>\n",
       "      <th>olores</th>\n",
       "      <th>color</th>\n",
       "      <th>espumas</th>\n",
       "      <th>mat_susp</th>\n",
       "      <th>colif_fecales_ufc_100ml</th>\n",
       "      <th>escher_coli_ufc_100ml</th>\n",
       "      <th>enteroc_ufc_100ml</th>\n",
       "      <th>nitrato_mg_l</th>\n",
       "      <th>nh4_mg_l</th>\n",
       "      <th>p_total_l_mg_l</th>\n",
       "      <th>fosf_ortofos_mg_l</th>\n",
       "      <th>dbo_mg_l</th>\n",
       "      <th>dqo_mg_l</th>\n",
       "      <th>turbiedad_ntu</th>\n",
       "      <th>hidr_deriv_petr_ug_l</th>\n",
       "      <th>cr_total_mg_l</th>\n",
       "      <th>cd_total_mg_l</th>\n",
       "      <th>clorofila_a_ug_l</th>\n",
       "      <th>microcistina_ug_l</th>\n",
       "      <th>ica</th>\n",
       "      <th>calidad_de_agua</th>\n",
       "    </tr>\n",
       "  </thead>\n",
       "  <tbody>\n",
       "    <tr>\n",
       "      <th>0</th>\n",
       "      <td>1</td>\n",
       "      <td>Canal Villanueva y Río Luján</td>\n",
       "      <td>TI001</td>\n",
       "      <td>22/2/2023</td>\n",
       "      <td>2023</td>\n",
       "      <td>Verano</td>\n",
       "      <td>26</td>\n",
       "      <td>24</td>\n",
       "      <td>6.59</td>\n",
       "      <td>7.24</td>\n",
       "      <td>Ausencia</td>\n",
       "      <td>Ausencia</td>\n",
       "      <td>Ausencia</td>\n",
       "      <td>Presencia</td>\n",
       "      <td>600</td>\n",
       "      <td>100</td>\n",
       "      <td>130</td>\n",
       "      <td>3.9</td>\n",
       "      <td>&lt;0.05</td>\n",
       "      <td>0.26</td>\n",
       "      <td>&lt;0.10</td>\n",
       "      <td>&lt;2.0</td>\n",
       "      <td>&lt;30</td>\n",
       "      <td>29</td>\n",
       "      <td>&lt;0.10</td>\n",
       "      <td>&lt;0.005</td>\n",
       "      <td>&lt;0.001</td>\n",
       "      <td>0.87</td>\n",
       "      <td>&lt;0.15</td>\n",
       "      <td>53</td>\n",
       "      <td>Muy deteriorada</td>\n",
       "    </tr>\n",
       "    <tr>\n",
       "      <th>1</th>\n",
       "      <td>1</td>\n",
       "      <td>Canal Villanueva y Río Luján</td>\n",
       "      <td>TI001</td>\n",
       "      <td>10/5/2023</td>\n",
       "      <td>2023</td>\n",
       "      <td>otoño</td>\n",
       "      <td>18</td>\n",
       "      <td>12</td>\n",
       "      <td>7.09</td>\n",
       "      <td>7.22</td>\n",
       "      <td>Ausencia</td>\n",
       "      <td>Ausencia</td>\n",
       "      <td>Ausencia</td>\n",
       "      <td>Ausencia</td>\n",
       "      <td>3200</td>\n",
       "      <td>2200</td>\n",
       "      <td>770</td>\n",
       "      <td>3.90</td>\n",
       "      <td>0.30</td>\n",
       "      <td>0.16</td>\n",
       "      <td>0.15</td>\n",
       "      <td>&lt;2.0</td>\n",
       "      <td>&lt;30</td>\n",
       "      <td>45.00</td>\n",
       "      <td>&lt;0.10</td>\n",
       "      <td>&lt;0.005</td>\n",
       "      <td>&lt;1.0</td>\n",
       "      <td>2.56</td>\n",
       "      <td>&lt;0.15</td>\n",
       "      <td>39</td>\n",
       "      <td>Extremadamente deteriorada</td>\n",
       "    </tr>\n",
       "    <tr>\n",
       "      <th>2</th>\n",
       "      <td>1</td>\n",
       "      <td>Canal Villanueva y Río Luján</td>\n",
       "      <td>TI001</td>\n",
       "      <td>23/8/2023</td>\n",
       "      <td>2023</td>\n",
       "      <td>invierno</td>\n",
       "      <td>16.3</td>\n",
       "      <td>11</td>\n",
       "      <td>8.53</td>\n",
       "      <td>7.27</td>\n",
       "      <td>Ausencia</td>\n",
       "      <td>Ausencia</td>\n",
       "      <td>Ausencia</td>\n",
       "      <td>Presencia</td>\n",
       "      <td>240</td>\n",
       "      <td>200</td>\n",
       "      <td>300</td>\n",
       "      <td>4.2</td>\n",
       "      <td>0.19</td>\n",
       "      <td>0.57</td>\n",
       "      <td>&lt;0.20</td>\n",
       "      <td>&lt;2.0</td>\n",
       "      <td>&lt;30</td>\n",
       "      <td>38</td>\n",
       "      <td>&lt;0.10</td>\n",
       "      <td>&lt;0.005</td>\n",
       "      <td>&lt;0.001</td>\n",
       "      <td>1.02</td>\n",
       "      <td>&lt;0.15</td>\n",
       "      <td>48</td>\n",
       "      <td>Muy deteriorada</td>\n",
       "    </tr>\n",
       "    <tr>\n",
       "      <th>3</th>\n",
       "      <td>1</td>\n",
       "      <td>Canal Villanueva y Río Luján</td>\n",
       "      <td>TI001</td>\n",
       "      <td>14/11/2023</td>\n",
       "      <td>2023</td>\n",
       "      <td>primavera</td>\n",
       "      <td>23</td>\n",
       "      <td>25</td>\n",
       "      <td>4.72</td>\n",
       "      <td>6.57</td>\n",
       "      <td>Ausencia</td>\n",
       "      <td>Ausencia</td>\n",
       "      <td>Ausencia</td>\n",
       "      <td>Ausencia</td>\n",
       "      <td>200</td>\n",
       "      <td>180</td>\n",
       "      <td>290</td>\n",
       "      <td>3.3</td>\n",
       "      <td>0.13</td>\n",
       "      <td>0.12</td>\n",
       "      <td>&lt;0.20</td>\n",
       "      <td>&lt;2.0</td>\n",
       "      <td>&lt;30</td>\n",
       "      <td>24</td>\n",
       "      <td>&lt;0.10</td>\n",
       "      <td>&lt;0.005</td>\n",
       "      <td>&lt;0.001</td>\n",
       "      <td>&lt;10.00</td>\n",
       "      <td>&lt;0.15</td>\n",
       "      <td>42</td>\n",
       "      <td>Extremadamente deteriorada</td>\n",
       "    </tr>\n",
       "    <tr>\n",
       "      <th>4</th>\n",
       "      <td>2</td>\n",
       "      <td>Río Lujan y Arroyo Caraguatá</td>\n",
       "      <td>TI006</td>\n",
       "      <td>22/2/2023</td>\n",
       "      <td>2023</td>\n",
       "      <td>Verano</td>\n",
       "      <td>26.8</td>\n",
       "      <td>25</td>\n",
       "      <td>5.94</td>\n",
       "      <td>6.96</td>\n",
       "      <td>Ausencia</td>\n",
       "      <td>Ausencia</td>\n",
       "      <td>Ausencia</td>\n",
       "      <td>Presencia</td>\n",
       "      <td>1000</td>\n",
       "      <td>400</td>\n",
       "      <td>1.500</td>\n",
       "      <td>5.2</td>\n",
       "      <td>0.25</td>\n",
       "      <td>0.16</td>\n",
       "      <td>0.11</td>\n",
       "      <td>2.1</td>\n",
       "      <td>&lt;30</td>\n",
       "      <td>24</td>\n",
       "      <td>&lt;0.10</td>\n",
       "      <td>&lt;0.005</td>\n",
       "      <td>&lt;0.001</td>\n",
       "      <td>10.61</td>\n",
       "      <td>0.21</td>\n",
       "      <td>39</td>\n",
       "      <td>Extremadamente deteriorada</td>\n",
       "    </tr>\n",
       "  </tbody>\n",
       "</table>\n",
       "</div>"
      ],
      "text/plain": [
       "   orden                        sitios codigo       fecha   año    campaña  \\\n",
       "0      1  Canal Villanueva y Río Luján  TI001   22/2/2023  2023     Verano   \n",
       "1      1  Canal Villanueva y Río Luján  TI001   10/5/2023  2023      otoño   \n",
       "2      1  Canal Villanueva y Río Luján  TI001   23/8/2023  2023   invierno   \n",
       "3      1  Canal Villanueva y Río Luján  TI001  14/11/2023  2023  primavera   \n",
       "4      2  Río Lujan y Arroyo Caraguatá  TI006   22/2/2023  2023     Verano   \n",
       "\n",
       "  tem_agua tem_aire    od    ph    olores     color   espumas   mat_susp  \\\n",
       "0       26       24  6.59  7.24  Ausencia  Ausencia  Ausencia  Presencia   \n",
       "1       18       12  7.09  7.22  Ausencia  Ausencia  Ausencia   Ausencia   \n",
       "2     16.3       11  8.53  7.27  Ausencia  Ausencia  Ausencia  Presencia   \n",
       "3       23       25  4.72  6.57  Ausencia  Ausencia  Ausencia   Ausencia   \n",
       "4     26.8       25  5.94  6.96  Ausencia  Ausencia  Ausencia  Presencia   \n",
       "\n",
       "  colif_fecales_ufc_100ml escher_coli_ufc_100ml enteroc_ufc_100ml  \\\n",
       "0                     600                   100               130   \n",
       "1                    3200                  2200               770   \n",
       "2                     240                   200               300   \n",
       "3                     200                   180               290   \n",
       "4                    1000                   400             1.500   \n",
       "\n",
       "  nitrato_mg_l nh4_mg_l p_total_l_mg_l fosf_ortofos_mg_l dbo_mg_l dqo_mg_l  \\\n",
       "0          3.9    <0.05           0.26             <0.10     <2.0      <30   \n",
       "1         3.90     0.30           0.16              0.15     <2.0      <30   \n",
       "2          4.2     0.19           0.57             <0.20     <2.0      <30   \n",
       "3          3.3     0.13           0.12             <0.20     <2.0      <30   \n",
       "4          5.2     0.25           0.16              0.11      2.1      <30   \n",
       "\n",
       "  turbiedad_ntu hidr_deriv_petr_ug_l cr_total_mg_l cd_total_mg_l  \\\n",
       "0            29                <0.10        <0.005        <0.001   \n",
       "1         45.00                <0.10        <0.005          <1.0   \n",
       "2            38                <0.10        <0.005        <0.001   \n",
       "3            24                <0.10        <0.005        <0.001   \n",
       "4            24                <0.10        <0.005        <0.001   \n",
       "\n",
       "  clorofila_a_ug_l microcistina_ug_l ica             calidad_de_agua  \n",
       "0             0.87             <0.15  53            Muy deteriorada   \n",
       "1             2.56             <0.15  39  Extremadamente deteriorada  \n",
       "2             1.02             <0.15  48             Muy deteriorada  \n",
       "3           <10.00             <0.15  42  Extremadamente deteriorada  \n",
       "4            10.61              0.21  39  Extremadamente deteriorada  "
      ]
     },
     "execution_count": 160,
     "metadata": {},
     "output_type": "execute_result"
    }
   ],
   "source": [
    "rd_copia = raw_dataset.copy()\n",
    "rd_copia.head()"
   ]
  },
  {
   "cell_type": "markdown",
   "metadata": {},
   "source": [
    "### Eliminamos la columna orden y año ya que no nos aporta niguna informacion adicional."
   ]
  },
  {
   "cell_type": "code",
   "execution_count": 161,
   "metadata": {},
   "outputs": [
    {
     "data": {
      "text/html": [
       "<div>\n",
       "<style scoped>\n",
       "    .dataframe tbody tr th:only-of-type {\n",
       "        vertical-align: middle;\n",
       "    }\n",
       "\n",
       "    .dataframe tbody tr th {\n",
       "        vertical-align: top;\n",
       "    }\n",
       "\n",
       "    .dataframe thead th {\n",
       "        text-align: right;\n",
       "    }\n",
       "</style>\n",
       "<table border=\"1\" class=\"dataframe\">\n",
       "  <thead>\n",
       "    <tr style=\"text-align: right;\">\n",
       "      <th></th>\n",
       "      <th>sitios</th>\n",
       "      <th>codigo</th>\n",
       "      <th>fecha</th>\n",
       "      <th>campaña</th>\n",
       "      <th>tem_agua</th>\n",
       "      <th>tem_aire</th>\n",
       "      <th>od</th>\n",
       "      <th>ph</th>\n",
       "      <th>olores</th>\n",
       "      <th>color</th>\n",
       "      <th>espumas</th>\n",
       "      <th>mat_susp</th>\n",
       "      <th>colif_fecales_ufc_100ml</th>\n",
       "      <th>escher_coli_ufc_100ml</th>\n",
       "      <th>enteroc_ufc_100ml</th>\n",
       "      <th>nitrato_mg_l</th>\n",
       "      <th>nh4_mg_l</th>\n",
       "      <th>p_total_l_mg_l</th>\n",
       "      <th>fosf_ortofos_mg_l</th>\n",
       "      <th>dbo_mg_l</th>\n",
       "      <th>dqo_mg_l</th>\n",
       "      <th>turbiedad_ntu</th>\n",
       "      <th>hidr_deriv_petr_ug_l</th>\n",
       "      <th>cr_total_mg_l</th>\n",
       "      <th>cd_total_mg_l</th>\n",
       "      <th>clorofila_a_ug_l</th>\n",
       "      <th>microcistina_ug_l</th>\n",
       "      <th>ica</th>\n",
       "      <th>calidad_de_agua</th>\n",
       "    </tr>\n",
       "  </thead>\n",
       "  <tbody>\n",
       "    <tr>\n",
       "      <th>0</th>\n",
       "      <td>Canal Villanueva y Río Luján</td>\n",
       "      <td>TI001</td>\n",
       "      <td>22/2/2023</td>\n",
       "      <td>Verano</td>\n",
       "      <td>26</td>\n",
       "      <td>24</td>\n",
       "      <td>6.59</td>\n",
       "      <td>7.24</td>\n",
       "      <td>Ausencia</td>\n",
       "      <td>Ausencia</td>\n",
       "      <td>Ausencia</td>\n",
       "      <td>Presencia</td>\n",
       "      <td>600</td>\n",
       "      <td>100</td>\n",
       "      <td>130</td>\n",
       "      <td>3.9</td>\n",
       "      <td>&lt;0.05</td>\n",
       "      <td>0.26</td>\n",
       "      <td>&lt;0.10</td>\n",
       "      <td>&lt;2.0</td>\n",
       "      <td>&lt;30</td>\n",
       "      <td>29</td>\n",
       "      <td>&lt;0.10</td>\n",
       "      <td>&lt;0.005</td>\n",
       "      <td>&lt;0.001</td>\n",
       "      <td>0.87</td>\n",
       "      <td>&lt;0.15</td>\n",
       "      <td>53</td>\n",
       "      <td>Muy deteriorada</td>\n",
       "    </tr>\n",
       "    <tr>\n",
       "      <th>1</th>\n",
       "      <td>Canal Villanueva y Río Luján</td>\n",
       "      <td>TI001</td>\n",
       "      <td>10/5/2023</td>\n",
       "      <td>otoño</td>\n",
       "      <td>18</td>\n",
       "      <td>12</td>\n",
       "      <td>7.09</td>\n",
       "      <td>7.22</td>\n",
       "      <td>Ausencia</td>\n",
       "      <td>Ausencia</td>\n",
       "      <td>Ausencia</td>\n",
       "      <td>Ausencia</td>\n",
       "      <td>3200</td>\n",
       "      <td>2200</td>\n",
       "      <td>770</td>\n",
       "      <td>3.90</td>\n",
       "      <td>0.30</td>\n",
       "      <td>0.16</td>\n",
       "      <td>0.15</td>\n",
       "      <td>&lt;2.0</td>\n",
       "      <td>&lt;30</td>\n",
       "      <td>45.00</td>\n",
       "      <td>&lt;0.10</td>\n",
       "      <td>&lt;0.005</td>\n",
       "      <td>&lt;1.0</td>\n",
       "      <td>2.56</td>\n",
       "      <td>&lt;0.15</td>\n",
       "      <td>39</td>\n",
       "      <td>Extremadamente deteriorada</td>\n",
       "    </tr>\n",
       "    <tr>\n",
       "      <th>2</th>\n",
       "      <td>Canal Villanueva y Río Luján</td>\n",
       "      <td>TI001</td>\n",
       "      <td>23/8/2023</td>\n",
       "      <td>invierno</td>\n",
       "      <td>16.3</td>\n",
       "      <td>11</td>\n",
       "      <td>8.53</td>\n",
       "      <td>7.27</td>\n",
       "      <td>Ausencia</td>\n",
       "      <td>Ausencia</td>\n",
       "      <td>Ausencia</td>\n",
       "      <td>Presencia</td>\n",
       "      <td>240</td>\n",
       "      <td>200</td>\n",
       "      <td>300</td>\n",
       "      <td>4.2</td>\n",
       "      <td>0.19</td>\n",
       "      <td>0.57</td>\n",
       "      <td>&lt;0.20</td>\n",
       "      <td>&lt;2.0</td>\n",
       "      <td>&lt;30</td>\n",
       "      <td>38</td>\n",
       "      <td>&lt;0.10</td>\n",
       "      <td>&lt;0.005</td>\n",
       "      <td>&lt;0.001</td>\n",
       "      <td>1.02</td>\n",
       "      <td>&lt;0.15</td>\n",
       "      <td>48</td>\n",
       "      <td>Muy deteriorada</td>\n",
       "    </tr>\n",
       "    <tr>\n",
       "      <th>3</th>\n",
       "      <td>Canal Villanueva y Río Luján</td>\n",
       "      <td>TI001</td>\n",
       "      <td>14/11/2023</td>\n",
       "      <td>primavera</td>\n",
       "      <td>23</td>\n",
       "      <td>25</td>\n",
       "      <td>4.72</td>\n",
       "      <td>6.57</td>\n",
       "      <td>Ausencia</td>\n",
       "      <td>Ausencia</td>\n",
       "      <td>Ausencia</td>\n",
       "      <td>Ausencia</td>\n",
       "      <td>200</td>\n",
       "      <td>180</td>\n",
       "      <td>290</td>\n",
       "      <td>3.3</td>\n",
       "      <td>0.13</td>\n",
       "      <td>0.12</td>\n",
       "      <td>&lt;0.20</td>\n",
       "      <td>&lt;2.0</td>\n",
       "      <td>&lt;30</td>\n",
       "      <td>24</td>\n",
       "      <td>&lt;0.10</td>\n",
       "      <td>&lt;0.005</td>\n",
       "      <td>&lt;0.001</td>\n",
       "      <td>&lt;10.00</td>\n",
       "      <td>&lt;0.15</td>\n",
       "      <td>42</td>\n",
       "      <td>Extremadamente deteriorada</td>\n",
       "    </tr>\n",
       "    <tr>\n",
       "      <th>4</th>\n",
       "      <td>Río Lujan y Arroyo Caraguatá</td>\n",
       "      <td>TI006</td>\n",
       "      <td>22/2/2023</td>\n",
       "      <td>Verano</td>\n",
       "      <td>26.8</td>\n",
       "      <td>25</td>\n",
       "      <td>5.94</td>\n",
       "      <td>6.96</td>\n",
       "      <td>Ausencia</td>\n",
       "      <td>Ausencia</td>\n",
       "      <td>Ausencia</td>\n",
       "      <td>Presencia</td>\n",
       "      <td>1000</td>\n",
       "      <td>400</td>\n",
       "      <td>1.500</td>\n",
       "      <td>5.2</td>\n",
       "      <td>0.25</td>\n",
       "      <td>0.16</td>\n",
       "      <td>0.11</td>\n",
       "      <td>2.1</td>\n",
       "      <td>&lt;30</td>\n",
       "      <td>24</td>\n",
       "      <td>&lt;0.10</td>\n",
       "      <td>&lt;0.005</td>\n",
       "      <td>&lt;0.001</td>\n",
       "      <td>10.61</td>\n",
       "      <td>0.21</td>\n",
       "      <td>39</td>\n",
       "      <td>Extremadamente deteriorada</td>\n",
       "    </tr>\n",
       "  </tbody>\n",
       "</table>\n",
       "</div>"
      ],
      "text/plain": [
       "                         sitios codigo       fecha    campaña tem_agua  \\\n",
       "0  Canal Villanueva y Río Luján  TI001   22/2/2023     Verano       26   \n",
       "1  Canal Villanueva y Río Luján  TI001   10/5/2023      otoño       18   \n",
       "2  Canal Villanueva y Río Luján  TI001   23/8/2023   invierno     16.3   \n",
       "3  Canal Villanueva y Río Luján  TI001  14/11/2023  primavera       23   \n",
       "4  Río Lujan y Arroyo Caraguatá  TI006   22/2/2023     Verano     26.8   \n",
       "\n",
       "  tem_aire    od    ph    olores     color   espumas   mat_susp  \\\n",
       "0       24  6.59  7.24  Ausencia  Ausencia  Ausencia  Presencia   \n",
       "1       12  7.09  7.22  Ausencia  Ausencia  Ausencia   Ausencia   \n",
       "2       11  8.53  7.27  Ausencia  Ausencia  Ausencia  Presencia   \n",
       "3       25  4.72  6.57  Ausencia  Ausencia  Ausencia   Ausencia   \n",
       "4       25  5.94  6.96  Ausencia  Ausencia  Ausencia  Presencia   \n",
       "\n",
       "  colif_fecales_ufc_100ml escher_coli_ufc_100ml enteroc_ufc_100ml  \\\n",
       "0                     600                   100               130   \n",
       "1                    3200                  2200               770   \n",
       "2                     240                   200               300   \n",
       "3                     200                   180               290   \n",
       "4                    1000                   400             1.500   \n",
       "\n",
       "  nitrato_mg_l nh4_mg_l p_total_l_mg_l fosf_ortofos_mg_l dbo_mg_l dqo_mg_l  \\\n",
       "0          3.9    <0.05           0.26             <0.10     <2.0      <30   \n",
       "1         3.90     0.30           0.16              0.15     <2.0      <30   \n",
       "2          4.2     0.19           0.57             <0.20     <2.0      <30   \n",
       "3          3.3     0.13           0.12             <0.20     <2.0      <30   \n",
       "4          5.2     0.25           0.16              0.11      2.1      <30   \n",
       "\n",
       "  turbiedad_ntu hidr_deriv_petr_ug_l cr_total_mg_l cd_total_mg_l  \\\n",
       "0            29                <0.10        <0.005        <0.001   \n",
       "1         45.00                <0.10        <0.005          <1.0   \n",
       "2            38                <0.10        <0.005        <0.001   \n",
       "3            24                <0.10        <0.005        <0.001   \n",
       "4            24                <0.10        <0.005        <0.001   \n",
       "\n",
       "  clorofila_a_ug_l microcistina_ug_l ica             calidad_de_agua  \n",
       "0             0.87             <0.15  53            Muy deteriorada   \n",
       "1             2.56             <0.15  39  Extremadamente deteriorada  \n",
       "2             1.02             <0.15  48             Muy deteriorada  \n",
       "3           <10.00             <0.15  42  Extremadamente deteriorada  \n",
       "4            10.61              0.21  39  Extremadamente deteriorada  "
      ]
     },
     "execution_count": 161,
     "metadata": {},
     "output_type": "execute_result"
    }
   ],
   "source": [
    "rd_copia = rd_copia.drop('orden', axis = 1)\n",
    "rd_copia = rd_copia.drop('año', axis = 1)\n",
    "rd_copia.head()"
   ]
  },
  {
   "cell_type": "markdown",
   "metadata": {},
   "source": [
    "# Vamos a explorar el dataset en busca de corregir las columnas.\n",
    "Primero haciendo uso de el metodo \"isna\":"
   ]
  },
  {
   "cell_type": "code",
   "execution_count": 162,
   "metadata": {},
   "outputs": [
    {
     "data": {
      "text/plain": [
       "sitios                      0\n",
       "codigo                      0\n",
       "fecha                       0\n",
       "campaña                     0\n",
       "tem_agua                    0\n",
       "tem_aire                    0\n",
       "od                          0\n",
       "ph                          1\n",
       "olores                      0\n",
       "color                       0\n",
       "espumas                     0\n",
       "mat_susp                    0\n",
       "colif_fecales_ufc_100ml     0\n",
       "escher_coli_ufc_100ml       0\n",
       "enteroc_ufc_100ml           0\n",
       "nitrato_mg_l                0\n",
       "nh4_mg_l                    0\n",
       "p_total_l_mg_l              1\n",
       "fosf_ortofos_mg_l           0\n",
       "dbo_mg_l                    1\n",
       "dqo_mg_l                    0\n",
       "turbiedad_ntu               0\n",
       "hidr_deriv_petr_ug_l        0\n",
       "cr_total_mg_l               0\n",
       "cd_total_mg_l               0\n",
       "clorofila_a_ug_l            0\n",
       "microcistina_ug_l           0\n",
       "ica                         1\n",
       "calidad_de_agua            15\n",
       "dtype: int64"
      ]
     },
     "execution_count": 162,
     "metadata": {},
     "output_type": "execute_result"
    }
   ],
   "source": [
    "# determinamos cuantos nans hay\n",
    "rd_copia.isna().sum()"
   ]
  },
  {
   "cell_type": "markdown",
   "metadata": {},
   "source": [
    "y ahora haciendo una busqueda manual con el metodo \"value_counts\", empezando por la columna \"calidad_de_agua\"."
   ]
  },
  {
   "cell_type": "markdown",
   "metadata": {},
   "source": [
    "### Analisis de Calidad de Agua (Completado):"
   ]
  },
  {
   "cell_type": "code",
   "execution_count": 163,
   "metadata": {},
   "outputs": [
    {
     "name": "stdout",
     "output_type": "stream",
     "text": [
      "calidad_de_agua\n",
      "Extremadamente deteriorada    127\n",
      "NaN                            15\n",
      "no muestreó                     7\n",
      "Muy deteriorada                 6\n",
      "Muy deteriorada                 4\n",
      "no se muestreó                  4\n",
      "en obra                         3\n",
      "inaccesible                     2\n",
      "no se midió                     1\n",
      "Name: count, dtype: int64\n"
     ]
    }
   ],
   "source": [
    "conteo_por_calidad_de_agua = rd_copia[\"calidad_de_agua\"].value_counts(dropna= False)\n",
    "\n",
    "print(conteo_por_calidad_de_agua)"
   ]
  },
  {
   "cell_type": "markdown",
   "metadata": {},
   "source": [
    " Luego de ver la frecuencia de valores que hay en columna de calidad de agua nos encontramos con valores ademas de los nulos que carecen de sentido como lo son: \"no muestreó\",\"no se muestreó\",\"en obra\", \"inaccesible\", \"no se midió\"."
   ]
  },
  {
   "cell_type": "markdown",
   "metadata": {},
   "source": [
    " Ahora vamos a pasar a reemplazar los valores sin sentido por nulos:"
   ]
  },
  {
   "cell_type": "code",
   "execution_count": 164,
   "metadata": {},
   "outputs": [
    {
     "name": "stdout",
     "output_type": "stream",
     "text": [
      "calidad_de_agua\n",
      "Extremadamente deteriorada    127\n",
      "<NA>                           17\n",
      "NaN                            15\n",
      "Muy deteriorada                 6\n",
      "Muy deteriorada                 4\n",
      "Name: count, dtype: int64\n"
     ]
    }
   ],
   "source": [
    "import pandas as pd\n",
    "\n",
    "rd_copia[\"calidad_de_agua\"] = rd_copia[\"calidad_de_agua\"].replace([\"no muestreó\",\"no se muestreó\",\"en obra\", \"inaccesible\", \"no se midió\"], pd.NA)\n",
    "\n",
    "conteo_por_calidad_de_agua = rd_copia[\"calidad_de_agua\"].value_counts(dropna= False)\n",
    "print(conteo_por_calidad_de_agua)"
   ]
  },
  {
   "cell_type": "markdown",
   "metadata": {},
   "source": [
    "<span style=\"color:#99ff99; font-size:20px\">Como vimos que los NaN se agrupan en distinto grupo vamos a reemplazarlos a todos por los <NA> de la libreria pandas. Además, como descubrimos que la diferencia entre los valores \"Muy deteriorados\" es que uno tiene un espacio al final vamos a reemplazar estos ultimos por los primeros que no lo tienen.</span>"
   ]
  },
  {
   "cell_type": "code",
   "execution_count": 165,
   "metadata": {},
   "outputs": [
    {
     "name": "stdout",
     "output_type": "stream",
     "text": [
      "calidad_de_agua\n",
      "Extremadamente deteriorada    127\n",
      "<NA>                           32\n",
      "Muy deteriorada                10\n",
      "Name: count, dtype: int64\n"
     ]
    }
   ],
   "source": [
    "import pandas as pd\n",
    "\n",
    "rd_copia[\"calidad_de_agua\"] = rd_copia[\"calidad_de_agua\"].replace([\"no muestreó\",\"no se muestreó\",\"en obra\", \"inaccesible\", \"no se midió\", pd.NA], pd.NA)\n",
    "rd_copia[\"calidad_de_agua\"] = rd_copia[\"calidad_de_agua\"].replace(\"Muy deteriorada \", \"Muy deteriorada\")\n",
    "\n",
    "conteo_por_calidad_de_agua = rd_copia[\"calidad_de_agua\"].value_counts(dropna= False)\n",
    "print(conteo_por_calidad_de_agua)"
   ]
  },
  {
   "cell_type": "markdown",
   "metadata": {},
   "source": [
    "Para terminar con esta columna la vamos a convertir a tipo String"
   ]
  },
  {
   "cell_type": "code",
   "execution_count": 166,
   "metadata": {},
   "outputs": [],
   "source": [
    "rd_copia[\"calidad_de_agua\"] = rd_copia[\"calidad_de_agua\"].astype(str)"
   ]
  },
  {
   "cell_type": "markdown",
   "metadata": {},
   "source": [
    "### Analisis de ica (Completado):\n"
   ]
  },
  {
   "cell_type": "markdown",
   "metadata": {},
   "source": [
    "Para evitar que los numeros entorpescan la busqueda de los nulos vamos a analizar la frecuencia de valores ordenados ascendentemente por indice."
   ]
  },
  {
   "cell_type": "code",
   "execution_count": 167,
   "metadata": {},
   "outputs": [],
   "source": [
    "# conteo_por_ica = rd_copia[\"ica\"].value_counts(dropna= False).sort_index(ascending=False)\n",
    "\n",
    "# print(conteo_por_ica)"
   ]
  },
  {
   "cell_type": "markdown",
   "metadata": {},
   "source": [
    "<span style=\"color:#99ff99; font-size:20px\">No pudimos ordenar los indices por que no se pueden comparar strings con int, por lo que encontramos dos alternativas: Mostrar la frecuencia de valores de todos los valores posibles o convertir de manera momentanea toda la columna a string para poder ordenar descendentemente los indices y luego de arreglar los valores sin sentido podemos devolver el tipo de columna a int. <br><br>\n",
    "Nosotros optamos por la segunda opcion, trabajando sobre una nueva copia del dataset para evitar perdida de informacion por algun error nuestro.</span>"
   ]
  },
  {
   "cell_type": "code",
   "execution_count": 168,
   "metadata": {},
   "outputs": [
    {
     "name": "stdout",
     "output_type": "stream",
     "text": [
      "ica\n",
      "no se pudo calcular    14\n",
      "no se muestreó          4\n",
      "no se midió             1\n",
      "no muestreó             7\n",
      "nan                     1\n",
      "inaccesible             2\n",
      "en obra                 3\n",
      "62                      1\n",
      "59                      1\n",
      "53                      1\n",
      "49                      1\n",
      "48                      1\n",
      "47                      2\n",
      "45                      3\n",
      "44                      1\n",
      "43                      1\n",
      "42                      1\n",
      "41                      3\n",
      "40                     16\n",
      "39                     12\n",
      "38                     13\n",
      "37                     22\n",
      "36                     10\n",
      "35                     18\n",
      "34                      8\n",
      "33                      5\n",
      "32                      5\n",
      "31                      2\n",
      "30                      2\n",
      "29                      4\n",
      "28                      2\n",
      "25                      1\n",
      "23                      1\n",
      "Name: count, dtype: int64\n"
     ]
    }
   ],
   "source": [
    "rd_copia_aux = rd_copia.copy()\n",
    "rd_copia_aux[\"ica\"] = rd_copia_aux[\"ica\"].astype(str)\n",
    "\n",
    "conteo_por_ica = rd_copia_aux[\"ica\"].value_counts(dropna= False).sort_index(ascending=False)\n",
    "print(conteo_por_ica)"
   ]
  },
  {
   "cell_type": "markdown",
   "metadata": {},
   "source": [
    "Como vimos que hay varios valores sin sentido, los vamos a reemplazar por NaN. "
   ]
  },
  {
   "cell_type": "code",
   "execution_count": 169,
   "metadata": {},
   "outputs": [
    {
     "name": "stdout",
     "output_type": "stream",
     "text": [
      "ica\n",
      "62       1\n",
      "59       1\n",
      "53       1\n",
      "49       1\n",
      "48       1\n",
      "47       2\n",
      "45       3\n",
      "44       1\n",
      "43       1\n",
      "42       1\n",
      "41       3\n",
      "40      16\n",
      "39      12\n",
      "38      13\n",
      "37      22\n",
      "36      10\n",
      "35      18\n",
      "34       8\n",
      "33       5\n",
      "32       5\n",
      "31       2\n",
      "30       2\n",
      "29       4\n",
      "28       2\n",
      "25       1\n",
      "23       1\n",
      "<NA>    32\n",
      "Name: count, dtype: int64\n"
     ]
    }
   ],
   "source": [
    "rd_copia[\"ica\"] = rd_copia[\"ica\"].replace([\"no se pudo calcular\",\"no se muestreó\",\"no se midió\", \"no muestreó\", \"inaccesible\", \"en obra\", pd.NA], pd.NA)\n",
    "\n",
    "conteo_por_ica = rd_copia[\"ica\"].value_counts(dropna= False).sort_index(ascending=False)\n",
    "print(conteo_por_ica)"
   ]
  },
  {
   "cell_type": "markdown",
   "metadata": {},
   "source": [
    "Por ultimo vamos a convertir la columna a tipo int"
   ]
  },
  {
   "cell_type": "code",
   "execution_count": 170,
   "metadata": {},
   "outputs": [],
   "source": [
    "rd_copia[\"ica\"] = pd.to_numeric(rd_copia[\"ica\"], errors='coerce')"
   ]
  },
  {
   "cell_type": "markdown",
   "metadata": {},
   "source": [
    "### Analisis de microcistina_ug_l (Completado):"
   ]
  },
  {
   "cell_type": "markdown",
   "metadata": {},
   "source": [
    "Para evitar que los numeros entorpescan la busqueda de los nulos vamos a analizar la frecuencia de valores ordenados ascendentemente por indice."
   ]
  },
  {
   "cell_type": "code",
   "execution_count": 171,
   "metadata": {},
   "outputs": [
    {
     "name": "stdout",
     "output_type": "stream",
     "text": [
      "microcistina_ug_l\n",
      "no se muestreó      4\n",
      "no se midió         1\n",
      "no muestreó         7\n",
      "inaccesible         2\n",
      "en obra             4\n",
      "Dato atípico        3\n",
      ">5.00              14\n",
      "<0.15             106\n",
      "2.98                1\n",
      "2.61                1\n",
      "2.42                1\n",
      "1.18                1\n",
      "0.99                1\n",
      "0.9                 1\n",
      "0.86                1\n",
      "0.79                1\n",
      "0.69                1\n",
      "0.58                1\n",
      "0.54                1\n",
      "0.41                2\n",
      "0.27                2\n",
      "0.25                1\n",
      "0.21                1\n",
      "0.20                1\n",
      "0.2                 1\n",
      "0.19                1\n",
      "0.18                1\n",
      "0.17                1\n",
      "0.16                3\n",
      "0.15                3\n",
      "Name: count, dtype: int64\n"
     ]
    }
   ],
   "source": [
    "conteo_por_microcistina_ug_l = rd_copia[\"microcistina_ug_l\"].value_counts(dropna= False).sort_index(ascending=False)\n",
    "\n",
    "print(conteo_por_microcistina_ug_l)"
   ]
  },
  {
   "cell_type": "markdown",
   "metadata": {},
   "source": [
    "Vamos a reemplazar los valores sin sentido por nulos en esta columna también"
   ]
  },
  {
   "cell_type": "code",
   "execution_count": 172,
   "metadata": {},
   "outputs": [
    {
     "name": "stdout",
     "output_type": "stream",
     "text": [
      "microcistina_ug_l\n",
      ">5.00     14\n",
      "<0.15    106\n",
      "2.98       1\n",
      "2.61       1\n",
      "2.42       1\n",
      "1.18       1\n",
      "0.99       1\n",
      "0.9        1\n",
      "0.86       1\n",
      "0.79       1\n",
      "0.69       1\n",
      "0.58       1\n",
      "0.54       1\n",
      "0.41       2\n",
      "0.27       2\n",
      "0.25       1\n",
      "0.21       1\n",
      "0.20       1\n",
      "0.2        1\n",
      "0.19       1\n",
      "0.18       1\n",
      "0.17       1\n",
      "0.16       3\n",
      "0.15       3\n",
      "<NA>      21\n",
      "Name: count, dtype: int64\n"
     ]
    }
   ],
   "source": [
    "rd_copia[\"microcistina_ug_l\"] = rd_copia[\"microcistina_ug_l\"].replace([\"no se muestreó\",\"no se midió\",\"no muestreó\", \"inaccesible\", \"en obra\", \"Dato atípico\"], pd.NA)\n",
    "\n",
    "conteo_por_microcistina_ug_l = rd_copia[\"microcistina_ug_l\"].value_counts(dropna= False).sort_index(ascending=False)\n",
    "print(conteo_por_microcistina_ug_l)"
   ]
  },
  {
   "cell_type": "markdown",
   "metadata": {},
   "source": [
    "Ahora vamos a reemplazar las cotas por valores puntuales para luego poder cambiar el tipo de dato de esta columna a float."
   ]
  },
  {
   "cell_type": "code",
   "execution_count": 173,
   "metadata": {},
   "outputs": [
    {
     "name": "stdout",
     "output_type": "stream",
     "text": [
      "microcistina_ug_l\n",
      "0.15    106\n",
      "<NA>     21\n",
      "5        14\n",
      "0.15      3\n",
      "0.16      3\n",
      "0.27      2\n",
      "0.41      2\n",
      "2.61      1\n",
      "0.21      1\n",
      "0.18      1\n",
      "0.99      1\n",
      "2.98      1\n",
      "0.54      1\n",
      "0.2       1\n",
      "0.9       1\n",
      "0.25      1\n",
      "0.17      1\n",
      "0.58      1\n",
      "0.20      1\n",
      "0.86      1\n",
      "0.19      1\n",
      "2.42      1\n",
      "0.69      1\n",
      "1.18      1\n",
      "0.79      1\n",
      "Name: count, dtype: int64\n"
     ]
    }
   ],
   "source": [
    "rd_copia[\"microcistina_ug_l\"] = rd_copia[\"microcistina_ug_l\"].replace(['>5.00'], 5)\n",
    "rd_copia[\"microcistina_ug_l\"] = rd_copia[\"microcistina_ug_l\"].replace(['<0.15'], 0.15)\n",
    "\n",
    "conteo_por_microcistina_ug_l = rd_copia[\"microcistina_ug_l\"].value_counts(dropna= False)\n",
    "print(conteo_por_microcistina_ug_l)"
   ]
  },
  {
   "cell_type": "markdown",
   "metadata": {},
   "source": [
    "Como paso final vamos a cambiar el tipo de la columna a Float."
   ]
  },
  {
   "cell_type": "code",
   "execution_count": 174,
   "metadata": {},
   "outputs": [],
   "source": [
    "# rd_copia[\"microcistina_ug_l\"] = rd_copia[\"microcistina_ug_l\"].astype(float)\n",
    "rd_copia[\"microcistina_ug_l\"] = pd.to_numeric(rd_copia[\"microcistina_ug_l\"], errors='coerce')"
   ]
  },
  {
   "cell_type": "markdown",
   "metadata": {},
   "source": [
    "### Analisis de nulos - clorofila_a_ug_l (Completado):"
   ]
  },
  {
   "cell_type": "markdown",
   "metadata": {},
   "source": [
    "Para evitar que los numeros entorpescan la busqueda de los nulos vamos a analizar la frecuencia de valores ordenados ascendentemente por indice."
   ]
  },
  {
   "cell_type": "code",
   "execution_count": 175,
   "metadata": {},
   "outputs": [],
   "source": [
    "# conteo_por_clorofila_a_ug_l = rd_copia[\"clorofila_a_ug_l\"].value_counts(dropna= False).sort_index(ascending=False)\n",
    "\n",
    "# print(conteo_por_clorofila_a_ug_l)"
   ]
  },
  {
   "cell_type": "markdown",
   "metadata": {},
   "source": [
    "No pudimos ordenar los indices por que no se pueden comparar strings con int, por lo que realizar el mismo procedimiento que aplicamos durante el analisis de la columna ica."
   ]
  },
  {
   "cell_type": "code",
   "execution_count": 176,
   "metadata": {},
   "outputs": [
    {
     "data": {
      "text/plain": [
       "clorofila_a_ug_l\n",
       "no se muestreó      4\n",
       "no se midió         1\n",
       "no muestreó         7\n",
       "inaccesible         2\n",
       "falto un frasco     3\n",
       "en obra             4\n",
       "<10.00             27\n",
       "<0.10              13\n",
       "94.81               1\n",
       "84.8                1\n",
       "82.3                1\n",
       "8.57                1\n",
       "8.22                1\n",
       "740.93              1\n",
       "7.62                1\n",
       "7.51                1\n",
       "7.40                1\n",
       "7.24                1\n",
       "67.76               1\n",
       "6.7                 1\n",
       "6.40                1\n",
       "6.13                1\n",
       "54.87               1\n",
       "53.07               1\n",
       "52.69               1\n",
       "5.99                2\n",
       "5.91                1\n",
       "5.52                1\n",
       "48.1                1\n",
       "47.31               1\n",
       "45.07               1\n",
       "44.42               1\n",
       "42.7                1\n",
       "41.65               1\n",
       "4.57                1\n",
       "4.54                1\n",
       "37.4                1\n",
       "34.02               1\n",
       "32.49               1\n",
       "30.9                1\n",
       "30.49               1\n",
       "30                  1\n",
       "3.99                1\n",
       "3.85                3\n",
       "3.67                1\n",
       "3.48                1\n",
       "3.45                1\n",
       "3.30                1\n",
       "3.11                1\n",
       "3.1                 2\n",
       "29.02               1\n",
       "28.85               1\n",
       "25.58               1\n",
       "20.82               1\n",
       "20.60               1\n",
       "20.52               1\n",
       "2.83                1\n",
       "2.79                2\n",
       "2.72                1\n",
       "2.61                3\n",
       "2.56                1\n",
       "2.23                1\n",
       "19.6                1\n",
       "19.4                1\n",
       "19.25               1\n",
       "18.75               1\n",
       "18.37               1\n",
       "174.32              1\n",
       "17.5                1\n",
       "17.42               1\n",
       "17.13               1\n",
       "17.06               1\n",
       "16.87               1\n",
       "152.11              1\n",
       "15.4                1\n",
       "133.41              1\n",
       "126.75              1\n",
       "120.95              1\n",
       "12.7                1\n",
       "11.81               1\n",
       "11.02               1\n",
       "101.82              2\n",
       "10.89               1\n",
       "10.7                2\n",
       "10.61               1\n",
       "1.81                2\n",
       "1.47                1\n",
       "1.31                3\n",
       "1.28                1\n",
       "1.20                1\n",
       "1.06                1\n",
       "1.02                1\n",
       "0.94                1\n",
       "0.91                1\n",
       "0.87                2\n",
       "0.67                1\n",
       "0.59                1\n",
       "0.45                2\n",
       "0.42                1\n",
       "0.36                1\n",
       "0.35                2\n",
       "Name: count, dtype: int64"
      ]
     },
     "execution_count": 176,
     "metadata": {},
     "output_type": "execute_result"
    }
   ],
   "source": [
    "rd_copia_aux = rd_copia.copy()\n",
    "rd_copia_aux[\"clorofila_a_ug_l\"] = rd_copia_aux[\"clorofila_a_ug_l\"].astype(str)\n",
    "\n",
    "conteo_por_clorofila_a_ug_l = rd_copia_aux[\"clorofila_a_ug_l\"].value_counts(dropna= False).sort_index(ascending=False)\n",
    "conteo_por_clorofila_a_ug_l"
   ]
  },
  {
   "cell_type": "markdown",
   "metadata": {},
   "source": [
    "Vamos a cambiar los valores sin sentido por NaN aca también"
   ]
  },
  {
   "cell_type": "code",
   "execution_count": 177,
   "metadata": {},
   "outputs": [
    {
     "name": "stdout",
     "output_type": "stream",
     "text": [
      "clorofila_a_ug_l\n",
      "en obra     4\n",
      "<10.00     27\n",
      "<0.10      13\n",
      "94.81       1\n",
      "84.8        1\n",
      "82.3        1\n",
      "8.57        1\n",
      "8.22        1\n",
      "740.93      1\n",
      "7.62        1\n",
      "7.51        1\n",
      "7.40        1\n",
      "7.24        1\n",
      "67.76       1\n",
      "6.7         1\n",
      "6.40        1\n",
      "6.13        1\n",
      "54.87       1\n",
      "53.07       1\n",
      "52.69       1\n",
      "5.99        2\n",
      "5.91        1\n",
      "5.52        1\n",
      "48.1        1\n",
      "47.31       1\n",
      "45.07       1\n",
      "44.42       1\n",
      "42.7        1\n",
      "41.65       1\n",
      "4.57        1\n",
      "4.54        1\n",
      "37.4        1\n",
      "34.02       1\n",
      "32.49       1\n",
      "30.9        1\n",
      "30.49       1\n",
      "30          1\n",
      "3.99        1\n",
      "3.85        3\n",
      "3.67        1\n",
      "3.48        1\n",
      "3.45        1\n",
      "3.30        1\n",
      "3.11        1\n",
      "3.1         2\n",
      "29.02       1\n",
      "28.85       1\n",
      "25.58       1\n",
      "20.82       1\n",
      "20.60       1\n",
      "20.52       1\n",
      "2.83        1\n",
      "2.79        2\n",
      "2.72        1\n",
      "2.61        3\n",
      "2.56        1\n",
      "2.23        1\n",
      "19.6        1\n",
      "19.4        1\n",
      "19.25       1\n",
      "18.75       1\n",
      "18.37       1\n",
      "174.32      1\n",
      "17.5        1\n",
      "17.42       1\n",
      "17.13       1\n",
      "17.06       1\n",
      "16.87       1\n",
      "152.11      1\n",
      "15.4        1\n",
      "133.41      1\n",
      "126.75      1\n",
      "120.95      1\n",
      "12.7        1\n",
      "11.81       1\n",
      "11.02       1\n",
      "101.82      2\n",
      "10.89       1\n",
      "10.7        2\n",
      "10.61       1\n",
      "1.81        2\n",
      "1.47        1\n",
      "1.31        3\n",
      "1.28        1\n",
      "1.20        1\n",
      "1.06        1\n",
      "1.02        1\n",
      "0.94        1\n",
      "0.91        1\n",
      "0.87        2\n",
      "0.67        1\n",
      "0.59        1\n",
      "0.45        2\n",
      "0.42        1\n",
      "0.36        1\n",
      "0.35        2\n",
      "<NA>       17\n",
      "Name: count, dtype: int64\n"
     ]
    }
   ],
   "source": [
    "rd_copia_aux[\"clorofila_a_ug_l\"] = rd_copia_aux[\"clorofila_a_ug_l\"].replace([\"no se muestreó\",\"no se midió\", \"no muestreó\", \"inaccesible\", \"falto un frasco\"], pd.NA)\n",
    "\n",
    "conteo_por_clorofila_a_ug_l_aux = rd_copia_aux[\"clorofila_a_ug_l\"].value_counts(dropna= False).sort_index(ascending=False)\n",
    "print(conteo_por_clorofila_a_ug_l_aux)"
   ]
  },
  {
   "cell_type": "markdown",
   "metadata": {},
   "source": [
    "Por lo que podemos ver hay un valor mas que no tiene sentido y que pasamos por alto por lo que vamos a reemplazarlo directamente en el dataset copia y no en el auxiliar."
   ]
  },
  {
   "cell_type": "code",
   "execution_count": 178,
   "metadata": {},
   "outputs": [
    {
     "name": "stdout",
     "output_type": "stream",
     "text": [
      "clorofila_a_ug_l\n",
      "<10.00    27\n",
      "<NA>      21\n",
      "<0.10     13\n",
      "1.31       3\n",
      "3.85       3\n",
      "2.61       3\n",
      "1.81       2\n",
      "5.99       2\n",
      "2.79       2\n",
      "0.35       2\n",
      "10.7       2\n",
      "0.87       2\n",
      "101.82     2\n",
      "3.1        2\n",
      "0.45       2\n",
      "1.02       1\n",
      "4.54       1\n",
      "8.57       1\n",
      "7.51       1\n",
      "10.89      1\n",
      "11.02      1\n",
      "18.37      1\n",
      "7.24       1\n",
      "30         1\n",
      "12.7       1\n",
      "3.99       1\n",
      "1.28       1\n",
      "0.42       1\n",
      "16.87      1\n",
      "0.67       1\n",
      "10.61      1\n",
      "2.56       1\n",
      "11.81      1\n",
      "25.58      1\n",
      "0.91       1\n",
      "0.59       1\n",
      "6.40       1\n",
      "0.94       1\n",
      "2.83       1\n",
      "6.7        1\n",
      "2.72       1\n",
      "1.06       1\n",
      "0.36       1\n",
      "3.30       1\n",
      "20.82      1\n",
      "2.23       1\n",
      "19.6       1\n",
      "7.40       1\n",
      "3.48       1\n",
      "3.67       1\n",
      "7.62       1\n",
      "5.52       1\n",
      "15.4       1\n",
      "4.57       1\n",
      "6.13       1\n",
      "17.06      1\n",
      "44.42      1\n",
      "3.45       1\n",
      "1.47       1\n",
      "17.13      1\n",
      "1.20       1\n",
      "174.32     1\n",
      "5.91       1\n",
      "3.11       1\n",
      "133.41     1\n",
      "126.75     1\n",
      "48.1       1\n",
      "120.95     1\n",
      "42.7       1\n",
      "94.81      1\n",
      "19.4       1\n",
      "28.85      1\n",
      "82.3       1\n",
      "152.11     1\n",
      "67.76      1\n",
      "740.93     1\n",
      "20.60      1\n",
      "84.8       1\n",
      "52.69      1\n",
      "17.5       1\n",
      "18.75      1\n",
      "34.02      1\n",
      "32.49      1\n",
      "53.07      1\n",
      "47.31      1\n",
      "30.9       1\n",
      "17.42      1\n",
      "29.02      1\n",
      "30.49      1\n",
      "20.52      1\n",
      "41.65      1\n",
      "8.22       1\n",
      "19.25      1\n",
      "54.87      1\n",
      "37.4       1\n",
      "45.07      1\n",
      "Name: count, dtype: int64\n"
     ]
    }
   ],
   "source": [
    "import pandas as pd\n",
    "pd.set_option('display.max_rows', 100)\n",
    "\n",
    "rd_copia[\"clorofila_a_ug_l\"] = rd_copia[\"clorofila_a_ug_l\"].replace([\"no se muestreó\",\"no se midió\", \"no muestreó\", \"inaccesible\", \"falto un frasco\", \"en obra\"], pd.NA)\n",
    "\n",
    "conteo_por_clorofila_a_ug_l = rd_copia[\"clorofila_a_ug_l\"].value_counts(dropna= False)\n",
    "print(conteo_por_clorofila_a_ug_l)"
   ]
  },
  {
   "cell_type": "markdown",
   "metadata": {},
   "source": [
    "Estuvimos investigando sobre que valores podia adoptar una medicion de clorofila como la del dataset. Terminamos encontrando los valores adoptados por la normativa RES ADA 42 que indica que el valor adoptado debe ser 50 ug/l. Ahora bien, no estamos seguros si se refiere a el valor maximo permitido, pero suponemos que lo es debido a otras busquedas relacionada ([Ministerio de Uruguay](https://www.ambiente.gub.uy/indicadores_ambientales/ficha/oan-concentracion-de-clorofila-a/)). Por lo tanto decidimos que el valor \"740.93 \" es probablemente un outlier producto de un error en la carga de la medicion, por ende lo vamos a reemplazar por 74.93.\n",
    "Por otro lado con el tema de las cotas decidimos lo siguiente:\n",
    "\n",
    "<0.10: En este caso vamos a actuar de manera similar al caso de la microcistina, es decir, reemplazaremos este valor por 0.10\n",
    "\n",
    "<10.00: En este caso suponemos que lo más adecuado es cambiar estas cotas por 10."
   ]
  },
  {
   "cell_type": "code",
   "execution_count": 179,
   "metadata": {},
   "outputs": [
    {
     "name": "stdout",
     "output_type": "stream",
     "text": [
      "clorofila_a_ug_l\n",
      "10        27\n",
      "<NA>      21\n",
      "0.1       13\n",
      "1.31       3\n",
      "3.85       3\n",
      "2.61       3\n",
      "1.81       2\n",
      "5.99       2\n",
      "2.79       2\n",
      "0.35       2\n",
      "10.7       2\n",
      "0.87       2\n",
      "101.82     2\n",
      "3.1        2\n",
      "0.45       2\n",
      "1.02       1\n",
      "4.54       1\n",
      "8.57       1\n",
      "7.51       1\n",
      "10.89      1\n",
      "11.02      1\n",
      "18.37      1\n",
      "7.24       1\n",
      "30         1\n",
      "12.7       1\n",
      "3.99       1\n",
      "1.28       1\n",
      "0.42       1\n",
      "16.87      1\n",
      "0.67       1\n",
      "10.61      1\n",
      "2.56       1\n",
      "11.81      1\n",
      "25.58      1\n",
      "0.91       1\n",
      "0.59       1\n",
      "6.40       1\n",
      "0.94       1\n",
      "2.83       1\n",
      "6.7        1\n",
      "2.72       1\n",
      "1.06       1\n",
      "0.36       1\n",
      "3.30       1\n",
      "20.82      1\n",
      "2.23       1\n",
      "19.6       1\n",
      "7.40       1\n",
      "3.48       1\n",
      "3.67       1\n",
      "7.62       1\n",
      "5.52       1\n",
      "15.4       1\n",
      "4.57       1\n",
      "6.13       1\n",
      "17.06      1\n",
      "44.42      1\n",
      "3.45       1\n",
      "1.47       1\n",
      "17.13      1\n",
      "1.20       1\n",
      "174.32     1\n",
      "5.91       1\n",
      "3.11       1\n",
      "133.41     1\n",
      "126.75     1\n",
      "48.1       1\n",
      "120.95     1\n",
      "42.7       1\n",
      "94.81      1\n",
      "19.4       1\n",
      "28.85      1\n",
      "82.3       1\n",
      "152.11     1\n",
      "67.76      1\n",
      "74.93      1\n",
      "20.60      1\n",
      "84.8       1\n",
      "52.69      1\n",
      "17.5       1\n",
      "18.75      1\n",
      "34.02      1\n",
      "32.49      1\n",
      "53.07      1\n",
      "47.31      1\n",
      "30.9       1\n",
      "17.42      1\n",
      "29.02      1\n",
      "30.49      1\n",
      "20.52      1\n",
      "41.65      1\n",
      "8.22       1\n",
      "19.25      1\n",
      "54.87      1\n",
      "37.4       1\n",
      "45.07      1\n",
      "Name: count, dtype: int64\n"
     ]
    }
   ],
   "source": [
    "rd_copia[\"clorofila_a_ug_l\"] = rd_copia[\"clorofila_a_ug_l\"].replace(['<0.10'], 0.10)\n",
    "rd_copia[\"clorofila_a_ug_l\"] = rd_copia[\"clorofila_a_ug_l\"].replace(['<10.00'], 10)\n",
    "rd_copia[\"clorofila_a_ug_l\"] = rd_copia[\"clorofila_a_ug_l\"].replace(['740.93'], 74.93)\n",
    "\n",
    "conteo_por_clorofila_a_ug_l = rd_copia[\"clorofila_a_ug_l\"].value_counts(dropna= False)\n",
    "print(conteo_por_clorofila_a_ug_l)"
   ]
  },
  {
   "cell_type": "markdown",
   "metadata": {},
   "source": [
    "Para finalizar con esta columna la vamos a convertir al tipo float."
   ]
  },
  {
   "cell_type": "code",
   "execution_count": 180,
   "metadata": {},
   "outputs": [],
   "source": [
    "rd_copia[\"clorofila_a_ug_l\"] = pd.to_numeric(rd_copia[\"clorofila_a_ug_l\"], errors='coerce')"
   ]
  },
  {
   "cell_type": "markdown",
   "metadata": {},
   "source": [
    "### Analisis de nulos - cd_total_mg_l (Completado):"
   ]
  },
  {
   "cell_type": "markdown",
   "metadata": {},
   "source": [
    "Para evitar que los numeros entorpescan la busqueda de los nulos vamos a analizar la frecuencia de valores ordenados ascendentemente por indice."
   ]
  },
  {
   "cell_type": "code",
   "execution_count": 181,
   "metadata": {},
   "outputs": [
    {
     "name": "stdout",
     "output_type": "stream",
     "text": [
      "cd_total_mg_l\n",
      "no se muestreó      4\n",
      "no se midió         1\n",
      "no muestreó         7\n",
      "inaccesible         2\n",
      "en obra             4\n",
      "<1.0               41\n",
      "<0.001            110\n",
      "Name: count, dtype: int64\n"
     ]
    }
   ],
   "source": [
    "conteo_por_cd_total_mg_l = rd_copia[\"cd_total_mg_l\"].value_counts(dropna= False).sort_index(ascending=False)\n",
    "\n",
    "print(conteo_por_cd_total_mg_l)"
   ]
  },
  {
   "cell_type": "markdown",
   "metadata": {},
   "source": [
    "Vamos a cambiar los valores sin sentido por NaN"
   ]
  },
  {
   "cell_type": "code",
   "execution_count": 182,
   "metadata": {},
   "outputs": [
    {
     "name": "stdout",
     "output_type": "stream",
     "text": [
      "cd_total_mg_l\n",
      "<0.001    110\n",
      "<1.0       41\n",
      "<NA>       18\n",
      "Name: count, dtype: int64\n"
     ]
    }
   ],
   "source": [
    "rd_copia[\"cd_total_mg_l\"] = rd_copia[\"cd_total_mg_l\"].replace([\"no se muestreó\",\"no se midió\", \"no muestreó\", \"inaccesible\", \"en obra\"], pd.NA)\n",
    "\n",
    "conteo_por_cd_total_mg_l = rd_copia[\"cd_total_mg_l\"].value_counts(dropna= False)\n",
    "print(conteo_por_cd_total_mg_l)"
   ]
  },
  {
   "cell_type": "markdown",
   "metadata": {},
   "source": [
    "<span style=\"color:YELLOW; font-size:60px\">Esto va en el informe: </span> \n",
    "<br>\n",
    "Luego de investigar los valores de referencia aportados por Res. ACUMAR 46/2017 ([Monitoreo calidad del agua en el Rio de la Plata. Campaña Otoño 2023](https://ciam.ambiente.gob.ar/images/uploaded/datasets/368/Metadata_Monitoreo_calidad_Rio_de_la_Plata_oto%C3%B1o_2023.pdf)) podemos asegurar que los valores medidos entran en dos categorias (Seguras para la vida acuatica [<0.001] y las Peligrosas para la vida acuatica [<1.0]). Como aclaracion, somos concientes de que las mediciones mas seguras estan comprendidas por la cota <1.00, sin embargo interpretamos que estas están mal cargadas en el dataset o que de todas maneras querian representar valores no seguros considerando la referencia de la resolucion. Teniendo todo esto en cuenta consideramos apropiado Cambiar esta columna por una que tenga como nombre \"Alta concentracion de Cadmio\", de tipo booleana, donde se representen con true o false los dos grupos representados por las mediciones."
   ]
  },
  {
   "cell_type": "markdown",
   "metadata": {},
   "source": [
    "Modificacion de la columna para convertirla en booleana.\n"
   ]
  },
  {
   "cell_type": "code",
   "execution_count": 183,
   "metadata": {},
   "outputs": [
    {
     "name": "stdout",
     "output_type": "stream",
     "text": [
      "Alta_presencia_de_cadmio\n",
      "0       110\n",
      "1        41\n",
      "<NA>     18\n",
      "Name: count, dtype: int64\n"
     ]
    }
   ],
   "source": [
    "# Reemplazo de valores\n",
    "rd_copia[\"cd_total_mg_l\"] = rd_copia[\"cd_total_mg_l\"].replace([\"<0.001\"], 0)\n",
    "rd_copia[\"cd_total_mg_l\"] = rd_copia[\"cd_total_mg_l\"].replace([\"<1.0\"], 1)\n",
    "\n",
    "#Cambio del nombre de la columna\n",
    "rd_copia.rename(columns={'cd_total_mg_l': 'Alta_presencia_de_cadmio'}, inplace=True)\n",
    "\n",
    "conteo_por_olores = rd_copia[\"Alta_presencia_de_cadmio\"].value_counts(dropna= False)\n",
    "print(conteo_por_olores)"
   ]
  },
  {
   "cell_type": "markdown",
   "metadata": {},
   "source": [
    "Cambio del tipo de la columna a booleano."
   ]
  },
  {
   "cell_type": "code",
   "execution_count": 184,
   "metadata": {},
   "outputs": [],
   "source": [
    "rd_copia[\"Alta_presencia_de_cadmio\"] = rd_copia[\"Alta_presencia_de_cadmio\"].astype('boolean')"
   ]
  },
  {
   "cell_type": "markdown",
   "metadata": {},
   "source": [
    "### Analisis de nulos - cr_total_mg_l (Completado):"
   ]
  },
  {
   "cell_type": "code",
   "execution_count": 185,
   "metadata": {},
   "outputs": [
    {
     "name": "stdout",
     "output_type": "stream",
     "text": [
      "cr_total_mg_l\n",
      "<0.005            126\n",
      "no muestreó         7\n",
      "0                   6\n",
      "en obra             4\n",
      "no se muestreó      4\n",
      "0.005               3\n",
      "0.007               3\n",
      "inaccesible         2\n",
      "0.006               2\n",
      "7                   1\n",
      "6                   1\n",
      "no se midió         1\n",
      "0.0051              1\n",
      "0.033               1\n",
      "0.0055              1\n",
      "0.0078              1\n",
      "0.0075              1\n",
      "0.009               1\n",
      "0.011               1\n",
      "0.0076              1\n",
      "0.008               1\n",
      "Name: count, dtype: int64\n"
     ]
    }
   ],
   "source": [
    "conteo_por_cr_total_mg_l = rd_copia[\"cr_total_mg_l\"].value_counts(dropna= False)\n",
    "\n",
    "print(conteo_por_cr_total_mg_l)"
   ]
  },
  {
   "cell_type": "markdown",
   "metadata": {},
   "source": [
    "Reemplazo por nulos:"
   ]
  },
  {
   "cell_type": "code",
   "execution_count": 186,
   "metadata": {},
   "outputs": [
    {
     "name": "stdout",
     "output_type": "stream",
     "text": [
      "cr_total_mg_l\n",
      "<0.005    126\n",
      "<NA>       18\n",
      "0           6\n",
      "0.005       3\n",
      "0.007       3\n",
      "0.006       2\n",
      "7           1\n",
      "0.0051      1\n",
      "6           1\n",
      "0.033       1\n",
      "0.0055      1\n",
      "0.0075      1\n",
      "0.0078      1\n",
      "0.009       1\n",
      "0.011       1\n",
      "0.0076      1\n",
      "0.008       1\n",
      "Name: count, dtype: int64\n"
     ]
    }
   ],
   "source": [
    "rd_copia[\"cr_total_mg_l\"] = rd_copia[\"cr_total_mg_l\"].replace([\"no se muestreó\",\"no se midió\", \"no muestreó\", \"inaccesible\", \"en obra\"], pd.NA)\n",
    "\n",
    "conteo_por_cr_total_mg_l = rd_copia[\"cr_total_mg_l\"].value_counts(dropna= False)\n",
    "print(conteo_por_cr_total_mg_l)"
   ]
  },
  {
   "cell_type": "markdown",
   "metadata": {},
   "source": [
    "Luego de investigar los valores de referencia aportados por Res. ACUMAR 46/2017 ([Monitoreo calidad del agua en el Rio de la Plata. Campaña Otoño 2023](https://ciam.ambiente.gob.ar/images/uploaded/datasets/368/Metadata_Monitoreo_calidad_Rio_de_la_Plata_oto%C3%B1o_2023.pdf)) podemos asegurar que los valores medidos tienen sentido en su mayoria. La cota \"<0.005\" representan valores muy por debajo de la referencia maxima establecida por la resolucion (50 ug/l ), por lo tanto pensamos que podriamos reemplazarlos por 0.0025 o 0.005. Por otra parte contamos con 2 outlayers (7 y 6) que no estariamos seguros de como tratar. Consideramos que seria una buena idea cambiar a los outliers por el valor mas alto registrado a parte de estos, en este caso 0.033.\n"
   ]
  },
  {
   "cell_type": "markdown",
   "metadata": {},
   "source": [
    "Reemplazo de cotas:"
   ]
  },
  {
   "cell_type": "code",
   "execution_count": 187,
   "metadata": {},
   "outputs": [
    {
     "name": "stdout",
     "output_type": "stream",
     "text": [
      "cr_total_mg_l\n",
      "0.005     126\n",
      "<NA>       18\n",
      "0           6\n",
      "0.005       3\n",
      "0.007       3\n",
      "0.033       2\n",
      "0.006       2\n",
      "0.0051      1\n",
      "0.033       1\n",
      "0.0055      1\n",
      "0.0075      1\n",
      "0.0078      1\n",
      "0.009       1\n",
      "0.011       1\n",
      "0.0076      1\n",
      "0.008       1\n",
      "Name: count, dtype: int64\n"
     ]
    }
   ],
   "source": [
    "rd_copia[\"cr_total_mg_l\"] = rd_copia[\"cr_total_mg_l\"].replace(['<0.005'], 0.005)\n",
    "rd_copia[\"cr_total_mg_l\"] = rd_copia[\"cr_total_mg_l\"].replace(['6', '7'], 0.033)\n",
    "\n",
    "conteo_por_cr_total_mg_l = rd_copia[\"cr_total_mg_l\"].value_counts(dropna= False)\n",
    "print(conteo_por_cr_total_mg_l)"
   ]
  },
  {
   "cell_type": "markdown",
   "metadata": {},
   "source": [
    "Cambio del tipo de la columna a float:"
   ]
  },
  {
   "cell_type": "code",
   "execution_count": 188,
   "metadata": {},
   "outputs": [],
   "source": [
    "rd_copia[\"cr_total_mg_l\"] = pd.to_numeric(rd_copia[\"cr_total_mg_l\"], errors='coerce')"
   ]
  },
  {
   "cell_type": "markdown",
   "metadata": {},
   "source": [
    "### Analisis de nulos - hidr_deriv_petr_ug_l (Eliminada):"
   ]
  },
  {
   "cell_type": "code",
   "execution_count": 189,
   "metadata": {},
   "outputs": [
    {
     "name": "stdout",
     "output_type": "stream",
     "text": [
      "hidr_deriv_petr_ug_l\n",
      "<0.10             150\n",
      "no muestreó         7\n",
      "en obra             4\n",
      "no se muestreó      4\n",
      "inaccesible         2\n",
      "no se midió         1\n",
      "sin muestra         1\n",
      "Name: count, dtype: int64\n"
     ]
    }
   ],
   "source": [
    "conteo_por_hidr_deriv_petr_ug_l = rd_copia[\"hidr_deriv_petr_ug_l\"].value_counts(dropna= False)\n",
    "\n",
    "print(conteo_por_hidr_deriv_petr_ug_l)"
   ]
  },
  {
   "cell_type": "code",
   "execution_count": 190,
   "metadata": {},
   "outputs": [
    {
     "name": "stdout",
     "output_type": "stream",
     "text": [
      "hidr_deriv_petr_ug_l\n",
      "<0.10    150\n",
      "<NA>      19\n",
      "Name: count, dtype: int64\n"
     ]
    }
   ],
   "source": [
    "rd_copia[\"hidr_deriv_petr_ug_l\"] = rd_copia[\"hidr_deriv_petr_ug_l\"].replace([\"no se muestreó\",\"no se midió\", \"no muestreó\", \"inaccesible\", \"en obra\", \"sin muestra\"], pd.NA)\n",
    "\n",
    "conteo_por_hidr_deriv_petr_ug_l = rd_copia[\"hidr_deriv_petr_ug_l\"].value_counts(dropna= False)\n",
    "print(conteo_por_hidr_deriv_petr_ug_l)"
   ]
  },
  {
   "cell_type": "markdown",
   "metadata": {},
   "source": [
    "<span style=\"color:YELLOW; font-size:60px\">Esto va en el informe: </span> \n",
    "<br>\n",
    "En vista de que absolutamente todas las mediciones corresponden al mismo valor y que segun Res. ACUMAR 46/2017 ([Monitoreo calidad del agua en el Rio de la Plata. Campaña Otoño 2023](https://ciam.ambiente.gob.ar/images/uploaded/datasets/368/Metadata_Monitoreo_calidad_Rio_de_la_Plata_oto%C3%B1o_2023.pdf)) son valores muy pequeños en comparacion a la referencia dada, consideramos que no nos aporta ninguna informacion adiocional ademas de que en todos los sitios de medicion la condicion de Hidrocarburos derivados del Petróleo es muy positiva (No hay casi nada) y por lo tanto la vamos a eliminar.\n"
   ]
  },
  {
   "cell_type": "markdown",
   "metadata": {},
   "source": [
    "Eliminacion de la columna hidr_deriv_petr_ug_l"
   ]
  },
  {
   "cell_type": "code",
   "execution_count": 191,
   "metadata": {},
   "outputs": [],
   "source": [
    "rd_copia = rd_copia.drop('hidr_deriv_petr_ug_l', axis = 1)"
   ]
  },
  {
   "cell_type": "markdown",
   "metadata": {},
   "source": [
    "### Analisis de nulos - turbiedad_ntu (Completado):"
   ]
  },
  {
   "cell_type": "code",
   "execution_count": 192,
   "metadata": {},
   "outputs": [
    {
     "name": "stdout",
     "output_type": "stream",
     "text": [
      "turbiedad_ntu\n",
      "no muestreó       7\n",
      "45.00             6\n",
      "24                5\n",
      "20                5\n",
      "21                5\n",
      "17                5\n",
      "13                4\n",
      "40.00             4\n",
      "no se muestreó    4\n",
      "50                4\n",
      "en obra           4\n",
      "23                4\n",
      "12                4\n",
      "28                3\n",
      "39                3\n",
      "18                3\n",
      "16                3\n",
      "12.00             3\n",
      "15                3\n",
      "14                3\n",
      "19                3\n",
      "32                3\n",
      "50.00             3\n",
      "27                3\n",
      "65                2\n",
      "11                2\n",
      "17.00             2\n",
      "38                2\n",
      "60.00             2\n",
      "29                2\n",
      "45                2\n",
      "95                2\n",
      "55                2\n",
      "23.00             2\n",
      "14.00             2\n",
      "33                2\n",
      "32.00             2\n",
      "27.00             2\n",
      "inaccesible       2\n",
      "30                2\n",
      "70.00             2\n",
      "20.00             2\n",
      "75                2\n",
      "26                2\n",
      "37                1\n",
      "8.7               1\n",
      "6                 1\n",
      "66                1\n",
      "21.00             1\n",
      "6.1               1\n",
      "3.50              1\n",
      "no se midió       1\n",
      "6.2               1\n",
      "13.00             1\n",
      "4                 1\n",
      "65.00             1\n",
      "3.1               1\n",
      "8                 1\n",
      "35                1\n",
      "37.00             1\n",
      "11.00             1\n",
      "25                1\n",
      "68.00             1\n",
      "22.00             1\n",
      "120               1\n",
      "140               1\n",
      "9.3               1\n",
      "22                1\n",
      "150               1\n",
      "60                1\n",
      "80                1\n",
      "40                1\n",
      "432               1\n",
      "25.00             1\n",
      "2.9               1\n",
      "70                1\n",
      "34                1\n",
      "90                1\n",
      "110               1\n",
      "Name: count, dtype: int64\n"
     ]
    }
   ],
   "source": [
    "import pandas as pd\n",
    "pd.set_option('display.max_rows', 80)\n",
    "\n",
    "conteo_por_turbiedad_ntu = rd_copia[\"turbiedad_ntu\"].value_counts(dropna= False)\n",
    "\n",
    "print(conteo_por_turbiedad_ntu)"
   ]
  },
  {
   "cell_type": "markdown",
   "metadata": {},
   "source": [
    "Otra vez reemplazando los valores sin sentido..."
   ]
  },
  {
   "cell_type": "code",
   "execution_count": 193,
   "metadata": {},
   "outputs": [
    {
     "name": "stdout",
     "output_type": "stream",
     "text": [
      "turbiedad_ntu\n",
      "<NA>     18\n",
      "45.00     6\n",
      "21        5\n",
      "20        5\n",
      "17        5\n",
      "24        5\n",
      "13        4\n",
      "23        4\n",
      "50        4\n",
      "40.00     4\n",
      "12        4\n",
      "32        3\n",
      "16        3\n",
      "12.00     3\n",
      "15        3\n",
      "18        3\n",
      "50.00     3\n",
      "28        3\n",
      "39        3\n",
      "19        3\n",
      "27        3\n",
      "14        3\n",
      "45        2\n",
      "29        2\n",
      "38        2\n",
      "11        2\n",
      "60.00     2\n",
      "95        2\n",
      "17.00     2\n",
      "65        2\n",
      "23.00     2\n",
      "26        2\n",
      "33        2\n",
      "14.00     2\n",
      "27.00     2\n",
      "30        2\n",
      "55        2\n",
      "75        2\n",
      "20.00     2\n",
      "70.00     2\n",
      "32.00     2\n",
      "37        1\n",
      "6         1\n",
      "21.00     1\n",
      "6.1       1\n",
      "3.50      1\n",
      "6.2       1\n",
      "4         1\n",
      "13.00     1\n",
      "8.7       1\n",
      "65.00     1\n",
      "3.1       1\n",
      "25        1\n",
      "22        1\n",
      "8         1\n",
      "66        1\n",
      "37.00     1\n",
      "11.00     1\n",
      "68.00     1\n",
      "120       1\n",
      "140       1\n",
      "9.3       1\n",
      "150       1\n",
      "35        1\n",
      "22.00     1\n",
      "80        1\n",
      "60        1\n",
      "40        1\n",
      "432       1\n",
      "25.00     1\n",
      "2.9       1\n",
      "70        1\n",
      "34        1\n",
      "90        1\n",
      "110       1\n",
      "Name: count, dtype: int64\n"
     ]
    }
   ],
   "source": [
    "rd_copia[\"turbiedad_ntu\"] = rd_copia[\"turbiedad_ntu\"].replace([\"no se muestreó\",\"no se midió\", \"no muestreó\", \"inaccesible\", \"en obra\"], pd.NA)\n",
    "\n",
    "conteo_por_turbiedad_ntu = rd_copia[\"turbiedad_ntu\"].value_counts(dropna= False)\n",
    "print(conteo_por_turbiedad_ntu)"
   ]
  },
  {
   "cell_type": "markdown",
   "metadata": {},
   "source": [
    "Luego de revisar la resolucion Res ADA 42 ([Monitoreo calidad del agua en el Rio de la Plata. Campaña Otoño 2023](https://ciam.ambiente.gob.ar/images/uploaded/datasets/368/Metadata_Monitoreo_calidad_Rio_de_la_Plata_oto%C3%B1o_2023.pdf)) llegamos a la conclusion que la mayoria de valores corresponden a una medicion correcta, a excepcion del valor 432 que consideramos que probablemente sea 43,2."
   ]
  },
  {
   "cell_type": "code",
   "execution_count": 194,
   "metadata": {},
   "outputs": [
    {
     "name": "stdout",
     "output_type": "stream",
     "text": [
      "turbiedad_ntu\n",
      "<NA>     18\n",
      "45.00     6\n",
      "21        5\n",
      "20        5\n",
      "17        5\n",
      "24        5\n",
      "13        4\n",
      "23        4\n",
      "50        4\n",
      "40.00     4\n",
      "12        4\n",
      "32        3\n",
      "16        3\n",
      "12.00     3\n",
      "15        3\n",
      "18        3\n",
      "50.00     3\n",
      "28        3\n",
      "39        3\n",
      "19        3\n",
      "27        3\n",
      "14        3\n",
      "45        2\n",
      "29        2\n",
      "38        2\n",
      "11        2\n",
      "60.00     2\n",
      "95        2\n",
      "17.00     2\n",
      "65        2\n",
      "23.00     2\n",
      "26        2\n",
      "33        2\n",
      "14.00     2\n",
      "27.00     2\n",
      "30        2\n",
      "55        2\n",
      "75        2\n",
      "20.00     2\n",
      "70.00     2\n",
      "32.00     2\n",
      "37        1\n",
      "6         1\n",
      "21.00     1\n",
      "6.1       1\n",
      "3.50      1\n",
      "6.2       1\n",
      "4         1\n",
      "13.00     1\n",
      "8.7       1\n",
      "65.00     1\n",
      "3.1       1\n",
      "25        1\n",
      "22        1\n",
      "8         1\n",
      "66        1\n",
      "37.00     1\n",
      "11.00     1\n",
      "68.00     1\n",
      "120       1\n",
      "140       1\n",
      "9.3       1\n",
      "150       1\n",
      "35        1\n",
      "22.00     1\n",
      "80        1\n",
      "60        1\n",
      "40        1\n",
      "43.2      1\n",
      "25.00     1\n",
      "2.9       1\n",
      "70        1\n",
      "34        1\n",
      "90        1\n",
      "110       1\n",
      "Name: count, dtype: int64\n"
     ]
    }
   ],
   "source": [
    "rd_copia[\"turbiedad_ntu\"] = rd_copia[\"turbiedad_ntu\"].replace(['432'], 43.2)\n",
    "\n",
    "conteo_por_turbiedad_ntu = rd_copia[\"turbiedad_ntu\"].value_counts(dropna= False)\n",
    "print(conteo_por_turbiedad_ntu)"
   ]
  },
  {
   "cell_type": "markdown",
   "metadata": {},
   "source": [
    "Como no hay nada mas que cambair vamos a convertir a la columna en tipo float"
   ]
  },
  {
   "cell_type": "code",
   "execution_count": 195,
   "metadata": {},
   "outputs": [],
   "source": [
    "rd_copia[\"turbiedad_ntu\"] = pd.to_numeric(rd_copia[\"turbiedad_ntu\"], errors='coerce')"
   ]
  },
  {
   "cell_type": "markdown",
   "metadata": {},
   "source": [
    "### Analisis de nulos - dqo_mg_l (Falta chequear la referencia maxima) [Probablemente lo dejemos así]:"
   ]
  },
  {
   "cell_type": "code",
   "execution_count": 196,
   "metadata": {},
   "outputs": [
    {
     "name": "stdout",
     "output_type": "stream",
     "text": [
      "dqo_mg_l\n",
      "<30               93\n",
      "<50                8\n",
      "no muestreó        7\n",
      "40                 6\n",
      "59                 4\n",
      "en obra            4\n",
      "no se muestreó     4\n",
      "38                 3\n",
      "32                 3\n",
      "37                 3\n",
      "76                 2\n",
      "30                 2\n",
      "inaccesible        2\n",
      "52                 2\n",
      "80                 2\n",
      "53                 1\n",
      "36                 1\n",
      "43                 1\n",
      "57                 1\n",
      "33                 1\n",
      "120                1\n",
      "41                 1\n",
      "no se midió        1\n",
      "115                1\n",
      "41.00              1\n",
      "96                 1\n",
      "36.00              1\n",
      "61                 1\n",
      "130                1\n",
      "230                1\n",
      "90                 1\n",
      "65                 1\n",
      "70                 1\n",
      "86                 1\n",
      "77                 1\n",
      "66                 1\n",
      "58                 1\n",
      "48                 1\n",
      "67                 1\n",
      "Name: count, dtype: int64\n"
     ]
    }
   ],
   "source": [
    "import pandas as pd\n",
    "pd.set_option('display.max_rows', 80)\n",
    "\n",
    "conteo_por_dqo_mg_l = rd_copia[\"dqo_mg_l\"].value_counts(dropna= False)\n",
    "\n",
    "print(conteo_por_dqo_mg_l)"
   ]
  },
  {
   "cell_type": "markdown",
   "metadata": {},
   "source": [
    "Vamos a reemplazar los mismos valores por nulos."
   ]
  },
  {
   "cell_type": "code",
   "execution_count": 197,
   "metadata": {},
   "outputs": [
    {
     "name": "stdout",
     "output_type": "stream",
     "text": [
      "dqo_mg_l\n",
      "<30      93\n",
      "<NA>     18\n",
      "<50       8\n",
      "40        6\n",
      "59        4\n",
      "32        3\n",
      "38        3\n",
      "37        3\n",
      "52        2\n",
      "80        2\n",
      "30        2\n",
      "76        2\n",
      "43        1\n",
      "36        1\n",
      "41        1\n",
      "57        1\n",
      "33        1\n",
      "120       1\n",
      "53        1\n",
      "41.00     1\n",
      "115       1\n",
      "36.00     1\n",
      "96        1\n",
      "130       1\n",
      "61        1\n",
      "230       1\n",
      "90        1\n",
      "65        1\n",
      "70        1\n",
      "86        1\n",
      "77        1\n",
      "66        1\n",
      "58        1\n",
      "48        1\n",
      "67        1\n",
      "Name: count, dtype: int64\n"
     ]
    }
   ],
   "source": [
    "rd_copia[\"dqo_mg_l\"] = rd_copia[\"dqo_mg_l\"].replace([\"no se muestreó\",\"no se midió\", \"no muestreó\", \"inaccesible\", \"en obra\"], pd.NA)\n",
    "\n",
    "conteo_por_dqo_mg_l = rd_copia[\"dqo_mg_l\"].value_counts(dropna= False)\n",
    "print(conteo_por_dqo_mg_l)"
   ]
  },
  {
   "cell_type": "markdown",
   "metadata": {},
   "source": [
    "Para determinar que valores deberian de tomar las cotas y los outlayers consultamos la  [RESOLUCIÓN PRESIDENCIA ACUMAR N° 46/2017](https://www.argentina.gob.ar/normativa/nacional/resoluci%C3%B3n-283-2019-334281/texto) existen 3 valores de referencia como maximos aceptables. En nuestro caso desconocemos cual es el mas adecuado pero consideramos que podemos quedarnos con el de  \"Tipo de vertido pluvial/cuerpo superficial\" (125 mg/l). Por lo tanto teniendo en cuenta esto ultimo podemos decir que la mayoria de las mediciones tienen sentido y no se tratan de outliers [El valor mas alto es de 230, y es mas del doble que el segundo mas alto]. <br><span style=\"color:RED; font-size:20px\">Queda pendiente confirmar si este es verdaderamente el valor de referencia que debemos adoptar.</span> \n",
    "<br>"
   ]
  },
  {
   "cell_type": "markdown",
   "metadata": {},
   "source": [
    "Por otra parte, como venimos realizando, vamos a reemplazar las cotas:"
   ]
  },
  {
   "cell_type": "code",
   "execution_count": 198,
   "metadata": {},
   "outputs": [
    {
     "name": "stdout",
     "output_type": "stream",
     "text": [
      "dqo_mg_l\n",
      "30       93\n",
      "<NA>     18\n",
      "50        8\n",
      "40        6\n",
      "59        4\n",
      "32        3\n",
      "38        3\n",
      "37        3\n",
      "52        2\n",
      "80        2\n",
      "30        2\n",
      "76        2\n",
      "43        1\n",
      "36        1\n",
      "41        1\n",
      "57        1\n",
      "33        1\n",
      "120       1\n",
      "53        1\n",
      "41.00     1\n",
      "115       1\n",
      "36.00     1\n",
      "96        1\n",
      "130       1\n",
      "61        1\n",
      "230       1\n",
      "90        1\n",
      "65        1\n",
      "70        1\n",
      "86        1\n",
      "77        1\n",
      "66        1\n",
      "58        1\n",
      "48        1\n",
      "67        1\n",
      "Name: count, dtype: int64\n"
     ]
    }
   ],
   "source": [
    "rd_copia[\"dqo_mg_l\"] = rd_copia[\"dqo_mg_l\"].replace([\"<30\"], 30)\n",
    "rd_copia[\"dqo_mg_l\"] = rd_copia[\"dqo_mg_l\"].replace([\"<50\"], 50)\n",
    "\n",
    "conteo_por_dqo_mg_l = rd_copia[\"dqo_mg_l\"].value_counts(dropna= False)\n",
    "print(conteo_por_dqo_mg_l)"
   ]
  },
  {
   "cell_type": "markdown",
   "metadata": {},
   "source": [
    "Modificacion del tipo de la columna:"
   ]
  },
  {
   "cell_type": "code",
   "execution_count": 199,
   "metadata": {},
   "outputs": [],
   "source": [
    "rd_copia[\"dqo_mg_l\"] = pd.to_numeric(rd_copia[\"dqo_mg_l\"], errors='coerce')"
   ]
  },
  {
   "cell_type": "markdown",
   "metadata": {},
   "source": [
    "### Analisis de nulos - dbo_mg_l (Completado):"
   ]
  },
  {
   "cell_type": "code",
   "execution_count": 200,
   "metadata": {},
   "outputs": [
    {
     "name": "stdout",
     "output_type": "stream",
     "text": [
      "dbo_mg_l\n",
      "<2.0              40\n",
      "no muestreó        7\n",
      "4.1                5\n",
      "4                  4\n",
      "3.1                4\n",
      "4.3                4\n",
      "3.8                4\n",
      "no se muestreó     4\n",
      "en obra            4\n",
      "17                 3\n",
      "2.1                3\n",
      "2.8                3\n",
      "2.7                3\n",
      "3.5                3\n",
      "2.0                3\n",
      "2.3                3\n",
      "<5                 3\n",
      "2.2                2\n",
      "4.6                2\n",
      "2.5                2\n",
      "3.4                2\n",
      "4.7                2\n",
      "3.3                2\n",
      "11                 2\n",
      "12                 2\n",
      "4.9                2\n",
      "3.2                2\n",
      "3.9                2\n",
      "4.5                2\n",
      "5.3                2\n",
      "2.6                2\n",
      "inaccesible        2\n",
      "3.0                1\n",
      "2.00               1\n",
      "3.10               1\n",
      "3.60               1\n",
      "no se midió        1\n",
      "5.7                1\n",
      "5.6                1\n",
      "7.7                1\n",
      "2.90               1\n",
      "NaN                1\n",
      "7.00               1\n",
      "6                  1\n",
      "3                  1\n",
      "7                  1\n",
      "9.00               1\n",
      "3.80               1\n",
      "4.4                1\n",
      "6.3                1\n",
      "7.3                1\n",
      "24.00              1\n",
      "5.2                1\n",
      "4.10               1\n",
      "4.20               1\n",
      "7.90               1\n",
      "6.5                1\n",
      "7.2                1\n",
      "7.6                1\n",
      "3.00               1\n",
      "3.6                1\n",
      "3.20               1\n",
      "5.20               1\n",
      "2.60               1\n",
      "8.4                1\n",
      "4.8                1\n",
      "4.80               1\n",
      "5.50               1\n",
      "23                 1\n",
      "3.7                1\n",
      "2.10               1\n",
      "Name: count, dtype: int64\n"
     ]
    }
   ],
   "source": [
    "import pandas as pd\n",
    "pd.set_option('display.max_rows', 80)\n",
    "\n",
    "conteo_por_dbo_mg_l = rd_copia[\"dbo_mg_l\"].value_counts(dropna= False)\n",
    "\n",
    "print(conteo_por_dbo_mg_l)"
   ]
  },
  {
   "cell_type": "markdown",
   "metadata": {},
   "source": [
    "Reemplazo de valores por nulos:\n"
   ]
  },
  {
   "cell_type": "code",
   "execution_count": 201,
   "metadata": {},
   "outputs": [
    {
     "name": "stdout",
     "output_type": "stream",
     "text": [
      "dbo_mg_l\n",
      "<2.0     40\n",
      "<NA>     19\n",
      "4.1       5\n",
      "3.1       4\n",
      "4.3       4\n",
      "3.8       4\n",
      "4         4\n",
      "2.1       3\n",
      "3.5       3\n",
      "2.0       3\n",
      "2.8       3\n",
      "17        3\n",
      "<5        3\n",
      "2.3       3\n",
      "2.7       3\n",
      "3.4       2\n",
      "4.7       2\n",
      "2.2       2\n",
      "4.9       2\n",
      "3.3       2\n",
      "4.6       2\n",
      "2.5       2\n",
      "5.3       2\n",
      "3.9       2\n",
      "4.5       2\n",
      "2.6       2\n",
      "11        2\n",
      "12        2\n",
      "3.2       2\n",
      "5.6       1\n",
      "3.0       1\n",
      "3.60      1\n",
      "5.7       1\n",
      "2.00      1\n",
      "2.90      1\n",
      "7.00      1\n",
      "6         1\n",
      "9.00      1\n",
      "7         1\n",
      "3         1\n",
      "3.10      1\n",
      "5.2       1\n",
      "4.10      1\n",
      "3.80      1\n",
      "4.4       1\n",
      "6.3       1\n",
      "7.3       1\n",
      "24.00     1\n",
      "7.7       1\n",
      "4.20      1\n",
      "6.5       1\n",
      "7.2       1\n",
      "7.6       1\n",
      "7.90      1\n",
      "5.20      1\n",
      "3.00      1\n",
      "3.6       1\n",
      "3.20      1\n",
      "2.60      1\n",
      "8.4       1\n",
      "4.8       1\n",
      "4.80      1\n",
      "5.50      1\n",
      "23        1\n",
      "3.7       1\n",
      "2.10      1\n",
      "Name: count, dtype: int64\n"
     ]
    }
   ],
   "source": [
    "rd_copia[\"dbo_mg_l\"] = rd_copia[\"dbo_mg_l\"].replace([\"no se muestreó\",\"no se midió\", \"no muestreó\", \"inaccesible\", \"en obra\", pd.NA], pd.NA)\n",
    "\n",
    "conteo_por_dbo_mg_l = rd_copia[\"dbo_mg_l\"].value_counts(dropna= False)\n",
    "print(conteo_por_dbo_mg_l)"
   ]
  },
  {
   "cell_type": "markdown",
   "metadata": {},
   "source": [
    "Segun Res ADA 42 ([Monitoreo calidad del agua en el Rio de la Plata. Campaña Otoño 2023](https://ciam.ambiente.gob.ar/images/uploaded/datasets/368/Metadata_Monitoreo_calidad_Rio_de_la_Plata_oto%C3%B1o_2023.pdf)) los valores presentes en el dataset tienen sentido, sin embargo las cotas las tenemos que reemplzar igualmente y para ello pensamos hacerlo de la siguiente manera:\n",
    "\n",
    "<5: 5\n",
    "\n",
    "\n",
    "<2: 2"
   ]
  },
  {
   "cell_type": "code",
   "execution_count": 202,
   "metadata": {},
   "outputs": [
    {
     "name": "stdout",
     "output_type": "stream",
     "text": [
      "dbo_mg_l\n",
      "2        40\n",
      "<NA>     19\n",
      "4.1       5\n",
      "3.1       4\n",
      "4.3       4\n",
      "3.8       4\n",
      "4         4\n",
      "2.1       3\n",
      "3.5       3\n",
      "2.0       3\n",
      "2.8       3\n",
      "17        3\n",
      "5         3\n",
      "2.3       3\n",
      "2.7       3\n",
      "3.4       2\n",
      "4.7       2\n",
      "2.2       2\n",
      "4.9       2\n",
      "3.3       2\n",
      "4.6       2\n",
      "2.5       2\n",
      "5.3       2\n",
      "3.9       2\n",
      "4.5       2\n",
      "2.6       2\n",
      "11        2\n",
      "12        2\n",
      "3.2       2\n",
      "5.6       1\n",
      "3.0       1\n",
      "3.60      1\n",
      "5.7       1\n",
      "2.00      1\n",
      "2.90      1\n",
      "7.00      1\n",
      "6         1\n",
      "9.00      1\n",
      "7         1\n",
      "3         1\n",
      "3.10      1\n",
      "5.2       1\n",
      "4.10      1\n",
      "3.80      1\n",
      "4.4       1\n",
      "6.3       1\n",
      "7.3       1\n",
      "24.00     1\n",
      "7.7       1\n",
      "4.20      1\n",
      "6.5       1\n",
      "7.2       1\n",
      "7.6       1\n",
      "7.90      1\n",
      "5.20      1\n",
      "3.00      1\n",
      "3.6       1\n",
      "3.20      1\n",
      "2.60      1\n",
      "8.4       1\n",
      "4.8       1\n",
      "4.80      1\n",
      "5.50      1\n",
      "23        1\n",
      "3.7       1\n",
      "2.10      1\n",
      "Name: count, dtype: int64\n"
     ]
    }
   ],
   "source": [
    "rd_copia[\"dbo_mg_l\"] = rd_copia[\"dbo_mg_l\"].replace([\"<5\"], 5)\n",
    "rd_copia[\"dbo_mg_l\"] = rd_copia[\"dbo_mg_l\"].replace([\"<2.0\"], 2)\n",
    "\n",
    "conteo_por_dbo_mg_l = rd_copia[\"dbo_mg_l\"].value_counts(dropna= False)\n",
    "print(conteo_por_dbo_mg_l)"
   ]
  },
  {
   "cell_type": "markdown",
   "metadata": {},
   "source": [
    "Cambio del tipo de la columna:"
   ]
  },
  {
   "cell_type": "code",
   "execution_count": 203,
   "metadata": {},
   "outputs": [],
   "source": [
    "rd_copia[\"dbo_mg_l\"] = pd.to_numeric(rd_copia[\"dbo_mg_l\"], errors='coerce')"
   ]
  },
  {
   "cell_type": "markdown",
   "metadata": {},
   "source": [
    "### Analisis de nulos - fosf_ortofos_mg_l (Falta conseguir una referencia maxima) [Probablemente lo dejemos así]:"
   ]
  },
  {
   "cell_type": "code",
   "execution_count": 204,
   "metadata": {},
   "outputs": [
    {
     "name": "stdout",
     "output_type": "stream",
     "text": [
      "fosf_ortofos_mg_l\n",
      "<0.20             34\n",
      "0.20               7\n",
      "no muestreó        7\n",
      "0.15               5\n",
      "0.18               5\n",
      "0.17               5\n",
      "0.36               4\n",
      "0.25               4\n",
      "en obra            4\n",
      "0.14               4\n",
      "0.12               4\n",
      "0.23               4\n",
      "no se muestreó     4\n",
      "sin muestra        4\n",
      "<0.10              4\n",
      "0.4                3\n",
      "0.28               3\n",
      "0.53               3\n",
      "0.21               3\n",
      "0.24               3\n",
      "0.34               3\n",
      "0.60               2\n",
      "0.19               2\n",
      "0.11               2\n",
      "inaccesible        2\n",
      "0.55               2\n",
      "0.29               2\n",
      "0.51               2\n",
      "0.30               2\n",
      "0.48               2\n",
      "0.31               2\n",
      "0.33               2\n",
      "0.16               2\n",
      "0.32               2\n",
      "0.13               2\n",
      "0.56               2\n",
      "0.26               2\n",
      "0.42               2\n",
      "0.10               1\n",
      "0.46               1\n",
      "0.37               1\n",
      "0.64               1\n",
      "0.65               1\n",
      "0.35               1\n",
      "0.61               1\n",
      "0.57               1\n",
      "no se midió        1\n",
      "0.22               1\n",
      "0.1                1\n",
      "0.43               1\n",
      "1.20               1\n",
      "0.40               1\n",
      "1.6                1\n",
      "0.2                1\n",
      "0.41               1\n",
      "1.10               1\n",
      "Name: count, dtype: int64\n"
     ]
    }
   ],
   "source": [
    "import pandas as pd\n",
    "pd.set_option('display.max_rows', 80)\n",
    "\n",
    "conteo_por_fosf_ortofos_mg_l = rd_copia[\"fosf_ortofos_mg_l\"].value_counts(dropna= False)\n",
    "\n",
    "print(conteo_por_fosf_ortofos_mg_l)"
   ]
  },
  {
   "cell_type": "markdown",
   "metadata": {},
   "source": [
    "Reemplazo de valores sin sentido por nulos:"
   ]
  },
  {
   "cell_type": "code",
   "execution_count": 205,
   "metadata": {},
   "outputs": [
    {
     "name": "stdout",
     "output_type": "stream",
     "text": [
      "fosf_ortofos_mg_l\n",
      "<0.20    34\n",
      "<NA>     22\n",
      "0.20      7\n",
      "0.18      5\n",
      "0.17      5\n",
      "0.15      5\n",
      "<0.10     4\n",
      "0.12      4\n",
      "0.36      4\n",
      "0.23      4\n",
      "0.25      4\n",
      "0.14      4\n",
      "0.53      3\n",
      "0.21      3\n",
      "0.24      3\n",
      "0.28      3\n",
      "0.4       3\n",
      "0.34      3\n",
      "0.30      2\n",
      "0.26      2\n",
      "0.55      2\n",
      "0.31      2\n",
      "0.60      2\n",
      "0.48      2\n",
      "0.11      2\n",
      "0.33      2\n",
      "0.19      2\n",
      "0.16      2\n",
      "0.29      2\n",
      "0.56      2\n",
      "0.51      2\n",
      "0.13      2\n",
      "0.42      2\n",
      "0.32      2\n",
      "0.10      1\n",
      "0.64      1\n",
      "0.46      1\n",
      "0.65      1\n",
      "0.61      1\n",
      "0.37      1\n",
      "0.57      1\n",
      "0.35      1\n",
      "0.40      1\n",
      "0.43      1\n",
      "1.20      1\n",
      "0.22      1\n",
      "0.1       1\n",
      "1.6       1\n",
      "0.2       1\n",
      "0.41      1\n",
      "1.10      1\n",
      "Name: count, dtype: int64\n"
     ]
    }
   ],
   "source": [
    "rd_copia[\"fosf_ortofos_mg_l\"] = rd_copia[\"fosf_ortofos_mg_l\"].replace([\"no se muestreó\",\"no se midió\", \"no muestreó\", \"inaccesible\", \"en obra\", \"sin muestra\"], pd.NA)\n",
    "\n",
    "conteo_por_fosf_ortofos_mg_l = rd_copia[\"fosf_ortofos_mg_l\"].value_counts(dropna= False)\n",
    "print(conteo_por_fosf_ortofos_mg_l)"
   ]
  },
  {
   "cell_type": "markdown",
   "metadata": {},
   "source": [
    "Para determinar que valores deberian de tomar las cotas y los outlayers consultamos el [Monitoreo calidad del agua en el Rio de la Plata. Campaña Otoño 2023](https://ciam.ambiente.gob.ar/images/uploaded/datasets/368/Metadata_Monitoreo_calidad_Rio_de_la_Plata_oto%C3%B1o_2023.pdf), sin embargo en el mismo no se registra niguna resolucion asociada a la medicion maxima que deberia de tener Concentración de ortofosfatos en miligramos por litro (mg/L), Por ello decidimos consultar a fuentes diversas para poder establecer un criterio. <span style=\"color:RED; font-size:20px\">INVESTIGAR YA QUE HAY DIVERSAS FUENTES Y CONTRADICTORIAS</span> \n",
    "<br><br>\n",
    "Por otra parte pensamos que deberiamos reemplazar las cotas de la siguiente manera: \n",
    "<0.2 -> 0.2 y <0.1 -> 0.1\n",
    "\n",
    "Sin embargo dependiendo de que valor encontremos como referencia maxima de medicion puede que optemos por un reemplazo distinto."
   ]
  },
  {
   "cell_type": "markdown",
   "metadata": {},
   "source": [
    "Reemplazo de las cotas:"
   ]
  },
  {
   "cell_type": "code",
   "execution_count": 206,
   "metadata": {},
   "outputs": [
    {
     "name": "stdout",
     "output_type": "stream",
     "text": [
      "fosf_ortofos_mg_l\n",
      "0.2     34\n",
      "<NA>    22\n",
      "0.20     7\n",
      "0.18     5\n",
      "0.17     5\n",
      "0.15     5\n",
      "0.1      4\n",
      "0.12     4\n",
      "0.36     4\n",
      "0.23     4\n",
      "0.25     4\n",
      "0.14     4\n",
      "0.53     3\n",
      "0.21     3\n",
      "0.24     3\n",
      "0.28     3\n",
      "0.4      3\n",
      "0.34     3\n",
      "0.30     2\n",
      "0.26     2\n",
      "0.55     2\n",
      "0.31     2\n",
      "0.60     2\n",
      "0.48     2\n",
      "0.11     2\n",
      "0.33     2\n",
      "0.19     2\n",
      "0.16     2\n",
      "0.29     2\n",
      "0.56     2\n",
      "0.51     2\n",
      "0.13     2\n",
      "0.42     2\n",
      "0.32     2\n",
      "0.10     1\n",
      "0.64     1\n",
      "0.46     1\n",
      "0.65     1\n",
      "0.61     1\n",
      "0.37     1\n",
      "0.57     1\n",
      "0.35     1\n",
      "0.40     1\n",
      "0.43     1\n",
      "1.20     1\n",
      "0.22     1\n",
      "0.1      1\n",
      "1.6      1\n",
      "0.2      1\n",
      "0.41     1\n",
      "1.10     1\n",
      "Name: count, dtype: int64\n"
     ]
    }
   ],
   "source": [
    "rd_copia[\"fosf_ortofos_mg_l\"] = rd_copia[\"fosf_ortofos_mg_l\"].replace([\"<0.20\"], 0.2)\n",
    "rd_copia[\"fosf_ortofos_mg_l\"] = rd_copia[\"fosf_ortofos_mg_l\"].replace([\"<0.10\"], 0.1)\n",
    "\n",
    "conteo_por_fosf_ortofos_mg_l = rd_copia[\"fosf_ortofos_mg_l\"].value_counts(dropna= False)\n",
    "print(conteo_por_fosf_ortofos_mg_l)"
   ]
  },
  {
   "cell_type": "markdown",
   "metadata": {},
   "source": [
    "Cambio del tipo de esta columna:"
   ]
  },
  {
   "cell_type": "code",
   "execution_count": 207,
   "metadata": {},
   "outputs": [],
   "source": [
    "rd_copia[\"fosf_ortofos_mg_l\"] = pd.to_numeric(rd_copia[\"fosf_ortofos_mg_l\"], errors='coerce')"
   ]
  },
  {
   "cell_type": "markdown",
   "metadata": {},
   "source": [
    "### Analisis de nulos - p_total_l_mg_l (A la espera de la respuesta del especialista) [Probablemente lo dejemos así]:"
   ]
  },
  {
   "cell_type": "code",
   "execution_count": 208,
   "metadata": {},
   "outputs": [
    {
     "name": "stdout",
     "output_type": "stream",
     "text": [
      "p_total_l_mg_l\n",
      "0.21              7\n",
      "no muestreó       7\n",
      "0.20              6\n",
      "0.26              5\n",
      "0.44              5\n",
      "0.16              4\n",
      "0.19              4\n",
      "0.22              4\n",
      "0.23              4\n",
      "0.14              4\n",
      "en obra           4\n",
      "0.27              4\n",
      "no se muestreó    4\n",
      "0.52              3\n",
      "0.10              3\n",
      "0.36              3\n",
      "0.57              3\n",
      "0.43              3\n",
      "0.15              3\n",
      "0.55              3\n",
      "0.17              3\n",
      "0.25              3\n",
      "0.72              3\n",
      "0.29              2\n",
      "0.18              2\n",
      "0.12              2\n",
      "0.41              2\n",
      "0.77              2\n",
      "0.35              2\n",
      "0.3               2\n",
      "1.40              2\n",
      "0.75              2\n",
      "0.59              2\n",
      "0.30              2\n",
      "0.39              2\n",
      "0.24              2\n",
      "0.42              2\n",
      "0.38              2\n",
      "0.95              2\n",
      "inaccesible       2\n",
      "0.54              2\n",
      "2                 1\n",
      "0.9               1\n",
      "0.31              1\n",
      "0.5               1\n",
      "1.3               1\n",
      "0.11              1\n",
      "<0.10             1\n",
      "0.13              1\n",
      "1                 1\n",
      "0.64              1\n",
      "0.33              1\n",
      "0.45              1\n",
      "NaN               1\n",
      "1.2               1\n",
      "0.46              1\n",
      "1.5               1\n",
      "no se midió       1\n",
      "0.58              1\n",
      "2.70              1\n",
      "2.10              1\n",
      "0.47              1\n",
      "0.68              1\n",
      "1.00              1\n",
      "0.28              1\n",
      "0.32              1\n",
      "0.34              1\n",
      "3.10              1\n",
      "0.48              1\n",
      "0.86              1\n",
      "0.74              1\n",
      "0.76              1\n",
      "0.50              1\n",
      "1.20              1\n",
      "0.81              1\n",
      "1.6               1\n",
      "0.61              1\n",
      "0.96              1\n",
      "1.7               1\n",
      "0.56              1\n",
      "0.79              1\n",
      "3.00              1\n",
      "Name: count, dtype: int64\n"
     ]
    }
   ],
   "source": [
    "import pandas as pd\n",
    "pd.set_option('display.max_rows', 100)\n",
    "\n",
    "conteo_por_p_total_l_mg_l = rd_copia[\"p_total_l_mg_l\"].value_counts(dropna= False)\n",
    "\n",
    "print(conteo_por_p_total_l_mg_l)"
   ]
  },
  {
   "cell_type": "markdown",
   "metadata": {},
   "source": [
    "Volviendo nulos los valores sin sentido:"
   ]
  },
  {
   "cell_type": "code",
   "execution_count": 209,
   "metadata": {},
   "outputs": [
    {
     "name": "stdout",
     "output_type": "stream",
     "text": [
      "p_total_l_mg_l\n",
      "<NA>     19\n",
      "0.21      7\n",
      "0.20      6\n",
      "0.44      5\n",
      "0.26      5\n",
      "0.14      4\n",
      "0.22      4\n",
      "0.16      4\n",
      "0.27      4\n",
      "0.19      4\n",
      "0.23      4\n",
      "0.57      3\n",
      "0.36      3\n",
      "0.43      3\n",
      "0.55      3\n",
      "0.25      3\n",
      "0.17      3\n",
      "0.72      3\n",
      "0.15      3\n",
      "0.10      3\n",
      "0.52      3\n",
      "0.77      2\n",
      "0.35      2\n",
      "0.41      2\n",
      "0.18      2\n",
      "0.12      2\n",
      "0.3       2\n",
      "0.95      2\n",
      "0.59      2\n",
      "0.39      2\n",
      "0.38      2\n",
      "0.29      2\n",
      "0.42      2\n",
      "0.54      2\n",
      "0.75      2\n",
      "1.40      2\n",
      "0.30      2\n",
      "0.24      2\n",
      "0.11      1\n",
      "2         1\n",
      "1.3       1\n",
      "0.31      1\n",
      "0.5       1\n",
      "0.9       1\n",
      "1         1\n",
      "0.33      1\n",
      "0.45      1\n",
      "1.5       1\n",
      "1.2       1\n",
      "0.58      1\n",
      "<0.10     1\n",
      "0.13      1\n",
      "0.46      1\n",
      "2.10      1\n",
      "2.70      1\n",
      "0.28      1\n",
      "0.47      1\n",
      "0.64      1\n",
      "0.68      1\n",
      "1.00      1\n",
      "0.32      1\n",
      "3.10      1\n",
      "0.34      1\n",
      "1.20      1\n",
      "0.86      1\n",
      "0.48      1\n",
      "0.74      1\n",
      "0.76      1\n",
      "0.50      1\n",
      "0.81      1\n",
      "1.6       1\n",
      "0.61      1\n",
      "0.96      1\n",
      "1.7       1\n",
      "0.56      1\n",
      "0.79      1\n",
      "3.00      1\n",
      "Name: count, dtype: int64\n"
     ]
    }
   ],
   "source": [
    "rd_copia[\"p_total_l_mg_l\"] = rd_copia[\"p_total_l_mg_l\"].replace([\"no se muestreó\",\"no se midió\", \"no muestreó\", \"inaccesible\", \"en obra\", pd.NA], pd.NA)\n",
    "\n",
    "conteo_por_p_total_l_mg_l = rd_copia[\"p_total_l_mg_l\"].value_counts(dropna= False)\n",
    "print(conteo_por_p_total_l_mg_l)"
   ]
  },
  {
   "cell_type": "markdown",
   "metadata": {},
   "source": [
    "Para determinar que valores deberian de tomar las cotas y los outlayers consultamos el [Monitoreo calidad del agua en el Rio de la Plata. Campaña Otoño 2023](https://ciam.ambiente.gob.ar/images/uploaded/datasets/368/Metadata_Monitoreo_calidad_Rio_de_la_Plata_oto%C3%B1o_2023.pdf), sin embargo en el mismo se menciona que la medicion maxima que deberia de tener Fósforo total en miligramos por litro (mg/L) dicatada por la resolucion Res ADA 42 es de 0,025 mg/l, lo cual implica que todas las mediciones registradas en el dataset están por encima de esta referencia. \n",
    "\n",
    "Por otra parte pensamos que deberiamos reemplazar la unica cota de la siguiente manera: \n",
    "<0.1 -> 0.1"
   ]
  },
  {
   "cell_type": "markdown",
   "metadata": {},
   "source": [
    "Reemplazo de las cotas:"
   ]
  },
  {
   "cell_type": "code",
   "execution_count": 210,
   "metadata": {},
   "outputs": [
    {
     "name": "stdout",
     "output_type": "stream",
     "text": [
      "p_total_l_mg_l\n",
      "<NA>    19\n",
      "0.21     7\n",
      "0.20     6\n",
      "0.44     5\n",
      "0.26     5\n",
      "0.14     4\n",
      "0.22     4\n",
      "0.16     4\n",
      "0.27     4\n",
      "0.19     4\n",
      "0.23     4\n",
      "0.57     3\n",
      "0.36     3\n",
      "0.43     3\n",
      "0.55     3\n",
      "0.25     3\n",
      "0.17     3\n",
      "0.72     3\n",
      "0.15     3\n",
      "0.10     3\n",
      "0.52     3\n",
      "0.77     2\n",
      "0.35     2\n",
      "0.41     2\n",
      "0.18     2\n",
      "0.12     2\n",
      "0.3      2\n",
      "0.95     2\n",
      "0.59     2\n",
      "0.39     2\n",
      "0.38     2\n",
      "0.29     2\n",
      "0.42     2\n",
      "0.54     2\n",
      "0.75     2\n",
      "1.40     2\n",
      "0.30     2\n",
      "0.24     2\n",
      "0.11     1\n",
      "2        1\n",
      "1.3      1\n",
      "0.31     1\n",
      "0.5      1\n",
      "0.9      1\n",
      "1        1\n",
      "0.33     1\n",
      "0.45     1\n",
      "1.5      1\n",
      "1.2      1\n",
      "0.58     1\n",
      "0.1      1\n",
      "0.13     1\n",
      "0.46     1\n",
      "2.10     1\n",
      "2.70     1\n",
      "0.28     1\n",
      "0.47     1\n",
      "0.64     1\n",
      "0.68     1\n",
      "1.00     1\n",
      "0.32     1\n",
      "3.10     1\n",
      "0.34     1\n",
      "1.20     1\n",
      "0.86     1\n",
      "0.48     1\n",
      "0.74     1\n",
      "0.76     1\n",
      "0.50     1\n",
      "0.81     1\n",
      "1.6      1\n",
      "0.61     1\n",
      "0.96     1\n",
      "1.7      1\n",
      "0.56     1\n",
      "0.79     1\n",
      "3.00     1\n",
      "Name: count, dtype: int64\n"
     ]
    }
   ],
   "source": [
    "rd_copia[\"p_total_l_mg_l\"] = rd_copia[\"p_total_l_mg_l\"].replace([\"<0.10\"], 0.10)\n",
    "\n",
    "conteo_por_p_total_l_mg_l = rd_copia[\"p_total_l_mg_l\"].value_counts(dropna= False)\n",
    "print(conteo_por_p_total_l_mg_l)"
   ]
  },
  {
   "cell_type": "markdown",
   "metadata": {},
   "source": [
    "Cambio del tipo de la columna:"
   ]
  },
  {
   "cell_type": "code",
   "execution_count": 211,
   "metadata": {},
   "outputs": [],
   "source": [
    "rd_copia[\"p_total_l_mg_l\"] = pd.to_numeric(rd_copia[\"p_total_l_mg_l\"], errors='coerce')"
   ]
  },
  {
   "cell_type": "markdown",
   "metadata": {},
   "source": [
    "### Analisis de nulos - nh4_mg_l (Completado):"
   ]
  },
  {
   "cell_type": "code",
   "execution_count": 212,
   "metadata": {},
   "outputs": [
    {
     "name": "stdout",
     "output_type": "stream",
     "text": [
      "nh4_mg_l\n",
      "<0.05             7\n",
      "no muestreó       7\n",
      "0.44              4\n",
      "en obra           4\n",
      "0.09              4\n",
      "no se muestreó    4\n",
      "0.13              3\n",
      "0.30              3\n",
      "2.90              3\n",
      "1.4               3\n",
      "1.3               3\n",
      "1.50              3\n",
      "0.25              3\n",
      "0.06              3\n",
      "0.60              2\n",
      "4.00              2\n",
      "0.07              2\n",
      "1.2               2\n",
      "10                2\n",
      "0.62              2\n",
      "0.75              2\n",
      "1.00              2\n",
      "3.50              2\n",
      "11                2\n",
      "2.1               2\n",
      "0.33              2\n",
      "0.92              2\n",
      "1.90              2\n",
      "1.9               2\n",
      "0.52              2\n",
      "1.10              2\n",
      "<0.78             2\n",
      "1.20              2\n",
      "0.23              2\n",
      "0.51              2\n",
      "0.77              2\n",
      "0.24              2\n",
      "inaccesible       2\n",
      "0.56              2\n",
      "0.86              1\n",
      "1.7               1\n",
      "0.71              1\n",
      "5.50              1\n",
      "0.47              1\n",
      "0.10              1\n",
      "1.0               1\n",
      "0.99              1\n",
      "2.0               1\n",
      "0.49              1\n",
      "1.5               1\n",
      "3.8               1\n",
      "2.6               1\n",
      "3.00              1\n",
      "5.20              1\n",
      "7.5               1\n",
      "4.6               1\n",
      "0.19              1\n",
      "0.72              1\n",
      "2.2               1\n",
      "0.27              1\n",
      "1.8               1\n",
      "0.89              1\n",
      "0.4               1\n",
      "0.6               1\n",
      "<0.1              1\n",
      "0.90              1\n",
      "0.1               1\n",
      "0.5               1\n",
      "8.50              1\n",
      "0.94              1\n",
      "0.93              1\n",
      "no se midió       1\n",
      "0.63              1\n",
      "0.73              1\n",
      "9.1               1\n",
      "0.50              1\n",
      "2.00              1\n",
      "0.76              1\n",
      "8.9               1\n",
      "7.20              1\n",
      "0.22              1\n",
      "0.59              1\n",
      "0.05              1\n",
      "0.78              1\n",
      "16.00             1\n",
      "2.10              1\n",
      "8                 1\n",
      "8.20              1\n",
      "0.87              1\n",
      "0.61              1\n",
      "0.17              1\n",
      "0.69              1\n",
      "0.11              1\n",
      "0.96              1\n",
      "4                 1\n",
      "8.4               1\n",
      "18                1\n",
      "6.30              1\n",
      "0.84              1\n",
      "4.40              1\n",
      "3.2               1\n",
      "0.57              1\n",
      "0.39              1\n",
      "0.42              1\n",
      "Name: count, dtype: int64\n"
     ]
    }
   ],
   "source": [
    "import pandas as pd\n",
    "pd.set_option('display.max_rows', 105)\n",
    "\n",
    "conteo_por_nh4_mg_l = rd_copia[\"nh4_mg_l\"].value_counts(dropna= False)\n",
    "\n",
    "print(conteo_por_nh4_mg_l)"
   ]
  },
  {
   "cell_type": "markdown",
   "metadata": {},
   "source": [
    "Volviendo nulos los valores sin sentido:\n"
   ]
  },
  {
   "cell_type": "code",
   "execution_count": 213,
   "metadata": {},
   "outputs": [
    {
     "name": "stdout",
     "output_type": "stream",
     "text": [
      "nh4_mg_l\n",
      "<0.78     2\n",
      "<0.1      1\n",
      "<0.05     7\n",
      "9.1       1\n",
      "8.9       1\n",
      "8.50      1\n",
      "8.4       1\n",
      "8.20      1\n",
      "8         1\n",
      "7.5       1\n",
      "7.20      1\n",
      "6.30      1\n",
      "5.50      1\n",
      "5.20      1\n",
      "4.6       1\n",
      "4.40      1\n",
      "4.00      2\n",
      "4         1\n",
      "3.8       1\n",
      "3.50      2\n",
      "3.2       1\n",
      "3.00      1\n",
      "2.90      3\n",
      "2.6       1\n",
      "2.2       1\n",
      "2.10      1\n",
      "2.1       2\n",
      "2.00      1\n",
      "2.0       1\n",
      "18        1\n",
      "16.00     1\n",
      "11        2\n",
      "10        2\n",
      "1.90      2\n",
      "1.9       2\n",
      "1.8       1\n",
      "1.7       1\n",
      "1.50      3\n",
      "1.5       1\n",
      "1.4       3\n",
      "1.3       3\n",
      "1.20      2\n",
      "1.2       2\n",
      "1.10      2\n",
      "1.00      2\n",
      "1.0       1\n",
      "0.99      1\n",
      "0.96      1\n",
      "0.94      1\n",
      "0.93      1\n",
      "0.92      2\n",
      "0.90      1\n",
      "0.89      1\n",
      "0.87      1\n",
      "0.86      1\n",
      "0.84      1\n",
      "0.78      1\n",
      "0.77      2\n",
      "0.76      1\n",
      "0.75      2\n",
      "0.73      1\n",
      "0.72      1\n",
      "0.71      1\n",
      "0.69      1\n",
      "0.63      1\n",
      "0.62      2\n",
      "0.61      1\n",
      "0.60      2\n",
      "0.6       1\n",
      "0.59      1\n",
      "0.57      1\n",
      "0.56      2\n",
      "0.52      2\n",
      "0.51      2\n",
      "0.50      1\n",
      "0.5       1\n",
      "0.49      1\n",
      "0.47      1\n",
      "0.44      4\n",
      "0.42      1\n",
      "0.4       1\n",
      "0.39      1\n",
      "0.33      2\n",
      "0.30      3\n",
      "0.27      1\n",
      "0.25      3\n",
      "0.24      2\n",
      "0.23      2\n",
      "0.22      1\n",
      "0.19      1\n",
      "0.17      1\n",
      "0.13      3\n",
      "0.11      1\n",
      "0.10      1\n",
      "0.1       1\n",
      "0.09      4\n",
      "0.07      2\n",
      "0.06      3\n",
      "0.05      1\n",
      "<NA>     18\n",
      "Name: count, dtype: int64\n"
     ]
    }
   ],
   "source": [
    "rd_copia[\"nh4_mg_l\"] = rd_copia[\"nh4_mg_l\"].replace([\"no se muestreó\",\"no se midió\", \"no muestreó\", \"inaccesible\", \"en obra\"], pd.NA)\n",
    "\n",
    "conteo_por_nh4_mg_l = rd_copia[\"nh4_mg_l\"].value_counts(dropna= False).sort_index(ascending= False)\n",
    "print(conteo_por_nh4_mg_l)"
   ]
  },
  {
   "cell_type": "markdown",
   "metadata": {},
   "source": [
    "Para determinar que valores deberian de tomar las cotas y los outliers consultamos el [Monitoreo calidad del agua en el Rio de la Plata. Campaña Otoño 2023](https://ciam.ambiente.gob.ar/images/uploaded/datasets/368/Metadata_Monitoreo_calidad_Rio_de_la_Plata_oto%C3%B1o_2023.pdf), en el mismo se menciona que el valor maximo de Concentración de amonio en miligramos por litro (mg/L) aceptable dictado por la resolucion Res ADA 42 es 0,5 mg/l. De lo que podemos observar del metodo value counts estan presentes valores muy alejados de la referencia dada, pero como todos estos crecen gradualmente pensamos que quiza no estamos viendo outliers sino valores correctos. Para poder cheaquear esto vamos a analizar si los valores superiores a 8 mg/l se corresponden con su indice de calidad de agua asociado. \n",
    "\n",
    "Por otra parte pensamos que deberiamos reemplazar la unica cotas de la siguiente manera: \n",
    "\n",
    "<0.1 -> 0.1\n",
    "\n",
    "<0.05 -> 0.05\n",
    "\n",
    "<0.78 -> 0.78"
   ]
  },
  {
   "cell_type": "markdown",
   "metadata": {},
   "source": [
    "#### Reemplazo de cotas"
   ]
  },
  {
   "cell_type": "code",
   "execution_count": 214,
   "metadata": {},
   "outputs": [
    {
     "name": "stdout",
     "output_type": "stream",
     "text": [
      "nh4_mg_l\n",
      "<NA>     18\n",
      "0.05      7\n",
      "0.44      4\n",
      "0.09      4\n",
      "0.06      3\n",
      "2.90      3\n",
      "1.50      3\n",
      "1.3       3\n",
      "1.4       3\n",
      "0.30      3\n",
      "0.13      3\n",
      "0.25      3\n",
      "10        2\n",
      "0.23      2\n",
      "0.60      2\n",
      "0.56      2\n",
      "4.00      2\n",
      "0.62      2\n",
      "0.75      2\n",
      "3.50      2\n",
      "1.00      2\n",
      "1.9       2\n",
      "0.78      2\n",
      "1.10      2\n",
      "1.90      2\n",
      "0.92      2\n",
      "1.20      2\n",
      "2.1       2\n",
      "0.51      2\n",
      "0.77      2\n",
      "0.07      2\n",
      "1.2       2\n",
      "11        2\n",
      "0.52      2\n",
      "0.24      2\n",
      "0.33      2\n",
      "1.7       1\n",
      "0.47      1\n",
      "7.5       1\n",
      "5.20      1\n",
      "4.6       1\n",
      "5.50      1\n",
      "0.71      1\n",
      "0.10      1\n",
      "0.99      1\n",
      "2.0       1\n",
      "1.5       1\n",
      "1.0       1\n",
      "0.49      1\n",
      "2.6       1\n",
      "3.8       1\n",
      "3.00      1\n",
      "0.72      1\n",
      "0.86      1\n",
      "2.2       1\n",
      "0.19      1\n",
      "0.93      1\n",
      "0.5       1\n",
      "0.94      1\n",
      "0.4       1\n",
      "0.90      1\n",
      "0.1       1\n",
      "2.00      1\n",
      "8.50      1\n",
      "0.6       1\n",
      "0.89      1\n",
      "1.8       1\n",
      "0.27      1\n",
      "0.63      1\n",
      "0.73      1\n",
      "0.50      1\n",
      "9.1       1\n",
      "0.1       1\n",
      "8         1\n",
      "8.20      1\n",
      "8.9       1\n",
      "0.59      1\n",
      "0.76      1\n",
      "0.78      1\n",
      "0.22      1\n",
      "0.05      1\n",
      "16.00     1\n",
      "2.10      1\n",
      "7.20      1\n",
      "0.61      1\n",
      "0.87      1\n",
      "0.69      1\n",
      "0.17      1\n",
      "0.11      1\n",
      "0.96      1\n",
      "4         1\n",
      "8.4       1\n",
      "18        1\n",
      "6.30      1\n",
      "0.84      1\n",
      "4.40      1\n",
      "3.2       1\n",
      "0.57      1\n",
      "0.39      1\n",
      "0.42      1\n",
      "Name: count, dtype: int64\n"
     ]
    }
   ],
   "source": [
    "rd_copia[\"nh4_mg_l\"] = rd_copia[\"nh4_mg_l\"].replace(\"<0.1\", 0.1)\n",
    "rd_copia[\"nh4_mg_l\"] = rd_copia[\"nh4_mg_l\"].replace(\"<0.05\", 0.05)\n",
    "rd_copia[\"nh4_mg_l\"] = rd_copia[\"nh4_mg_l\"].replace(\"<0.78\", 0.78)\n",
    "\n",
    "conteo_por_nh4_mg_l = rd_copia[\"nh4_mg_l\"].value_counts(dropna= False)\n",
    "print(conteo_por_nh4_mg_l)"
   ]
  },
  {
   "cell_type": "markdown",
   "metadata": {},
   "source": [
    "#### Modificacion del tipo de la columna (Object -> Float)"
   ]
  },
  {
   "cell_type": "code",
   "execution_count": 215,
   "metadata": {},
   "outputs": [],
   "source": [
    "# rd_copia[\"nh4_mg_l\"] = rd_copia[\"nh4_mg_l\"].astype(float)\n",
    "rd_copia[\"nh4_mg_l\"] = pd.to_numeric(rd_copia[\"nh4_mg_l\"], errors='coerce')\n"
   ]
  },
  {
   "cell_type": "markdown",
   "metadata": {},
   "source": [
    "#### Visualizacion de tuplas con concentracion de amonio superior a 8 mg/l"
   ]
  },
  {
   "cell_type": "code",
   "execution_count": 216,
   "metadata": {},
   "outputs": [
    {
     "data": {
      "text/html": [
       "<div>\n",
       "<style scoped>\n",
       "    .dataframe tbody tr th:only-of-type {\n",
       "        vertical-align: middle;\n",
       "    }\n",
       "\n",
       "    .dataframe tbody tr th {\n",
       "        vertical-align: top;\n",
       "    }\n",
       "\n",
       "    .dataframe thead th {\n",
       "        text-align: right;\n",
       "    }\n",
       "</style>\n",
       "<table border=\"1\" class=\"dataframe\">\n",
       "  <thead>\n",
       "    <tr style=\"text-align: right;\">\n",
       "      <th></th>\n",
       "      <th>sitios</th>\n",
       "      <th>codigo</th>\n",
       "      <th>fecha</th>\n",
       "      <th>campaña</th>\n",
       "      <th>tem_agua</th>\n",
       "      <th>tem_aire</th>\n",
       "      <th>od</th>\n",
       "      <th>ph</th>\n",
       "      <th>olores</th>\n",
       "      <th>color</th>\n",
       "      <th>espumas</th>\n",
       "      <th>mat_susp</th>\n",
       "      <th>colif_fecales_ufc_100ml</th>\n",
       "      <th>escher_coli_ufc_100ml</th>\n",
       "      <th>enteroc_ufc_100ml</th>\n",
       "      <th>nitrato_mg_l</th>\n",
       "      <th>nh4_mg_l</th>\n",
       "      <th>p_total_l_mg_l</th>\n",
       "      <th>fosf_ortofos_mg_l</th>\n",
       "      <th>dbo_mg_l</th>\n",
       "      <th>dqo_mg_l</th>\n",
       "      <th>turbiedad_ntu</th>\n",
       "      <th>cr_total_mg_l</th>\n",
       "      <th>Alta_presencia_de_cadmio</th>\n",
       "      <th>clorofila_a_ug_l</th>\n",
       "      <th>microcistina_ug_l</th>\n",
       "      <th>ica</th>\n",
       "      <th>calidad_de_agua</th>\n",
       "    </tr>\n",
       "  </thead>\n",
       "  <tbody>\n",
       "    <tr>\n",
       "      <th>38</th>\n",
       "      <td>Del Arca</td>\n",
       "      <td>SF015</td>\n",
       "      <td>23/8/2023</td>\n",
       "      <td>invierno</td>\n",
       "      <td>16</td>\n",
       "      <td>13</td>\n",
       "      <td>5.4</td>\n",
       "      <td>sin equipo</td>\n",
       "      <td>Ausencia</td>\n",
       "      <td>Ausencia</td>\n",
       "      <td>Ausencia</td>\n",
       "      <td>Ausencia</td>\n",
       "      <td>3000</td>\n",
       "      <td>2700</td>\n",
       "      <td>500</td>\n",
       "      <td>13.9</td>\n",
       "      <td>10.0</td>\n",
       "      <td>0.95</td>\n",
       "      <td>0.37</td>\n",
       "      <td>2.0</td>\n",
       "      <td>30.0</td>\n",
       "      <td>19.0</td>\n",
       "      <td>0.005</td>\n",
       "      <td>False</td>\n",
       "      <td>3.85</td>\n",
       "      <td>0.15</td>\n",
       "      <td>39.0</td>\n",
       "      <td>Extremadamente deteriorada</td>\n",
       "    </tr>\n",
       "    <tr>\n",
       "      <th>50</th>\n",
       "      <td>Playa Espigón de Pacheco</td>\n",
       "      <td>SI024</td>\n",
       "      <td>23/8/2023</td>\n",
       "      <td>invierno</td>\n",
       "      <td>13.7</td>\n",
       "      <td>14</td>\n",
       "      <td>6.66</td>\n",
       "      <td>sin equipo</td>\n",
       "      <td>Ausencia</td>\n",
       "      <td>Ausencia</td>\n",
       "      <td>Ausencia</td>\n",
       "      <td>Ausencia</td>\n",
       "      <td>3300</td>\n",
       "      <td>2300</td>\n",
       "      <td>1500</td>\n",
       "      <td>39.4</td>\n",
       "      <td>8.5</td>\n",
       "      <td>1.50</td>\n",
       "      <td>0.61</td>\n",
       "      <td>4.3</td>\n",
       "      <td>30.0</td>\n",
       "      <td>4.0</td>\n",
       "      <td>0.005</td>\n",
       "      <td>False</td>\n",
       "      <td>0.94</td>\n",
       "      <td>0.15</td>\n",
       "      <td>40.0</td>\n",
       "      <td>Extremadamente deteriorada</td>\n",
       "    </tr>\n",
       "    <tr>\n",
       "      <th>84</th>\n",
       "      <td>Cuatro bocas- desembocadura del Riachuelo</td>\n",
       "      <td>AC001</td>\n",
       "      <td>23/8/2023</td>\n",
       "      <td>invierno</td>\n",
       "      <td>15.21</td>\n",
       "      <td>13</td>\n",
       "      <td>0.6</td>\n",
       "      <td>7.29</td>\n",
       "      <td>Ausencia</td>\n",
       "      <td>Ausencia</td>\n",
       "      <td>Ausencia</td>\n",
       "      <td>Presencia</td>\n",
       "      <td>40000</td>\n",
       "      <td>10300</td>\n",
       "      <td>14000</td>\n",
       "      <td>11</td>\n",
       "      <td>9.1</td>\n",
       "      <td>0.55</td>\n",
       "      <td>0.53</td>\n",
       "      <td>NaN</td>\n",
       "      <td>37.0</td>\n",
       "      <td>16.0</td>\n",
       "      <td>0.005</td>\n",
       "      <td>False</td>\n",
       "      <td>2.61</td>\n",
       "      <td>0.15</td>\n",
       "      <td>32.0</td>\n",
       "      <td>Extremadamente deteriorada</td>\n",
       "    </tr>\n",
       "    <tr>\n",
       "      <th>88</th>\n",
       "      <td>Escollera de Propaneros</td>\n",
       "      <td>AV054</td>\n",
       "      <td>23/8/2023</td>\n",
       "      <td>invierno</td>\n",
       "      <td>15.18</td>\n",
       "      <td>13</td>\n",
       "      <td>1.2</td>\n",
       "      <td>7.48</td>\n",
       "      <td>Ausencia</td>\n",
       "      <td>Ausencia</td>\n",
       "      <td>Ausencia</td>\n",
       "      <td>Ausencia</td>\n",
       "      <td>12000</td>\n",
       "      <td>4600</td>\n",
       "      <td>1200</td>\n",
       "      <td>10.5</td>\n",
       "      <td>10.0</td>\n",
       "      <td>1.40</td>\n",
       "      <td>0.65</td>\n",
       "      <td>7.7</td>\n",
       "      <td>40.0</td>\n",
       "      <td>19.0</td>\n",
       "      <td>0.005</td>\n",
       "      <td>False</td>\n",
       "      <td>3.48</td>\n",
       "      <td>NaN</td>\n",
       "      <td>38.0</td>\n",
       "      <td>Extremadamente deteriorada</td>\n",
       "    </tr>\n",
       "    <tr>\n",
       "      <th>96</th>\n",
       "      <td>Arroyo Sarandí</td>\n",
       "      <td>AV052</td>\n",
       "      <td>23/8/2023</td>\n",
       "      <td>invierno</td>\n",
       "      <td>15.1</td>\n",
       "      <td>13</td>\n",
       "      <td>0.96</td>\n",
       "      <td>7.5</td>\n",
       "      <td>Ausencia</td>\n",
       "      <td>Ausencia</td>\n",
       "      <td>Ausencia</td>\n",
       "      <td>Ausencia</td>\n",
       "      <td>2000</td>\n",
       "      <td>2000</td>\n",
       "      <td>1000</td>\n",
       "      <td>11.7</td>\n",
       "      <td>8.2</td>\n",
       "      <td>2.10</td>\n",
       "      <td>0.56</td>\n",
       "      <td>4.7</td>\n",
       "      <td>30.0</td>\n",
       "      <td>14.0</td>\n",
       "      <td>0.005</td>\n",
       "      <td>False</td>\n",
       "      <td>3.85</td>\n",
       "      <td>NaN</td>\n",
       "      <td>39.0</td>\n",
       "      <td>Extremadamente deteriorada</td>\n",
       "    </tr>\n",
       "    <tr>\n",
       "      <th>104</th>\n",
       "      <td>Arroyo Santo Domingo</td>\n",
       "      <td>AV053</td>\n",
       "      <td>23/8/2023</td>\n",
       "      <td>invierno</td>\n",
       "      <td>14.53</td>\n",
       "      <td>13</td>\n",
       "      <td>2.64</td>\n",
       "      <td>7.53</td>\n",
       "      <td>Ausencia</td>\n",
       "      <td>Ausencia</td>\n",
       "      <td>Ausencia</td>\n",
       "      <td>Presencia</td>\n",
       "      <td>800</td>\n",
       "      <td>800</td>\n",
       "      <td>400</td>\n",
       "      <td>13.9</td>\n",
       "      <td>8.9</td>\n",
       "      <td>1.40</td>\n",
       "      <td>0.32</td>\n",
       "      <td>2.3</td>\n",
       "      <td>32.0</td>\n",
       "      <td>12.0</td>\n",
       "      <td>0.005</td>\n",
       "      <td>False</td>\n",
       "      <td>5.99</td>\n",
       "      <td>0.15</td>\n",
       "      <td>36.0</td>\n",
       "      <td>Extremadamente deteriorada</td>\n",
       "    </tr>\n",
       "    <tr>\n",
       "      <th>117</th>\n",
       "      <td>Calle 14 y Costa - Salida cloaca</td>\n",
       "      <td>BZ078</td>\n",
       "      <td>10/5/2023</td>\n",
       "      <td>otoño</td>\n",
       "      <td>sin equipo</td>\n",
       "      <td>12</td>\n",
       "      <td>sin equipo</td>\n",
       "      <td>sin equipo</td>\n",
       "      <td>Ausencia</td>\n",
       "      <td>Ausencia</td>\n",
       "      <td>Ausencia</td>\n",
       "      <td>Ausencia</td>\n",
       "      <td>178.000</td>\n",
       "      <td>170000</td>\n",
       "      <td>9000</td>\n",
       "      <td>6.30</td>\n",
       "      <td>16.0</td>\n",
       "      <td>1.20</td>\n",
       "      <td>1.20</td>\n",
       "      <td>24.0</td>\n",
       "      <td>41.0</td>\n",
       "      <td>12.0</td>\n",
       "      <td>0.005</td>\n",
       "      <td>True</td>\n",
       "      <td>5.91</td>\n",
       "      <td>0.15</td>\n",
       "      <td>28.0</td>\n",
       "      <td>Extremadamente deteriorada</td>\n",
       "    </tr>\n",
       "    <tr>\n",
       "      <th>140</th>\n",
       "      <td>Arroyo El Gato</td>\n",
       "      <td>EN083</td>\n",
       "      <td>22/2/2023</td>\n",
       "      <td>Verano</td>\n",
       "      <td>24.4</td>\n",
       "      <td>25</td>\n",
       "      <td>2.68</td>\n",
       "      <td>7.82</td>\n",
       "      <td>Ausencia</td>\n",
       "      <td>Ausencia</td>\n",
       "      <td>Ausencia</td>\n",
       "      <td>Ausencia</td>\n",
       "      <td>22000</td>\n",
       "      <td>5600</td>\n",
       "      <td>2.400</td>\n",
       "      <td>2.7</td>\n",
       "      <td>11.0</td>\n",
       "      <td>0.59</td>\n",
       "      <td>0.17</td>\n",
       "      <td>12.0</td>\n",
       "      <td>90.0</td>\n",
       "      <td>65.0</td>\n",
       "      <td>0.005</td>\n",
       "      <td>False</td>\n",
       "      <td>52.69</td>\n",
       "      <td>5.00</td>\n",
       "      <td>NaN</td>\n",
       "      <td>&lt;NA&gt;</td>\n",
       "    </tr>\n",
       "    <tr>\n",
       "      <th>150</th>\n",
       "      <td>Balneario Palo Blanco</td>\n",
       "      <td>BS092</td>\n",
       "      <td>14/11/2023</td>\n",
       "      <td>primavera</td>\n",
       "      <td>21</td>\n",
       "      <td>sin equipo</td>\n",
       "      <td>4.76</td>\n",
       "      <td>7.65</td>\n",
       "      <td>Presencia</td>\n",
       "      <td>Ausencia</td>\n",
       "      <td>Ausencia</td>\n",
       "      <td>Ausencia</td>\n",
       "      <td>200</td>\n",
       "      <td>200</td>\n",
       "      <td>160</td>\n",
       "      <td>&lt;2.0</td>\n",
       "      <td>8.4</td>\n",
       "      <td>0.20</td>\n",
       "      <td>0.20</td>\n",
       "      <td>8.4</td>\n",
       "      <td>52.0</td>\n",
       "      <td>17.0</td>\n",
       "      <td>0.005</td>\n",
       "      <td>False</td>\n",
       "      <td>10.00</td>\n",
       "      <td>0.69</td>\n",
       "      <td>37.0</td>\n",
       "      <td>Extremadamente deteriorada</td>\n",
       "    </tr>\n",
       "    <tr>\n",
       "      <th>153</th>\n",
       "      <td>Diagonal 66 (descarga cloaca)</td>\n",
       "      <td>BS095</td>\n",
       "      <td>22/2/2023</td>\n",
       "      <td>Verano</td>\n",
       "      <td>22</td>\n",
       "      <td>25</td>\n",
       "      <td>5.92</td>\n",
       "      <td>7.96</td>\n",
       "      <td>Presencia</td>\n",
       "      <td>Presencia</td>\n",
       "      <td>Presencia</td>\n",
       "      <td>Presencia</td>\n",
       "      <td>9000</td>\n",
       "      <td>2000</td>\n",
       "      <td>1.000</td>\n",
       "      <td>&lt;2.0</td>\n",
       "      <td>18.0</td>\n",
       "      <td>1.60</td>\n",
       "      <td>1.60</td>\n",
       "      <td>4.8</td>\n",
       "      <td>30.0</td>\n",
       "      <td>2.9</td>\n",
       "      <td>0.005</td>\n",
       "      <td>False</td>\n",
       "      <td>17.42</td>\n",
       "      <td>5.00</td>\n",
       "      <td>NaN</td>\n",
       "      <td>&lt;NA&gt;</td>\n",
       "    </tr>\n",
       "    <tr>\n",
       "      <th>159</th>\n",
       "      <td>Playa La Bagliardi</td>\n",
       "      <td>BS091</td>\n",
       "      <td>14/11/2023</td>\n",
       "      <td>primavera</td>\n",
       "      <td>24</td>\n",
       "      <td>20</td>\n",
       "      <td>4.53</td>\n",
       "      <td>7.84</td>\n",
       "      <td>Presencia</td>\n",
       "      <td>Ausencia</td>\n",
       "      <td>Presencia</td>\n",
       "      <td>Presencia</td>\n",
       "      <td>81000</td>\n",
       "      <td>75000</td>\n",
       "      <td>18400</td>\n",
       "      <td>&lt;2.0</td>\n",
       "      <td>11.0</td>\n",
       "      <td>0.96</td>\n",
       "      <td>0.51</td>\n",
       "      <td>23.0</td>\n",
       "      <td>86.0</td>\n",
       "      <td>50.0</td>\n",
       "      <td>0.005</td>\n",
       "      <td>False</td>\n",
       "      <td>10.00</td>\n",
       "      <td>0.15</td>\n",
       "      <td>25.0</td>\n",
       "      <td>Extremadamente deteriorada</td>\n",
       "    </tr>\n",
       "  </tbody>\n",
       "</table>\n",
       "</div>"
      ],
      "text/plain": [
       "                                        sitios codigo       fecha    campaña  \\\n",
       "38                                    Del Arca  SF015   23/8/2023   invierno   \n",
       "50                    Playa Espigón de Pacheco  SI024   23/8/2023   invierno   \n",
       "84   Cuatro bocas- desembocadura del Riachuelo  AC001   23/8/2023   invierno   \n",
       "88                     Escollera de Propaneros  AV054   23/8/2023   invierno   \n",
       "96                              Arroyo Sarandí  AV052   23/8/2023   invierno   \n",
       "104                       Arroyo Santo Domingo  AV053   23/8/2023   invierno   \n",
       "117           Calle 14 y Costa - Salida cloaca  BZ078   10/5/2023      otoño   \n",
       "140                             Arroyo El Gato  EN083   22/2/2023     Verano   \n",
       "150                      Balneario Palo Blanco  BS092  14/11/2023  primavera   \n",
       "153              Diagonal 66 (descarga cloaca)  BS095   22/2/2023     Verano   \n",
       "159                         Playa La Bagliardi  BS091  14/11/2023  primavera   \n",
       "\n",
       "       tem_agua    tem_aire          od          ph     olores      color  \\\n",
       "38           16          13         5.4  sin equipo   Ausencia   Ausencia   \n",
       "50         13.7          14        6.66  sin equipo   Ausencia   Ausencia   \n",
       "84        15.21          13         0.6        7.29   Ausencia   Ausencia   \n",
       "88        15.18          13         1.2        7.48   Ausencia   Ausencia   \n",
       "96         15.1          13        0.96         7.5   Ausencia   Ausencia   \n",
       "104       14.53          13        2.64        7.53   Ausencia   Ausencia   \n",
       "117  sin equipo          12  sin equipo  sin equipo   Ausencia   Ausencia   \n",
       "140        24.4          25        2.68        7.82   Ausencia   Ausencia   \n",
       "150          21  sin equipo        4.76        7.65  Presencia   Ausencia   \n",
       "153          22          25        5.92        7.96  Presencia  Presencia   \n",
       "159          24          20        4.53        7.84  Presencia   Ausencia   \n",
       "\n",
       "       espumas   mat_susp colif_fecales_ufc_100ml escher_coli_ufc_100ml  \\\n",
       "38    Ausencia   Ausencia                    3000                  2700   \n",
       "50    Ausencia   Ausencia                    3300                  2300   \n",
       "84    Ausencia  Presencia                   40000                 10300   \n",
       "88    Ausencia   Ausencia                   12000                  4600   \n",
       "96    Ausencia   Ausencia                    2000                  2000   \n",
       "104   Ausencia  Presencia                     800                   800   \n",
       "117   Ausencia   Ausencia                 178.000                170000   \n",
       "140   Ausencia   Ausencia                   22000                  5600   \n",
       "150   Ausencia   Ausencia                     200                   200   \n",
       "153  Presencia  Presencia                    9000                  2000   \n",
       "159  Presencia  Presencia                   81000                 75000   \n",
       "\n",
       "    enteroc_ufc_100ml nitrato_mg_l  nh4_mg_l  p_total_l_mg_l  \\\n",
       "38                500         13.9      10.0            0.95   \n",
       "50               1500         39.4       8.5            1.50   \n",
       "84              14000           11       9.1            0.55   \n",
       "88               1200         10.5      10.0            1.40   \n",
       "96               1000         11.7       8.2            2.10   \n",
       "104               400         13.9       8.9            1.40   \n",
       "117              9000         6.30      16.0            1.20   \n",
       "140             2.400          2.7      11.0            0.59   \n",
       "150               160         <2.0       8.4            0.20   \n",
       "153             1.000         <2.0      18.0            1.60   \n",
       "159             18400         <2.0      11.0            0.96   \n",
       "\n",
       "     fosf_ortofos_mg_l  dbo_mg_l  dqo_mg_l  turbiedad_ntu  cr_total_mg_l  \\\n",
       "38                0.37       2.0      30.0           19.0          0.005   \n",
       "50                0.61       4.3      30.0            4.0          0.005   \n",
       "84                0.53       NaN      37.0           16.0          0.005   \n",
       "88                0.65       7.7      40.0           19.0          0.005   \n",
       "96                0.56       4.7      30.0           14.0          0.005   \n",
       "104               0.32       2.3      32.0           12.0          0.005   \n",
       "117               1.20      24.0      41.0           12.0          0.005   \n",
       "140               0.17      12.0      90.0           65.0          0.005   \n",
       "150               0.20       8.4      52.0           17.0          0.005   \n",
       "153               1.60       4.8      30.0            2.9          0.005   \n",
       "159               0.51      23.0      86.0           50.0          0.005   \n",
       "\n",
       "     Alta_presencia_de_cadmio  clorofila_a_ug_l  microcistina_ug_l   ica  \\\n",
       "38                      False              3.85               0.15  39.0   \n",
       "50                      False              0.94               0.15  40.0   \n",
       "84                      False              2.61               0.15  32.0   \n",
       "88                      False              3.48                NaN  38.0   \n",
       "96                      False              3.85                NaN  39.0   \n",
       "104                     False              5.99               0.15  36.0   \n",
       "117                      True              5.91               0.15  28.0   \n",
       "140                     False             52.69               5.00   NaN   \n",
       "150                     False             10.00               0.69  37.0   \n",
       "153                     False             17.42               5.00   NaN   \n",
       "159                     False             10.00               0.15  25.0   \n",
       "\n",
       "                calidad_de_agua  \n",
       "38   Extremadamente deteriorada  \n",
       "50   Extremadamente deteriorada  \n",
       "84   Extremadamente deteriorada  \n",
       "88   Extremadamente deteriorada  \n",
       "96   Extremadamente deteriorada  \n",
       "104  Extremadamente deteriorada  \n",
       "117  Extremadamente deteriorada  \n",
       "140                        <NA>  \n",
       "150  Extremadamente deteriorada  \n",
       "153                        <NA>  \n",
       "159  Extremadamente deteriorada  "
      ]
     },
     "execution_count": 216,
     "metadata": {},
     "output_type": "execute_result"
    }
   ],
   "source": [
    "rd_concentracion_amonio = rd_copia[rd_copia[\"nh4_mg_l\"].values > 8]\n",
    "rd_concentracion_amonio"
   ]
  },
  {
   "cell_type": "markdown",
   "metadata": {},
   "source": [
    "Como vimos que las concetraciones de amonio de estas entradas de la tabla se corresponden con su indice de calidad de agua (Tienen valores bajos) no vemos la necesidad de catalogarlos como outliers."
   ]
  },
  {
   "cell_type": "markdown",
   "metadata": {},
   "source": [
    "### Analisis de nulos - nitrato_mg_l (Completado):"
   ]
  },
  {
   "cell_type": "code",
   "execution_count": 217,
   "metadata": {},
   "outputs": [
    {
     "name": "stdout",
     "output_type": "stream",
     "text": [
      "nitrato_mg_l\n",
      "<2.0              12\n",
      "<44                8\n",
      "no muestreó        7\n",
      "en obra            4\n",
      "2.9                4\n",
      "2.8                4\n",
      "no se muestreó     4\n",
      "4.20               3\n",
      "2.7                3\n",
      "7.3                3\n",
      "3.7                3\n",
      "6.20               2\n",
      "2.5                2\n",
      "3.1                2\n",
      "13.9               2\n",
      "3.4                2\n",
      "5.30               2\n",
      "2.3                2\n",
      "12.7               2\n",
      "9.9                2\n",
      "10.5               2\n",
      "5.3                2\n",
      "4.3                2\n",
      "4.2                2\n",
      "3.3                2\n",
      "3.9                2\n",
      "2.4                2\n",
      "5.6                2\n",
      "inaccesible        2\n",
      "10.6               2\n",
      "4.30               1\n",
      "20.2               1\n",
      "9.60               1\n",
      "23.1               1\n",
      "3.5                1\n",
      "6.3                1\n",
      "5.2                1\n",
      "6.70               1\n",
      "3.90               1\n",
      "18.6               1\n",
      "4.80               1\n",
      "15.2               1\n",
      "20.00              1\n",
      "no se midió        1\n",
      "5.0                1\n",
      "39.4               1\n",
      "6.90               1\n",
      "5.5                1\n",
      "8.6                1\n",
      "2.6                1\n",
      "2.1                1\n",
      "3.10               1\n",
      "5.1                1\n",
      "15.7               1\n",
      "16                 1\n",
      "8.80               1\n",
      "5.8                1\n",
      "16.9               1\n",
      "11                 1\n",
      "5.4                1\n",
      "9.30               1\n",
      "16.7               1\n",
      "5.80               1\n",
      "3.6                1\n",
      "8.50               1\n",
      "10.20              1\n",
      "13.8               1\n",
      "11.7               1\n",
      "8.90               1\n",
      "15.20              1\n",
      "13.3               1\n",
      "14.4               1\n",
      "10.1               1\n",
      "8.70               1\n",
      "9.2                1\n",
      "3.00               1\n",
      "7                  1\n",
      "7.6                1\n",
      "6.9                1\n",
      "10.00              1\n",
      "8.9                1\n",
      "2.70               1\n",
      "9.0                1\n",
      "7.7                1\n",
      "16.70              1\n",
      "7.00               1\n",
      "6.10               1\n",
      "4.5                1\n",
      "3.8                1\n",
      "6.30               1\n",
      "5.10               1\n",
      "11.2               1\n",
      "6.1                1\n",
      "6.4                1\n",
      "11.60              1\n",
      "6.5                1\n",
      "5.50               1\n",
      "20.7               1\n",
      "10.7               1\n",
      "22.50              1\n",
      "21.50              1\n",
      "6.6                1\n",
      "3.2                1\n",
      "3.70               1\n",
      "4.1                1\n",
      "5.7                1\n",
      "Name: count, dtype: int64\n"
     ]
    }
   ],
   "source": [
    "import pandas as pd\n",
    "pd.set_option('display.max_rows', 200)\n",
    "\n",
    "conteo_por_nitrato_mg_l = rd_copia[\"nitrato_mg_l\"].value_counts(dropna= False)\n",
    "\n",
    "print(conteo_por_nitrato_mg_l)"
   ]
  },
  {
   "cell_type": "markdown",
   "metadata": {},
   "source": [
    "Reemplazo de valores sin sentido por nulos:"
   ]
  },
  {
   "cell_type": "code",
   "execution_count": 218,
   "metadata": {},
   "outputs": [
    {
     "name": "stdout",
     "output_type": "stream",
     "text": [
      "nitrato_mg_l\n",
      "<NA>     18\n",
      "<2.0     12\n",
      "<44       8\n",
      "2.9       4\n",
      "2.8       4\n",
      "4.20      3\n",
      "7.3       3\n",
      "2.7       3\n",
      "3.7       3\n",
      "6.20      2\n",
      "4.2       2\n",
      "3.9       2\n",
      "2.5       2\n",
      "3.3       2\n",
      "4.3       2\n",
      "2.3       2\n",
      "3.4       2\n",
      "3.1       2\n",
      "12.7      2\n",
      "5.3       2\n",
      "13.9      2\n",
      "5.30      2\n",
      "2.4       2\n",
      "9.9       2\n",
      "10.5      2\n",
      "10.6      2\n",
      "5.6       2\n",
      "3.5       1\n",
      "4.80      1\n",
      "15.2      1\n",
      "23.1      1\n",
      "9.60      1\n",
      "18.6      1\n",
      "6.3       1\n",
      "6.70      1\n",
      "5.2       1\n",
      "3.90      1\n",
      "15.7      1\n",
      "6.90      1\n",
      "5.5       1\n",
      "8.6       1\n",
      "2.6       1\n",
      "4.30      1\n",
      "3.10      1\n",
      "2.1       1\n",
      "5.1       1\n",
      "20.2      1\n",
      "8.70      1\n",
      "16.9      1\n",
      "5.8       1\n",
      "14.4      1\n",
      "10.1      1\n",
      "8.80      1\n",
      "39.4      1\n",
      "16.7      1\n",
      "9.30      1\n",
      "5.4       1\n",
      "16        1\n",
      "10.20     1\n",
      "5.80      1\n",
      "3.6       1\n",
      "11        1\n",
      "8.50      1\n",
      "13.8      1\n",
      "11.7      1\n",
      "8.90      1\n",
      "15.20     1\n",
      "13.3      1\n",
      "5.0       1\n",
      "20.00     1\n",
      "3.00      1\n",
      "7         1\n",
      "2.70      1\n",
      "9.2       1\n",
      "8.9       1\n",
      "6.9       1\n",
      "10.00     1\n",
      "7.6       1\n",
      "6.30      1\n",
      "9.0       1\n",
      "7.7       1\n",
      "16.70     1\n",
      "7.00      1\n",
      "6.10      1\n",
      "4.5       1\n",
      "3.8       1\n",
      "11.2      1\n",
      "5.10      1\n",
      "6.1       1\n",
      "6.4       1\n",
      "20.7      1\n",
      "11.60     1\n",
      "6.5       1\n",
      "5.50      1\n",
      "10.7      1\n",
      "22.50     1\n",
      "21.50     1\n",
      "6.6       1\n",
      "3.2       1\n",
      "3.70      1\n",
      "4.1       1\n",
      "5.7       1\n",
      "Name: count, dtype: int64\n"
     ]
    }
   ],
   "source": [
    "rd_copia[\"nitrato_mg_l\"] = rd_copia[\"nitrato_mg_l\"].replace([\"no se muestreó\",\"no se midió\", \"no muestreó\", \"inaccesible\", \"en obra\"], pd.NA)\n",
    "\n",
    "conteo_por_nitrato_mg_l = rd_copia[\"nitrato_mg_l\"].value_counts(dropna= False)\n",
    "print(conteo_por_nitrato_mg_l)"
   ]
  },
  {
   "cell_type": "markdown",
   "metadata": {},
   "source": [
    "Para determinar que valores deberian de tomar las cotas y los outliers consultamos el [Monitoreo calidad del agua en el Rio de la Plata. Campaña Otoño 2023](https://ciam.ambiente.gob.ar/images/uploaded/datasets/368/Metadata_Monitoreo_calidad_Rio_de_la_Plata_oto%C3%B1o_2023.pdf), en el mismo se menciona que el valor maximo de Concentración de nitratos en miligramos por litro (mg/L) dictada por la resolucion Res ADA 42 aceptable es 125 mg/l. De lo que podemos observar del metodo value counts los unicos valores sin sentido son las cotas por lo que pensamos en reemplazarlas de la siguietne manera: \n",
    "\n",
    "<2.0 -> 2 (Mismo valor)\n",
    "\n",
    "<44 -> 44 (Mismo valor)"
   ]
  },
  {
   "cell_type": "markdown",
   "metadata": {},
   "source": [
    "Reemplazo de cotas:"
   ]
  },
  {
   "cell_type": "code",
   "execution_count": 219,
   "metadata": {},
   "outputs": [
    {
     "name": "stdout",
     "output_type": "stream",
     "text": [
      "nitrato_mg_l\n",
      "<NA>     18\n",
      "2.0      12\n",
      "44        8\n",
      "2.9       4\n",
      "2.8       4\n",
      "4.20      3\n",
      "7.3       3\n",
      "2.7       3\n",
      "3.7       3\n",
      "6.20      2\n",
      "4.2       2\n",
      "3.9       2\n",
      "2.5       2\n",
      "3.3       2\n",
      "4.3       2\n",
      "2.3       2\n",
      "3.4       2\n",
      "3.1       2\n",
      "12.7      2\n",
      "5.3       2\n",
      "13.9      2\n",
      "5.30      2\n",
      "2.4       2\n",
      "9.9       2\n",
      "10.5      2\n",
      "10.6      2\n",
      "5.6       2\n",
      "3.5       1\n",
      "4.80      1\n",
      "15.2      1\n",
      "23.1      1\n",
      "9.60      1\n",
      "18.6      1\n",
      "6.3       1\n",
      "6.70      1\n",
      "5.2       1\n",
      "3.90      1\n",
      "15.7      1\n",
      "6.90      1\n",
      "5.5       1\n",
      "8.6       1\n",
      "2.6       1\n",
      "4.30      1\n",
      "3.10      1\n",
      "2.1       1\n",
      "5.1       1\n",
      "20.2      1\n",
      "8.70      1\n",
      "16.9      1\n",
      "5.8       1\n",
      "14.4      1\n",
      "10.1      1\n",
      "8.80      1\n",
      "39.4      1\n",
      "16.7      1\n",
      "9.30      1\n",
      "5.4       1\n",
      "16        1\n",
      "10.20     1\n",
      "5.80      1\n",
      "3.6       1\n",
      "11        1\n",
      "8.50      1\n",
      "13.8      1\n",
      "11.7      1\n",
      "8.90      1\n",
      "15.20     1\n",
      "13.3      1\n",
      "5.0       1\n",
      "20.00     1\n",
      "3.00      1\n",
      "7         1\n",
      "2.70      1\n",
      "9.2       1\n",
      "8.9       1\n",
      "6.9       1\n",
      "10.00     1\n",
      "7.6       1\n",
      "6.30      1\n",
      "9.0       1\n",
      "7.7       1\n",
      "16.70     1\n",
      "7.00      1\n",
      "6.10      1\n",
      "4.5       1\n",
      "3.8       1\n",
      "11.2      1\n",
      "5.10      1\n",
      "6.1       1\n",
      "6.4       1\n",
      "20.7      1\n",
      "11.60     1\n",
      "6.5       1\n",
      "5.50      1\n",
      "10.7      1\n",
      "22.50     1\n",
      "21.50     1\n",
      "6.6       1\n",
      "3.2       1\n",
      "3.70      1\n",
      "4.1       1\n",
      "5.7       1\n",
      "Name: count, dtype: int64\n"
     ]
    }
   ],
   "source": [
    "rd_copia[\"nitrato_mg_l\"] = rd_copia[\"nitrato_mg_l\"].replace('<2.0', 2.0)\n",
    "rd_copia[\"nitrato_mg_l\"] = rd_copia[\"nitrato_mg_l\"].replace('<44', 44)\n",
    "\n",
    "conteo_por_nh4_mg_l = rd_copia[\"nitrato_mg_l\"].value_counts(dropna= False)\n",
    "print(conteo_por_nh4_mg_l)"
   ]
  },
  {
   "cell_type": "markdown",
   "metadata": {},
   "source": [
    "Cambio del tipo de la columna a float:"
   ]
  },
  {
   "cell_type": "code",
   "execution_count": 220,
   "metadata": {},
   "outputs": [],
   "source": [
    "rd_copia[\"nitrato_mg_l\"] = pd.to_numeric(rd_copia[\"nitrato_mg_l\"], errors='coerce')"
   ]
  },
  {
   "cell_type": "markdown",
   "metadata": {},
   "source": [
    "### Analisis de nulos - enteroc_ufc_100ml (A la espera de la respuesta del especialista) [Probablemente lo dejemos así por que el rio está así, segun nos dijo la profe]:"
   ]
  },
  {
   "cell_type": "code",
   "execution_count": 221,
   "metadata": {},
   "outputs": [
    {
     "name": "stdout",
     "output_type": "stream",
     "text": [
      "enteroc_ufc_100ml\n",
      "300                   8\n",
      "no muestreó           7\n",
      "sin muestra           6\n",
      "200                   5\n",
      "3000                  4\n",
      "100                   4\n",
      "en obra               4\n",
      "no se muestreó        4\n",
      "800                   4\n",
      "400                   4\n",
      "360                   3\n",
      "140                   3\n",
      "60                    3\n",
      "500                   3\n",
      "1500                  3\n",
      "40                    3\n",
      "120                   3\n",
      "1200                  3\n",
      "5000                  3\n",
      "110                   3\n",
      "920                   2\n",
      "640                   2\n",
      "1400                  2\n",
      "290                   2\n",
      "130                   2\n",
      "1.500                 2\n",
      "80                    2\n",
      "230                   2\n",
      "330                   2\n",
      "10                    2\n",
      "inaccesible           2\n",
      "480                   2\n",
      "50                    2\n",
      "150                   2\n",
      "220                   2\n",
      "2000                  2\n",
      "900                   2\n",
      "1000                  2\n",
      "760                   2\n",
      "250                   1\n",
      "560                   1\n",
      "770                   1\n",
      "1600                  1\n",
      "930                   1\n",
      "9300                  1\n",
      "1.190                 1\n",
      "5700                  1\n",
      "3500                  1\n",
      "320                   1\n",
      "10000                 1\n",
      "550                   1\n",
      "16000                 1\n",
      "180                   1\n",
      "780                   1\n",
      "no se midió           1\n",
      "18000                 1\n",
      "170                   1\n",
      "2480                  1\n",
      "6000                  1\n",
      "240                   1\n",
      "5500                  1\n",
      "14000                 1\n",
      "88                    1\n",
      "envase sin muestra    1\n",
      "25                    1\n",
      "2                     1\n",
      "9000                  1\n",
      "260                   1\n",
      "7600                  1\n",
      "1430                  1\n",
      "20                    1\n",
      "410                   1\n",
      "30                    1\n",
      "530                   1\n",
      "15                    1\n",
      "1160                  1\n",
      "340                   1\n",
      "750                   1\n",
      "35                    1\n",
      "2600                  1\n",
      "5                     1\n",
      "2.400                 1\n",
      "160                   1\n",
      "5600                  1\n",
      "1.000                 1\n",
      "1960                  1\n",
      "280                   1\n",
      "18400                 1\n",
      "850                   1\n",
      "720                   1\n",
      "Name: count, dtype: int64\n"
     ]
    }
   ],
   "source": [
    "import pandas as pd\n",
    "pd.set_option('display.max_rows', 200)\n",
    "\n",
    "conteo_por_enteroc_ufc_100ml = rd_copia[\"enteroc_ufc_100ml\"].value_counts(dropna= False)\n",
    "\n",
    "print(conteo_por_enteroc_ufc_100ml)"
   ]
  },
  {
   "cell_type": "markdown",
   "metadata": {},
   "source": [
    "Reemplazo de valores sin sentido por nulos:"
   ]
  },
  {
   "cell_type": "code",
   "execution_count": 222,
   "metadata": {},
   "outputs": [
    {
     "name": "stdout",
     "output_type": "stream",
     "text": [
      "enteroc_ufc_100ml\n",
      "<NA>     25\n",
      "300       8\n",
      "200       5\n",
      "100       4\n",
      "400       4\n",
      "800       4\n",
      "3000      4\n",
      "1500      3\n",
      "140       3\n",
      "360       3\n",
      "110       3\n",
      "5000      3\n",
      "120       3\n",
      "1200      3\n",
      "60        3\n",
      "500       3\n",
      "40        3\n",
      "220       2\n",
      "130       2\n",
      "290       2\n",
      "330       2\n",
      "80        2\n",
      "10        2\n",
      "230       2\n",
      "920       2\n",
      "1400      2\n",
      "640       2\n",
      "900       2\n",
      "1.500     2\n",
      "480       2\n",
      "150       2\n",
      "760       2\n",
      "2000      2\n",
      "50        2\n",
      "1000      2\n",
      "770       1\n",
      "9300      1\n",
      "5700      1\n",
      "250       1\n",
      "560       1\n",
      "10000     1\n",
      "18000     1\n",
      "2480      1\n",
      "320       1\n",
      "180       1\n",
      "780       1\n",
      "16000     1\n",
      "170       1\n",
      "550       1\n",
      "1.190     1\n",
      "930       1\n",
      "1600      1\n",
      "240       1\n",
      "5500      1\n",
      "14000     1\n",
      "6000      1\n",
      "3500      1\n",
      "25        1\n",
      "88        1\n",
      "2         1\n",
      "530       1\n",
      "9000      1\n",
      "260       1\n",
      "7600      1\n",
      "1430      1\n",
      "20        1\n",
      "410       1\n",
      "30        1\n",
      "1160      1\n",
      "15        1\n",
      "750       1\n",
      "340       1\n",
      "2.400     1\n",
      "35        1\n",
      "2600      1\n",
      "5         1\n",
      "5600      1\n",
      "160       1\n",
      "1.000     1\n",
      "1960      1\n",
      "280       1\n",
      "18400     1\n",
      "850       1\n",
      "720       1\n",
      "Name: count, dtype: int64\n"
     ]
    }
   ],
   "source": [
    "rd_copia[\"enteroc_ufc_100ml\"] = rd_copia[\"enteroc_ufc_100ml\"].replace([\"no se muestreó\",\"no se midió\", \"no muestreó\", \"inaccesible\", \"en obra\", \"sin muestra\", \"envase sin muestra\"], pd.NA)\n",
    "\n",
    "conteo_por_enteroc_ufc_100ml = rd_copia[\"enteroc_ufc_100ml\"].value_counts(dropna= False)\n",
    "print(conteo_por_enteroc_ufc_100ml)"
   ]
  },
  {
   "cell_type": "markdown",
   "metadata": {},
   "source": [
    "<span style=\"color:yellow; font-size:20px\">Ehhh, las mediciones no tienen sentido :)</span> \n",
    "<br><br>\n",
    "Consultamos el [Monitoreo calidad del agua en el Rio de la Plata. Campaña Otoño 2023](https://ciam.ambiente.gob.ar/images/uploaded/datasets/368/Metadata_Monitoreo_calidad_Rio_de_la_Plata_oto%C3%B1o_2023.pdf) y en el mismo se menciona que el valor maximo de Unidades formadoras de colonias de enterococos en 100 ml de agua dictada por la resolucion Res ADA 42 aceptable es 33 UFC/100 ml, lo que implica que el rio casi está en un estado deplorable en su totalidad o las mediciones registradas son erroneas. Nos parece que tiene mas sentido lo segundo, pero dudamos sobre que valores usar en reemplazo para cada medicion."
   ]
  },
  {
   "cell_type": "markdown",
   "metadata": {},
   "source": [
    "RESPUESTA: \n",
    "Consultamos a la profe, que habló con el especialista y nos dijo que el río estaba verdaderamente así de mal :)."
   ]
  },
  {
   "cell_type": "markdown",
   "metadata": {},
   "source": [
    "Cambio del tipo de la columna:"
   ]
  },
  {
   "cell_type": "code",
   "execution_count": 223,
   "metadata": {},
   "outputs": [],
   "source": [
    "rd_copia[\"enteroc_ufc_100ml\"] = pd.to_numeric(rd_copia[\"enteroc_ufc_100ml\"], errors='coerce')"
   ]
  },
  {
   "cell_type": "markdown",
   "metadata": {},
   "source": [
    "### Analisis de nulos - escher_coli_ufc_100ml (A la espera de la respuesta del especialista) [Probablemente lo dejemos así por que el río está así, segun nos dijo la profe]:"
   ]
  },
  {
   "cell_type": "code",
   "execution_count": 224,
   "metadata": {},
   "outputs": [
    {
     "name": "stdout",
     "output_type": "stream",
     "text": [
      "escher_coli_ufc_100ml\n",
      "400                   9\n",
      "500                   7\n",
      "2000                  7\n",
      "no muestreó           7\n",
      "100                   6\n",
      "sin muestra           6\n",
      "600                   5\n",
      "200                   5\n",
      "900                   5\n",
      "1100                  4\n",
      "en obra               4\n",
      "no se muestreó        4\n",
      "800                   4\n",
      "2200                  3\n",
      "120                   3\n",
      "1000                  3\n",
      "3200                  2\n",
      "4100                  2\n",
      "350                   2\n",
      "14000                 2\n",
      "3000                  2\n",
      "19000                 2\n",
      "inaccesible           2\n",
      "2300                  2\n",
      "1600                  2\n",
      "11000                 2\n",
      "60                    2\n",
      "130                   2\n",
      "1400                  2\n",
      "7200                  1\n",
      "4400                  1\n",
      "20.000                1\n",
      "13000                 1\n",
      "18000                 1\n",
      "2.900                 1\n",
      "180                   1\n",
      "8300                  1\n",
      "3.000                 1\n",
      "5200                  1\n",
      "1.500                 1\n",
      "3600                  1\n",
      "2700                  1\n",
      "20000                 1\n",
      "65000                 1\n",
      "no se midió           1\n",
      "4200                  1\n",
      "4500                  1\n",
      "5800                  1\n",
      "4.000                 1\n",
      "3.400                 1\n",
      "3.700                 1\n",
      "9800                  1\n",
      "1200                  1\n",
      "4700                  1\n",
      "150                   1\n",
      "260                   1\n",
      "220                   1\n",
      "1620                  1\n",
      "850                   1\n",
      "19.000                1\n",
      "21.000                1\n",
      "1300                  1\n",
      "140.000               1\n",
      "16000                 1\n",
      "4600                  1\n",
      "4.100                 1\n",
      "170                   1\n",
      "1800                  1\n",
      "840                   1\n",
      "420                   1\n",
      "envase sin muestra    1\n",
      "450                   1\n",
      "2500                  1\n",
      "10300                 1\n",
      "170000                1\n",
      "540                   1\n",
      "360                   1\n",
      "40                    1\n",
      "570                   1\n",
      "5600                  1\n",
      "6800                  1\n",
      "35                    1\n",
      "320                   1\n",
      "38000                 1\n",
      "32000                 1\n",
      "15600                 1\n",
      "11200                 1\n",
      "75000                 1\n",
      "700                   1\n",
      "300                   1\n",
      "Name: count, dtype: int64\n"
     ]
    }
   ],
   "source": [
    "import pandas as pd\n",
    "pd.set_option('display.max_rows', 200)\n",
    "\n",
    "conteo_por_escher_coli_ufc_100ml = rd_copia[\"escher_coli_ufc_100ml\"].value_counts(dropna= False)\n",
    "\n",
    "print(conteo_por_escher_coli_ufc_100ml)"
   ]
  },
  {
   "cell_type": "markdown",
   "metadata": {},
   "source": [
    "Reemplazo de valores sin sentidos a nulos:"
   ]
  },
  {
   "cell_type": "code",
   "execution_count": 225,
   "metadata": {},
   "outputs": [
    {
     "name": "stdout",
     "output_type": "stream",
     "text": [
      "escher_coli_ufc_100ml\n",
      "<NA>       25\n",
      "400         9\n",
      "2000        7\n",
      "500         7\n",
      "100         6\n",
      "900         5\n",
      "600         5\n",
      "200         5\n",
      "800         4\n",
      "1100        4\n",
      "1000        3\n",
      "2200        3\n",
      "120         3\n",
      "350         2\n",
      "2300        2\n",
      "1400        2\n",
      "4100        2\n",
      "19000       2\n",
      "3200        2\n",
      "14000       2\n",
      "130         2\n",
      "1600        2\n",
      "11000       2\n",
      "3000        2\n",
      "60          2\n",
      "20.000      1\n",
      "8300        1\n",
      "3.000       1\n",
      "180         1\n",
      "18000       1\n",
      "3600        1\n",
      "1.500       1\n",
      "2.900       1\n",
      "5200        1\n",
      "220         1\n",
      "150         1\n",
      "5800        1\n",
      "2700        1\n",
      "260         1\n",
      "4700        1\n",
      "20000       1\n",
      "4500        1\n",
      "65000       1\n",
      "4200        1\n",
      "4.000       1\n",
      "1200        1\n",
      "3.400       1\n",
      "9800        1\n",
      "1620        1\n",
      "13000       1\n",
      "4400        1\n",
      "7200        1\n",
      "21.000      1\n",
      "1300        1\n",
      "140.000     1\n",
      "3.700       1\n",
      "10300       1\n",
      "16000       1\n",
      "4.100       1\n",
      "19.000      1\n",
      "2500        1\n",
      "170         1\n",
      "1800        1\n",
      "420         1\n",
      "840         1\n",
      "450         1\n",
      "4600        1\n",
      "850         1\n",
      "170000      1\n",
      "540         1\n",
      "40          1\n",
      "360         1\n",
      "35          1\n",
      "570         1\n",
      "5600        1\n",
      "6800        1\n",
      "320         1\n",
      "38000       1\n",
      "32000       1\n",
      "15600       1\n",
      "11200       1\n",
      "75000       1\n",
      "700         1\n",
      "300         1\n",
      "Name: count, dtype: int64\n"
     ]
    }
   ],
   "source": [
    "rd_copia[\"escher_coli_ufc_100ml\"] = rd_copia[\"escher_coli_ufc_100ml\"].replace([\"no se muestreó\",\"no se midió\", \"no muestreó\", \"inaccesible\", \"en obra\", \"sin muestra\", \"envase sin muestra\"], pd.NA)\n",
    "\n",
    "conteo_por_escher_coli_ufc_100ml = rd_copia[\"escher_coli_ufc_100ml\"].value_counts(dropna= False)\n",
    "print(conteo_por_escher_coli_ufc_100ml)"
   ]
  },
  {
   "cell_type": "markdown",
   "metadata": {},
   "source": [
    "<span style=\"color:yellow; font-size:20px\">Ehhh, las mediciones no tienen sentido, otra vez :)</span> \n",
    "<br><br>\n",
    "Sucede exactamente lo mismo que con la columna anterior."
   ]
  },
  {
   "cell_type": "markdown",
   "metadata": {},
   "source": [
    "RESPUESTA: Es exactamente la misma que en la variable anterior."
   ]
  },
  {
   "cell_type": "markdown",
   "metadata": {},
   "source": [
    "Cambio del tipo de la columna:"
   ]
  },
  {
   "cell_type": "code",
   "execution_count": 226,
   "metadata": {},
   "outputs": [],
   "source": [
    "rd_copia[\"escher_coli_ufc_100ml\"] = pd.to_numeric(rd_copia[\"escher_coli_ufc_100ml\"], errors='coerce')"
   ]
  },
  {
   "cell_type": "markdown",
   "metadata": {},
   "source": [
    "### Analisis de nulos - colif_fecales_ufc_100ml (A la espera de la respuesta del especialista) [Probablemente lo dejemos así por que el río está así, segun nos dijo la profe]:"
   ]
  },
  {
   "cell_type": "code",
   "execution_count": 227,
   "metadata": {},
   "outputs": [
    {
     "name": "stdout",
     "output_type": "stream",
     "text": [
      "colif_fecales_ufc_100ml\n",
      "1000                  8\n",
      "4000                  8\n",
      "2000                  7\n",
      "no muestreó           7\n",
      "sin muestra           6\n",
      "800                   5\n",
      "7000                  5\n",
      "600                   5\n",
      "15000                 5\n",
      "400                   4\n",
      "no se muestreó        4\n",
      "500                   4\n",
      "en obra               4\n",
      "300                   4\n",
      "200                   4\n",
      "6000                  3\n",
      "11000                 3\n",
      "5000                  3\n",
      "700                   3\n",
      "2.000                 3\n",
      "100                   2\n",
      "1100                  2\n",
      "inaccesible           2\n",
      "19000                 2\n",
      "900                   2\n",
      "12000                 2\n",
      "1.000                 2\n",
      "1700                  2\n",
      "9000                  2\n",
      "22000                 2\n",
      "3000                  2\n",
      "24.000                2\n",
      "1200                  2\n",
      "21000                 1\n",
      "41.000                1\n",
      "23000                 1\n",
      "5.000                 1\n",
      "3200                  1\n",
      "240                   1\n",
      "no se midió           1\n",
      "5800                  1\n",
      "1.300                 1\n",
      "62000                 1\n",
      "170                   1\n",
      "2900                  1\n",
      "3300                  1\n",
      "235                   1\n",
      "8800                  1\n",
      "4.000                 1\n",
      "6.800                 1\n",
      "13200                 1\n",
      "4.200                 1\n",
      "20000                 1\n",
      "7600                  1\n",
      "3.400                 1\n",
      "28000                 1\n",
      "150000                1\n",
      "5200                  1\n",
      "29.000                1\n",
      "4.100                 1\n",
      "850                   1\n",
      "19.000                1\n",
      "1300                  1\n",
      "200.000               1\n",
      "38000                 1\n",
      "3.000                 1\n",
      "420                   1\n",
      "2400                  1\n",
      "40000                 1\n",
      "4100                  1\n",
      "envase sin muestra    1\n",
      "178.000               1\n",
      "450                   1\n",
      "1400                  1\n",
      "10000                 1\n",
      "18000                 1\n",
      "41000                 1\n",
      "32000                 1\n",
      "52000                 1\n",
      "81000                 1\n",
      "1.100                 1\n",
      "Name: count, dtype: int64\n"
     ]
    }
   ],
   "source": [
    "import pandas as pd\n",
    "pd.set_option('display.max_rows', 200)\n",
    "\n",
    "conteo_por_colif_fecales_ufc_100ml = rd_copia[\"colif_fecales_ufc_100ml\"].value_counts(dropna= False)\n",
    "\n",
    "print(conteo_por_colif_fecales_ufc_100ml)"
   ]
  },
  {
   "cell_type": "markdown",
   "metadata": {},
   "source": [
    "Reemplazo de valores sin sentido por nulos:"
   ]
  },
  {
   "cell_type": "code",
   "execution_count": 228,
   "metadata": {},
   "outputs": [
    {
     "name": "stdout",
     "output_type": "stream",
     "text": [
      "colif_fecales_ufc_100ml\n",
      "<NA>       25\n",
      "4000        8\n",
      "1000        8\n",
      "2000        7\n",
      "600         5\n",
      "7000        5\n",
      "15000       5\n",
      "800         5\n",
      "400         4\n",
      "300         4\n",
      "200         4\n",
      "500         4\n",
      "700         3\n",
      "2.000       3\n",
      "11000       3\n",
      "5000        3\n",
      "6000        3\n",
      "100         2\n",
      "1.000       2\n",
      "1100        2\n",
      "900         2\n",
      "1200        2\n",
      "9000        2\n",
      "3000        2\n",
      "1700        2\n",
      "19000       2\n",
      "24.000      2\n",
      "22000       2\n",
      "12000       2\n",
      "3200        1\n",
      "240         1\n",
      "23000       1\n",
      "5.000       1\n",
      "170         1\n",
      "62000       1\n",
      "5800        1\n",
      "235         1\n",
      "8800        1\n",
      "4.000       1\n",
      "21000       1\n",
      "2900        1\n",
      "1.300       1\n",
      "41.000      1\n",
      "20000       1\n",
      "3.400       1\n",
      "7600        1\n",
      "28000       1\n",
      "150000      1\n",
      "3300        1\n",
      "5200        1\n",
      "6.800       1\n",
      "1300        1\n",
      "200.000     1\n",
      "29.000      1\n",
      "19.000      1\n",
      "4.100       1\n",
      "38000       1\n",
      "13200       1\n",
      "4.200       1\n",
      "2400        1\n",
      "40000       1\n",
      "850         1\n",
      "420         1\n",
      "178.000     1\n",
      "4100        1\n",
      "450         1\n",
      "3.000       1\n",
      "10000       1\n",
      "18000       1\n",
      "1400        1\n",
      "41000       1\n",
      "32000       1\n",
      "52000       1\n",
      "81000       1\n",
      "1.100       1\n",
      "Name: count, dtype: int64\n"
     ]
    }
   ],
   "source": [
    "rd_copia[\"colif_fecales_ufc_100ml\"] = rd_copia[\"colif_fecales_ufc_100ml\"].replace([\"no se muestreó\",\"no se midió\", \"no muestreó\", \"inaccesible\", \"en obra\", \"sin muestra\", \"envase sin muestra\"], pd.NA)\n",
    "\n",
    "conteo_por_colif_fecales_ufc_100ml = rd_copia[\"colif_fecales_ufc_100ml\"].value_counts(dropna= False)\n",
    "print(conteo_por_colif_fecales_ufc_100ml)"
   ]
  },
  {
   "cell_type": "markdown",
   "metadata": {},
   "source": [
    "<span style=\"color:yellow; font-size:20px\">Ehhh, las mediciones no tienen sentido, otra vez :))</span> \n",
    "<br><br>\n",
    "Sucede exactamente lo mismo que con la columna anterior."
   ]
  },
  {
   "cell_type": "markdown",
   "metadata": {},
   "source": [
    "RESPUESTA: Es la misma que en la variable anterior."
   ]
  },
  {
   "cell_type": "markdown",
   "metadata": {},
   "source": [
    "Cambio de del tipo de la columna:"
   ]
  },
  {
   "cell_type": "code",
   "execution_count": 229,
   "metadata": {},
   "outputs": [],
   "source": [
    "rd_copia[\"colif_fecales_ufc_100ml\"] = pd.to_numeric(rd_copia[\"colif_fecales_ufc_100ml\"], errors='coerce')"
   ]
  },
  {
   "cell_type": "markdown",
   "metadata": {},
   "source": [
    "### Analisis de nulos - mat_susp (Completado):"
   ]
  },
  {
   "cell_type": "code",
   "execution_count": 230,
   "metadata": {},
   "outputs": [
    {
     "name": "stdout",
     "output_type": "stream",
     "text": [
      "mat_susp\n",
      "Ausencia          104\n",
      "Presencia          47\n",
      "no muestreó         7\n",
      "en obra             4\n",
      "no se muestreó      4\n",
      "inaccesible         2\n",
      "no se midió         1\n",
      "Name: count, dtype: int64\n"
     ]
    }
   ],
   "source": [
    "import pandas as pd\n",
    "pd.set_option('display.max_rows', 200)\n",
    "\n",
    "conteo_por_mat_susp = rd_copia[\"mat_susp\"].value_counts(dropna= False)\n",
    "\n",
    "print(conteo_por_mat_susp)"
   ]
  },
  {
   "cell_type": "markdown",
   "metadata": {},
   "source": [
    "Reemplazo de valores sin sentido por nulos:"
   ]
  },
  {
   "cell_type": "code",
   "execution_count": 231,
   "metadata": {},
   "outputs": [
    {
     "name": "stdout",
     "output_type": "stream",
     "text": [
      "mat_susp\n",
      "Ausencia     104\n",
      "Presencia     47\n",
      "<NA>          18\n",
      "Name: count, dtype: int64\n"
     ]
    }
   ],
   "source": [
    "rd_copia[\"mat_susp\"] = rd_copia[\"mat_susp\"].replace([\"no se muestreó\",\"no se midió\", \"no muestreó\", \"inaccesible\", \"en obra\"], pd.NA)\n",
    "\n",
    "conteo_por_mat_susp = rd_copia[\"mat_susp\"].value_counts(dropna= False)\n",
    "print(conteo_por_mat_susp)"
   ]
  },
  {
   "cell_type": "markdown",
   "metadata": {},
   "source": [
    "Modificacion de la columna para convertirla en booleana:"
   ]
  },
  {
   "cell_type": "code",
   "execution_count": 232,
   "metadata": {},
   "outputs": [
    {
     "name": "stdout",
     "output_type": "stream",
     "text": [
      "mat_susp\n",
      "0       104\n",
      "1        47\n",
      "<NA>     18\n",
      "Name: count, dtype: int64\n"
     ]
    }
   ],
   "source": [
    "rd_copia[\"mat_susp\"] = rd_copia[\"mat_susp\"].replace([\"Presencia\"], 1)\n",
    "rd_copia[\"mat_susp\"] = rd_copia[\"mat_susp\"].replace([\"Ausencia\"], 0)\n",
    "\n",
    "conteo_por_mat_susp = rd_copia[\"mat_susp\"].value_counts(dropna= False)\n",
    "print(conteo_por_mat_susp)"
   ]
  },
  {
   "cell_type": "markdown",
   "metadata": {},
   "source": [
    "Cambio del tipo de la columna a Booleano:"
   ]
  },
  {
   "cell_type": "code",
   "execution_count": 233,
   "metadata": {},
   "outputs": [],
   "source": [
    "rd_copia[\"mat_susp\"] = rd_copia[\"mat_susp\"].astype('boolean')"
   ]
  },
  {
   "cell_type": "markdown",
   "metadata": {},
   "source": [
    "### Analisis de nulos - espumas (Completado):"
   ]
  },
  {
   "cell_type": "code",
   "execution_count": 234,
   "metadata": {},
   "outputs": [
    {
     "name": "stdout",
     "output_type": "stream",
     "text": [
      "espumas\n",
      "Ausencia          146\n",
      "no muestreó         7\n",
      "Presencia           5\n",
      "en obra             4\n",
      "no se muestreó      4\n",
      "inaccesible         2\n",
      "no se midió         1\n",
      "Name: count, dtype: int64\n"
     ]
    }
   ],
   "source": [
    "import pandas as pd\n",
    "pd.set_option('display.max_rows', 200)\n",
    "\n",
    "conteo_por_espumas = rd_copia[\"espumas\"].value_counts(dropna= False)\n",
    "\n",
    "print(conteo_por_espumas)"
   ]
  },
  {
   "cell_type": "markdown",
   "metadata": {},
   "source": [
    "Reemplazo de valores a nulos:"
   ]
  },
  {
   "cell_type": "code",
   "execution_count": 235,
   "metadata": {},
   "outputs": [
    {
     "name": "stdout",
     "output_type": "stream",
     "text": [
      "espumas\n",
      "Ausencia     146\n",
      "<NA>          18\n",
      "Presencia      5\n",
      "Name: count, dtype: int64\n"
     ]
    }
   ],
   "source": [
    "rd_copia[\"espumas\"] = rd_copia[\"espumas\"].replace([\"no se muestreó\",\"no se midió\", \"no muestreó\", \"inaccesible\", \"en obra\"], pd.NA)\n",
    "\n",
    "conteo_por_espumas = rd_copia[\"espumas\"].value_counts(dropna= False)\n",
    "print(conteo_por_espumas)"
   ]
  },
  {
   "cell_type": "markdown",
   "metadata": {},
   "source": [
    "Modificacion de la columna para convertirla en booleana:"
   ]
  },
  {
   "cell_type": "code",
   "execution_count": 236,
   "metadata": {},
   "outputs": [
    {
     "name": "stdout",
     "output_type": "stream",
     "text": [
      "espumas\n",
      "0       146\n",
      "<NA>     18\n",
      "1         5\n",
      "Name: count, dtype: int64\n"
     ]
    }
   ],
   "source": [
    "rd_copia[\"espumas\"] = rd_copia[\"espumas\"].replace([\"Presencia\"], 1)\n",
    "rd_copia[\"espumas\"] = rd_copia[\"espumas\"].replace([\"Ausencia\"], 0)\n",
    "\n",
    "conteo_por_espumas = rd_copia[\"espumas\"].value_counts(dropna= False)\n",
    "print(conteo_por_espumas)"
   ]
  },
  {
   "cell_type": "markdown",
   "metadata": {},
   "source": [
    "Cambio del tipo de la columna a booleano:"
   ]
  },
  {
   "cell_type": "code",
   "execution_count": 237,
   "metadata": {},
   "outputs": [],
   "source": [
    "rd_copia[\"espumas\"] = rd_copia[\"espumas\"].astype('boolean')"
   ]
  },
  {
   "cell_type": "markdown",
   "metadata": {},
   "source": [
    "### Analisis de nulos - color (Completado):"
   ]
  },
  {
   "cell_type": "code",
   "execution_count": 238,
   "metadata": {},
   "outputs": [
    {
     "name": "stdout",
     "output_type": "stream",
     "text": [
      "color\n",
      "Ausencia          142\n",
      "Presencia           9\n",
      "no muestreó         7\n",
      "en obra             4\n",
      "no se muestreó      4\n",
      "inaccesible         2\n",
      "no se midió         1\n",
      "Name: count, dtype: int64\n"
     ]
    }
   ],
   "source": [
    "import pandas as pd\n",
    "pd.set_option('display.max_rows', 200)\n",
    "\n",
    "conteo_por_color = rd_copia[\"color\"].value_counts(dropna= False)\n",
    "\n",
    "print(conteo_por_color)"
   ]
  },
  {
   "cell_type": "markdown",
   "metadata": {},
   "source": [
    "Reemplazo de valores sin sentido a nulos:"
   ]
  },
  {
   "cell_type": "code",
   "execution_count": 239,
   "metadata": {},
   "outputs": [
    {
     "name": "stdout",
     "output_type": "stream",
     "text": [
      "color\n",
      "Ausencia     142\n",
      "<NA>          18\n",
      "Presencia      9\n",
      "Name: count, dtype: int64\n"
     ]
    }
   ],
   "source": [
    "rd_copia[\"color\"] = rd_copia[\"color\"].replace([\"no se muestreó\",\"no se midió\", \"no muestreó\", \"inaccesible\", \"en obra\"], pd.NA)\n",
    "\n",
    "conteo_por_color = rd_copia[\"color\"].value_counts(dropna= False)\n",
    "print(conteo_por_color)"
   ]
  },
  {
   "cell_type": "markdown",
   "metadata": {},
   "source": [
    "Modificacion de la columna para convertirla en booleana:"
   ]
  },
  {
   "cell_type": "code",
   "execution_count": 240,
   "metadata": {},
   "outputs": [
    {
     "name": "stdout",
     "output_type": "stream",
     "text": [
      "color\n",
      "0       142\n",
      "<NA>     18\n",
      "1         9\n",
      "Name: count, dtype: int64\n"
     ]
    }
   ],
   "source": [
    "rd_copia[\"color\"] = rd_copia[\"color\"].replace([\"Presencia\"], 1)\n",
    "rd_copia[\"color\"] = rd_copia[\"color\"].replace([\"Ausencia\"], 0)\n",
    "\n",
    "conteo_por_color = rd_copia[\"color\"].value_counts(dropna= False)\n",
    "print(conteo_por_color)"
   ]
  },
  {
   "cell_type": "markdown",
   "metadata": {},
   "source": [
    "Cambio del tipo de la columna a booleano:"
   ]
  },
  {
   "cell_type": "code",
   "execution_count": 241,
   "metadata": {},
   "outputs": [],
   "source": [
    "rd_copia[\"color\"] = rd_copia[\"color\"].astype('boolean')"
   ]
  },
  {
   "cell_type": "markdown",
   "metadata": {},
   "source": [
    "### Analisis de nulos - olores (Completado):"
   ]
  },
  {
   "cell_type": "code",
   "execution_count": 242,
   "metadata": {},
   "outputs": [
    {
     "name": "stdout",
     "output_type": "stream",
     "text": [
      "olores\n",
      "Ausencia          140\n",
      "Presencia          11\n",
      "no muestreó         7\n",
      "en obra             4\n",
      "no se muestreó      4\n",
      "inaccesible         2\n",
      "no se midió         1\n",
      "Name: count, dtype: int64\n"
     ]
    }
   ],
   "source": [
    "import pandas as pd\n",
    "pd.set_option('display.max_rows', 200)\n",
    "\n",
    "conteo_por_olores = rd_copia[\"olores\"].value_counts(dropna= False)\n",
    "\n",
    "print(conteo_por_olores)"
   ]
  },
  {
   "cell_type": "markdown",
   "metadata": {},
   "source": [
    "Reemplazo de valores sin sentido a nulos:"
   ]
  },
  {
   "cell_type": "code",
   "execution_count": 243,
   "metadata": {},
   "outputs": [
    {
     "name": "stdout",
     "output_type": "stream",
     "text": [
      "olores\n",
      "Ausencia     140\n",
      "<NA>          18\n",
      "Presencia     11\n",
      "Name: count, dtype: int64\n"
     ]
    }
   ],
   "source": [
    "rd_copia[\"olores\"] = rd_copia[\"olores\"].replace([\"no se muestreó\",\"no se midió\", \"no muestreó\", \"inaccesible\", \"en obra\"], pd.NA)\n",
    "\n",
    "conteo_por_olores = rd_copia[\"olores\"].value_counts(dropna= False)\n",
    "print(conteo_por_olores)"
   ]
  },
  {
   "cell_type": "markdown",
   "metadata": {},
   "source": [
    "Modificacion de la columna para convertirla en booleana:"
   ]
  },
  {
   "cell_type": "code",
   "execution_count": 244,
   "metadata": {},
   "outputs": [
    {
     "name": "stdout",
     "output_type": "stream",
     "text": [
      "olores\n",
      "0       140\n",
      "<NA>     18\n",
      "1        11\n",
      "Name: count, dtype: int64\n"
     ]
    }
   ],
   "source": [
    "rd_copia[\"olores\"] = rd_copia[\"olores\"].replace([\"Presencia\"], 1)\n",
    "rd_copia[\"olores\"] = rd_copia[\"olores\"].replace([\"Ausencia\"], 0)\n",
    "\n",
    "conteo_por_olores = rd_copia[\"olores\"].value_counts(dropna= False)\n",
    "print(conteo_por_olores)"
   ]
  },
  {
   "cell_type": "markdown",
   "metadata": {},
   "source": [
    "Cambio del tipo de la columna a booleano:"
   ]
  },
  {
   "cell_type": "code",
   "execution_count": 245,
   "metadata": {},
   "outputs": [],
   "source": [
    "rd_copia[\"olores\"] = rd_copia[\"olores\"].astype('boolean')"
   ]
  },
  {
   "cell_type": "markdown",
   "metadata": {},
   "source": [
    "### Analisis de nulos - ph (Completado):"
   ]
  },
  {
   "cell_type": "code",
   "execution_count": 246,
   "metadata": {},
   "outputs": [
    {
     "name": "stdout",
     "output_type": "stream",
     "text": [
      "ph\n",
      "sin equipo        13\n",
      "no muestreó        7\n",
      "no se midió        5\n",
      "-                  4\n",
      "en obra            4\n",
      "no se muestreó     4\n",
      "no funcionó        4\n",
      "7.13               3\n",
      "7.48               3\n",
      "7.39               3\n",
      "7.30               3\n",
      "7.08               2\n",
      "6.91               2\n",
      "6.50               2\n",
      "7.05               2\n",
      "7.04               2\n",
      "7.33               2\n",
      "6.49               2\n",
      "7.06               2\n",
      "7.47               2\n",
      "7.5                2\n",
      "7.41               2\n",
      "7.7                2\n",
      "6.74               2\n",
      "6.82               2\n",
      "7.22               2\n",
      "7.24               2\n",
      "7.55               2\n",
      "7.84               2\n",
      "7.96               2\n",
      "inaccesible        2\n",
      "6.65               1\n",
      "6.83               1\n",
      "7.16               1\n",
      "7.07               1\n",
      "6.71               1\n",
      "6.88               1\n",
      "6.96               1\n",
      "6.57               1\n",
      "7.27               1\n",
      "6.69               1\n",
      "7.19               1\n",
      "7.32               1\n",
      "6.60               1\n",
      "6.64               1\n",
      "6.73               1\n",
      "6.95               1\n",
      "6                  1\n",
      "6.61               1\n",
      "7.11               1\n",
      "NaN                1\n",
      "7.17               1\n",
      "6.4                1\n",
      "6.67               1\n",
      "6.62               1\n",
      "7.50               1\n",
      "7.3                1\n",
      "7.8                1\n",
      "7.40               1\n",
      "7.36               1\n",
      "7.23               1\n",
      "7                  1\n",
      "7.45               1\n",
      "7.52               1\n",
      "7.42               1\n",
      "7.34               1\n",
      "7.53               1\n",
      "5.32               1\n",
      "7.15               1\n",
      "7.66               1\n",
      "5.31               1\n",
      "7.29               1\n",
      "6.85               1\n",
      "6.53               1\n",
      "6.58               1\n",
      "6.97               1\n",
      "6.75               1\n",
      "6.32               1\n",
      "7.4                1\n",
      "10.5               1\n",
      "8.69               1\n",
      "9.59               1\n",
      "6.63               1\n",
      "8.11               1\n",
      "8.55               1\n",
      "7.82               1\n",
      "8.01               1\n",
      "8.07               1\n",
      "7.88               1\n",
      "7.58               1\n",
      "9.38               1\n",
      "7.75               1\n",
      "8.70               1\n",
      "7.65               1\n",
      "8.08               1\n",
      "9.39               1\n",
      "8.02               1\n",
      "7.76               1\n",
      "9.18               1\n",
      "8.21               1\n",
      "9.04               1\n",
      "8.49               1\n",
      "8.7                1\n",
      "8.67               1\n",
      "8.35               1\n",
      "8.30               1\n",
      "8.09               1\n",
      "Name: count, dtype: int64\n"
     ]
    }
   ],
   "source": [
    "import pandas as pd\n",
    "pd.set_option('display.max_rows', 200)\n",
    "\n",
    "conteo_por_ph = rd_copia[\"ph\"].value_counts(dropna= False)\n",
    "\n",
    "print(conteo_por_ph)"
   ]
  },
  {
   "cell_type": "markdown",
   "metadata": {},
   "source": [
    "Reemplazo de valores sin sentido por nulos:"
   ]
  },
  {
   "cell_type": "code",
   "execution_count": 247,
   "metadata": {},
   "outputs": [
    {
     "name": "stdout",
     "output_type": "stream",
     "text": [
      "ph\n",
      "<NA>    44\n",
      "7.13     3\n",
      "7.30     3\n",
      "7.39     3\n",
      "7.48     3\n",
      "7.24     2\n",
      "7.04     2\n",
      "7.05     2\n",
      "6.49     2\n",
      "6.82     2\n",
      "7.22     2\n",
      "7.06     2\n",
      "6.91     2\n",
      "6.50     2\n",
      "7.08     2\n",
      "7.47     2\n",
      "7.7      2\n",
      "6.74     2\n",
      "7.33     2\n",
      "7.55     2\n",
      "7.84     2\n",
      "7.41     2\n",
      "7.5      2\n",
      "7.96     2\n",
      "7.32     1\n",
      "6.88     1\n",
      "7.19     1\n",
      "7.17     1\n",
      "6.4      1\n",
      "6.67     1\n",
      "6.69     1\n",
      "7.27     1\n",
      "6.71     1\n",
      "6.57     1\n",
      "6.96     1\n",
      "6.95     1\n",
      "6        1\n",
      "6.61     1\n",
      "7.11     1\n",
      "7.07     1\n",
      "7.16     1\n",
      "6.83     1\n",
      "6.65     1\n",
      "6.62     1\n",
      "6.85     1\n",
      "7.40     1\n",
      "7.3      1\n",
      "7.8      1\n",
      "7.50     1\n",
      "6.60     1\n",
      "6.64     1\n",
      "7.23     1\n",
      "7        1\n",
      "7.29     1\n",
      "7.36     1\n",
      "7.45     1\n",
      "7.52     1\n",
      "7.42     1\n",
      "7.34     1\n",
      "7.53     1\n",
      "5.32     1\n",
      "7.15     1\n",
      "7.66     1\n",
      "5.31     1\n",
      "6.53     1\n",
      "6.58     1\n",
      "6.73     1\n",
      "6.75     1\n",
      "6.32     1\n",
      "7.4      1\n",
      "6.97     1\n",
      "9.38     1\n",
      "10.5     1\n",
      "6.63     1\n",
      "9.59     1\n",
      "8.55     1\n",
      "8.69     1\n",
      "7.82     1\n",
      "8.11     1\n",
      "8.01     1\n",
      "8.07     1\n",
      "7.88     1\n",
      "7.58     1\n",
      "7.75     1\n",
      "8.70     1\n",
      "7.65     1\n",
      "8.08     1\n",
      "9.39     1\n",
      "8.02     1\n",
      "7.76     1\n",
      "9.18     1\n",
      "8.21     1\n",
      "9.04     1\n",
      "8.49     1\n",
      "8.7      1\n",
      "8.67     1\n",
      "8.35     1\n",
      "8.30     1\n",
      "8.09     1\n",
      "Name: count, dtype: int64\n"
     ]
    }
   ],
   "source": [
    "rd_copia[\"ph\"] = rd_copia[\"ph\"].replace([\"no se muestreó\",\"no se midió\", \"no muestreó\", \"inaccesible\", \"en obra\", \"-\", \"sin equipo\", \"no funcionó\", pd.NA], pd.NA)\n",
    "\n",
    "conteo_por_ph = rd_copia[\"ph\"].value_counts(dropna= False)\n",
    "print(conteo_por_ph)"
   ]
  },
  {
   "cell_type": "markdown",
   "metadata": {},
   "source": [
    "Conversion de la columna a tipo Float"
   ]
  },
  {
   "cell_type": "code",
   "execution_count": 248,
   "metadata": {},
   "outputs": [],
   "source": [
    "rd_copia[\"ph\"] = pd.to_numeric(rd_copia[\"ph\"], errors='coerce')"
   ]
  },
  {
   "cell_type": "markdown",
   "metadata": {},
   "source": [
    "### Analisis de nulos - od (Completado):"
   ]
  },
  {
   "cell_type": "code",
   "execution_count": 249,
   "metadata": {},
   "outputs": [
    {
     "name": "stdout",
     "output_type": "stream",
     "text": [
      "od\n",
      "sin equipo        12\n",
      "no muestreó        7\n",
      "no se midió        5\n",
      "en obra            4\n",
      "no se muestreó     4\n",
      "6.3                3\n",
      "6.4                2\n",
      "5.4                2\n",
      "8.53               2\n",
      "5.94               2\n",
      "7.60               2\n",
      "N/R                2\n",
      "6.33               2\n",
      "inaccesible        2\n",
      "5.85               2\n",
      "5.02               2\n",
      "7.09               1\n",
      "6.59               1\n",
      "5.36               1\n",
      "2.01               1\n",
      "5.26               1\n",
      "4.13               1\n",
      "2.67               1\n",
      "3.45               1\n",
      "5.88               1\n",
      "3.1                1\n",
      "1.95               1\n",
      "6.7                1\n",
      "6.16               1\n",
      "6.14               1\n",
      "6.88               1\n",
      "2.62               1\n",
      "4.72               1\n",
      "7.12               1\n",
      "7.74               1\n",
      "7.82               1\n",
      "5.19               1\n",
      "4.15               1\n",
      "8.72               1\n",
      "8.09               1\n",
      "6.5                1\n",
      "5.65               1\n",
      "5.61               1\n",
      "5.16               1\n",
      "6.66               1\n",
      "6.69               1\n",
      "3.24               1\n",
      "6.32               1\n",
      "7.64               1\n",
      "2.94               1\n",
      "8.27               1\n",
      "4.86               1\n",
      "6.37               1\n",
      "6.60               1\n",
      "5.20               1\n",
      "8.15               1\n",
      "6.95               1\n",
      "6.79               1\n",
      "7.41               1\n",
      "4.88               1\n",
      "4.31               1\n",
      "5.97               1\n",
      "6.08               1\n",
      "5.75               1\n",
      "2.98               1\n",
      "5.28               1\n",
      "2.20               1\n",
      "5.14               1\n",
      "5.07               1\n",
      "8                  1\n",
      "5.57               1\n",
      "5.58               1\n",
      "0.6                1\n",
      "3.03               1\n",
      "3.33               1\n",
      "1.2                1\n",
      "5.22               1\n",
      "4.85               1\n",
      "4.99               1\n",
      "5.24               1\n",
      "7.9                1\n",
      "6.20               1\n",
      "0.96               1\n",
      "1.22               1\n",
      "1.99               1\n",
      "3.02               1\n",
      "3.22               1\n",
      "1.1                1\n",
      "2.64               1\n",
      "4.45               1\n",
      "6.82               1\n",
      "5.55               1\n",
      "9.88               1\n",
      "5.70               1\n",
      "9.3                1\n",
      "7.23               1\n",
      "3.55               1\n",
      "8.4                1\n",
      "11.49              1\n",
      "8.11               1\n",
      "7.13               1\n",
      "12.62              1\n",
      "8.28               1\n",
      "2.68               1\n",
      "4.24               1\n",
      "8.44               1\n",
      "5.48               1\n",
      "8.57               1\n",
      "6.13               1\n",
      "5.63               1\n",
      "7.43               1\n",
      "0.2                1\n",
      "6.24               1\n",
      "9.05               1\n",
      "4.76               1\n",
      "8.99               1\n",
      "5.92               1\n",
      "11.70              1\n",
      "7.51               1\n",
      "6.65               1\n",
      "10.88              1\n",
      "4.53               1\n",
      "7.53               1\n",
      "10.02              1\n",
      "9.78               1\n",
      "9.41               1\n",
      "5.8                1\n",
      "5.93               1\n",
      "8.22               1\n",
      "8.96               1\n",
      "Name: count, dtype: int64\n"
     ]
    }
   ],
   "source": [
    "import pandas as pd\n",
    "pd.set_option('display.max_rows', 200)\n",
    "\n",
    "conteo_por_od = rd_copia[\"od\"].value_counts(dropna= False)\n",
    "\n",
    "print(conteo_por_od)"
   ]
  },
  {
   "cell_type": "markdown",
   "metadata": {},
   "source": [
    "Reemplazo de valores sin sentido por nulos:"
   ]
  },
  {
   "cell_type": "code",
   "execution_count": 250,
   "metadata": {},
   "outputs": [
    {
     "name": "stdout",
     "output_type": "stream",
     "text": [
      "od\n",
      "<NA>     36\n",
      "6.3       3\n",
      "5.85      2\n",
      "8.53      2\n",
      "5.4       2\n",
      "5.02      2\n",
      "6.4       2\n",
      "5.94      2\n",
      "6.33      2\n",
      "7.60      2\n",
      "4.72      1\n",
      "7.12      1\n",
      "4.31      1\n",
      "5.97      1\n",
      "5.75      1\n",
      "6.08      1\n",
      "2.98      1\n",
      "5.28      1\n",
      "5.36      1\n",
      "2.01      1\n",
      "5.26      1\n",
      "4.13      1\n",
      "2.67      1\n",
      "3.45      1\n",
      "6.14      1\n",
      "6.16      1\n",
      "6.88      1\n",
      "2.62      1\n",
      "6.7       1\n",
      "1.95      1\n",
      "8.09      1\n",
      "8.72      1\n",
      "7.82      1\n",
      "7.74      1\n",
      "4.15      1\n",
      "5.19      1\n",
      "5.65      1\n",
      "2.94      1\n",
      "6.5       1\n",
      "6.32      1\n",
      "7.64      1\n",
      "5.61      1\n",
      "5.16      1\n",
      "6.66      1\n",
      "6.69      1\n",
      "3.24      1\n",
      "6.37      1\n",
      "4.86      1\n",
      "8.27      1\n",
      "6.60      1\n",
      "8.15      1\n",
      "6.95      1\n",
      "6.79      1\n",
      "5.20      1\n",
      "5.58      1\n",
      "4.88      1\n",
      "5.88      1\n",
      "3.1       1\n",
      "7.09      1\n",
      "6.59      1\n",
      "5.07      1\n",
      "5.14      1\n",
      "5.57      1\n",
      "7.41      1\n",
      "6.20      1\n",
      "7.9       1\n",
      "8.4       1\n",
      "2.20      1\n",
      "3.03      1\n",
      "3.55      1\n",
      "3.33      1\n",
      "1.2       1\n",
      "4.85      1\n",
      "5.22      1\n",
      "4.99      1\n",
      "8         1\n",
      "5.24      1\n",
      "1.22      1\n",
      "0.96      1\n",
      "3.02      1\n",
      "4.45      1\n",
      "1.99      1\n",
      "3.22      1\n",
      "1.1       1\n",
      "2.64      1\n",
      "6.82      1\n",
      "5.55      1\n",
      "9.88      1\n",
      "5.70      1\n",
      "9.3       1\n",
      "7.23      1\n",
      "0.6       1\n",
      "8.11      1\n",
      "11.49     1\n",
      "8.44      1\n",
      "12.62     1\n",
      "9.05      1\n",
      "8.28      1\n",
      "2.68      1\n",
      "7.13      1\n",
      "4.24      1\n",
      "5.48      1\n",
      "5.63      1\n",
      "8.57      1\n",
      "6.13      1\n",
      "7.43      1\n",
      "0.2       1\n",
      "6.24      1\n",
      "4.76      1\n",
      "8.99      1\n",
      "5.92      1\n",
      "11.70     1\n",
      "7.51      1\n",
      "6.65      1\n",
      "10.88     1\n",
      "4.53      1\n",
      "7.53      1\n",
      "10.02     1\n",
      "9.78      1\n",
      "9.41      1\n",
      "5.8       1\n",
      "5.93      1\n",
      "8.22      1\n",
      "8.96      1\n",
      "Name: count, dtype: int64\n"
     ]
    }
   ],
   "source": [
    "rd_copia[\"od\"] = rd_copia[\"od\"].replace([\"no se muestreó\",\"no se midió\", \"no muestreó\", \"inaccesible\", \"en obra\", \"N/R\", \"sin equipo\"], pd.NA)\n",
    "\n",
    "conteo_por_od = rd_copia[\"od\"].value_counts(dropna= False)\n",
    "print(conteo_por_od)"
   ]
  },
  {
   "cell_type": "markdown",
   "metadata": {},
   "source": [
    "Conversion de la columna a tipo Float"
   ]
  },
  {
   "cell_type": "code",
   "execution_count": 251,
   "metadata": {},
   "outputs": [],
   "source": [
    "rd_copia[\"od\"] = pd.to_numeric(rd_copia[\"od\"], errors='coerce')"
   ]
  },
  {
   "cell_type": "markdown",
   "metadata": {},
   "source": [
    "### Analisis de nulos - tem_aire (Completado al 75%) [Aun no encontramos una referencia para esta medicion] [Probablemente lo dejemos así]:"
   ]
  },
  {
   "cell_type": "code",
   "execution_count": 252,
   "metadata": {},
   "outputs": [
    {
     "name": "stdout",
     "output_type": "stream",
     "text": [
      "tem_aire\n",
      "13                18\n",
      "25                15\n",
      "15                15\n",
      "22                13\n",
      "24                11\n",
      "14                 8\n",
      "11                 7\n",
      "12                 7\n",
      "no muestreó        7\n",
      "28                 7\n",
      "23                 7\n",
      "10                 6\n",
      "no se midió        5\n",
      "sin equipo         5\n",
      "26                 5\n",
      "21                 5\n",
      "no se muestreó     4\n",
      "en obra            4\n",
      "29                 3\n",
      "20                 3\n",
      "18                 3\n",
      "11.3               2\n",
      "16                 2\n",
      "19                 2\n",
      "inaccesible        2\n",
      "27                 1\n",
      "11.5               1\n",
      "30                 1\n",
      "Name: count, dtype: int64\n"
     ]
    }
   ],
   "source": [
    "import pandas as pd\n",
    "pd.set_option('display.max_rows', 200)\n",
    "\n",
    "conteo_por_tem_aire = rd_copia[\"tem_aire\"].value_counts(dropna= False)\n",
    "\n",
    "print(conteo_por_tem_aire)"
   ]
  },
  {
   "cell_type": "markdown",
   "metadata": {},
   "source": [
    "Reemplazando valores sin sentido por nulos:"
   ]
  },
  {
   "cell_type": "code",
   "execution_count": 253,
   "metadata": {},
   "outputs": [
    {
     "name": "stdout",
     "output_type": "stream",
     "text": [
      "tem_aire\n",
      "<NA>    27\n",
      "13      18\n",
      "25      15\n",
      "15      15\n",
      "22      13\n",
      "24      11\n",
      "14       8\n",
      "28       7\n",
      "23       7\n",
      "12       7\n",
      "11       7\n",
      "10       6\n",
      "21       5\n",
      "26       5\n",
      "29       3\n",
      "20       3\n",
      "18       3\n",
      "19       2\n",
      "16       2\n",
      "11.3     2\n",
      "27       1\n",
      "30       1\n",
      "11.5     1\n",
      "Name: count, dtype: int64\n"
     ]
    }
   ],
   "source": [
    "rd_copia[\"tem_aire\"] = rd_copia[\"tem_aire\"].replace([\"no se muestreó\",\"no se midió\", \"no muestreó\", \"inaccesible\", \"en obra\", \"sin equipo\"], pd.NA)\n",
    "\n",
    "conteo_por_tem_aire = rd_copia[\"tem_aire\"].value_counts(dropna= False)\n",
    "print(conteo_por_tem_aire)"
   ]
  },
  {
   "cell_type": "markdown",
   "metadata": {},
   "source": [
    "<span style=\"color:yellow; font-size:20px\">Aun no encontramos una referencia para esta medicion</span> \n",
    "<br>"
   ]
  },
  {
   "cell_type": "markdown",
   "metadata": {},
   "source": [
    "12/11: De hecho, probablemente lo dejemos así por que si vemos los cuartiles nos damos cuenta que los valores no estan distribuidos de manera atipica y no pareciera haber outlayers."
   ]
  },
  {
   "cell_type": "code",
   "execution_count": 254,
   "metadata": {},
   "outputs": [
    {
     "data": {
      "text/plain": [
       "count     142\n",
       "unique     22\n",
       "top        13\n",
       "freq       18\n",
       "Name: tem_aire, dtype: object"
      ]
     },
     "execution_count": 254,
     "metadata": {},
     "output_type": "execute_result"
    }
   ],
   "source": [
    "rd_copia['tem_aire'].describe()"
   ]
  },
  {
   "cell_type": "markdown",
   "metadata": {},
   "source": [
    "Conversion de la columna a tipo Float"
   ]
  },
  {
   "cell_type": "code",
   "execution_count": 255,
   "metadata": {},
   "outputs": [],
   "source": [
    "rd_copia[\"tem_aire\"] = pd.to_numeric(rd_copia[\"tem_aire\"], errors='coerce')"
   ]
  },
  {
   "cell_type": "markdown",
   "metadata": {},
   "source": [
    "### Analisis de nulos - tem_agua (Completado):"
   ]
  },
  {
   "cell_type": "code",
   "execution_count": 256,
   "metadata": {},
   "outputs": [
    {
     "name": "stdout",
     "output_type": "stream",
     "text": [
      "tem_agua\n",
      "18                19\n",
      "22                11\n",
      "17                10\n",
      "sin equipo         9\n",
      "23                 9\n",
      "no muestreó        7\n",
      "16                 6\n",
      "21                 6\n",
      "19                 6\n",
      "12                 5\n",
      "20                 5\n",
      "no se midió        5\n",
      "en obra            4\n",
      "24                 4\n",
      "no se muestreó     4\n",
      "26                 3\n",
      "25.2               2\n",
      "28                 2\n",
      "13.7               2\n",
      "25.9               2\n",
      "inaccesible        2\n",
      "13.8               2\n",
      "24.2               2\n",
      "25                 2\n",
      "15.3               2\n",
      "15.1               2\n",
      "15                 2\n",
      "27.6               1\n",
      "16.3               1\n",
      "28.7               1\n",
      "13.5               1\n",
      "28.5               1\n",
      "15.8               1\n",
      "29.4               1\n",
      "15.5               1\n",
      "15.2               1\n",
      "26.1               1\n",
      "26.8               1\n",
      "13.1               1\n",
      "25.6               1\n",
      "26.4               1\n",
      "27.8               1\n",
      "25.5               1\n",
      "14.3               1\n",
      "17.5               1\n",
      "23.87              1\n",
      "15.18              1\n",
      "24.69              1\n",
      "15.21              1\n",
      "14.53              1\n",
      "14.5               1\n",
      "24.6               1\n",
      "24.5               1\n",
      "25.3               1\n",
      "25.4               1\n",
      "24.4               1\n",
      "12.3               1\n",
      "12.9               1\n",
      "22.8               1\n",
      "12.6               1\n",
      "12.2               1\n",
      "Name: count, dtype: int64\n"
     ]
    }
   ],
   "source": [
    "import pandas as pd\n",
    "pd.set_option('display.max_rows', 200)\n",
    "\n",
    "conteo_por_tem_agua = rd_copia[\"tem_agua\"].value_counts(dropna= False)\n",
    "\n",
    "print(conteo_por_tem_agua)"
   ]
  },
  {
   "cell_type": "markdown",
   "metadata": {},
   "source": [
    "Reemplazando valores sin sentido por nulos:"
   ]
  },
  {
   "cell_type": "code",
   "execution_count": 257,
   "metadata": {},
   "outputs": [
    {
     "name": "stdout",
     "output_type": "stream",
     "text": [
      "tem_agua\n",
      "<NA>     31\n",
      "18       19\n",
      "22       11\n",
      "17       10\n",
      "23        9\n",
      "19        6\n",
      "21        6\n",
      "16        6\n",
      "20        5\n",
      "12        5\n",
      "24        4\n",
      "26        3\n",
      "28        2\n",
      "25.2      2\n",
      "25.9      2\n",
      "15        2\n",
      "13.7      2\n",
      "24.2      2\n",
      "25        2\n",
      "13.8      2\n",
      "15.3      2\n",
      "15.1      2\n",
      "16.3      1\n",
      "26.8      1\n",
      "13.5      1\n",
      "15.5      1\n",
      "28.5      1\n",
      "15.8      1\n",
      "29.4      1\n",
      "26.1      1\n",
      "15.2      1\n",
      "27.6      1\n",
      "14.3      1\n",
      "13.1      1\n",
      "27.8      1\n",
      "26.4      1\n",
      "25.6      1\n",
      "28.7      1\n",
      "25.5      1\n",
      "17.5      1\n",
      "15.18     1\n",
      "24.69     1\n",
      "15.21     1\n",
      "24.5      1\n",
      "24.6      1\n",
      "14.5      1\n",
      "14.53     1\n",
      "23.87     1\n",
      "25.3      1\n",
      "25.4      1\n",
      "12.3      1\n",
      "24.4      1\n",
      "12.9      1\n",
      "22.8      1\n",
      "12.6      1\n",
      "12.2      1\n",
      "Name: count, dtype: int64\n"
     ]
    }
   ],
   "source": [
    "rd_copia[\"tem_agua\"] = rd_copia[\"tem_agua\"].replace([\"no se muestreó\",\"no se midió\", \"no muestreó\", \"inaccesible\", \"en obra\", \"sin equipo\"], pd.NA)\n",
    "\n",
    "conteo_por_tem_agua = rd_copia[\"tem_agua\"].value_counts(dropna= False)\n",
    "print(conteo_por_tem_agua)"
   ]
  },
  {
   "cell_type": "markdown",
   "metadata": {},
   "source": [
    "Segun la Resolución ACUMAR N° 46/2017 Anexo C, el valor maximo de referencia para uso recreativo con contacto directo es de 35°. por lo tanto podemos determinar que todos los valores medidos tienen sentido y no necesitan de niguna conversion."
   ]
  },
  {
   "cell_type": "markdown",
   "metadata": {},
   "source": [
    "Conversion de la columna a tipo Float"
   ]
  },
  {
   "cell_type": "code",
   "execution_count": 258,
   "metadata": {},
   "outputs": [],
   "source": [
    "rd_copia[\"tem_agua\"] = pd.to_numeric(rd_copia[\"tem_agua\"], errors='coerce')"
   ]
  },
  {
   "cell_type": "markdown",
   "metadata": {},
   "source": [
    "### Analisis de nulos - campaña (Completado):"
   ]
  },
  {
   "cell_type": "code",
   "execution_count": 259,
   "metadata": {},
   "outputs": [
    {
     "name": "stdout",
     "output_type": "stream",
     "text": [
      "campaña\n",
      "invierno     43\n",
      "Verano       42\n",
      "otoño        42\n",
      "primavera    42\n",
      "Name: count, dtype: int64\n"
     ]
    }
   ],
   "source": [
    "import pandas as pd\n",
    "pd.set_option('display.max_rows', 200)\n",
    "\n",
    "conteo_por_campania = rd_copia[\"campaña\"].value_counts(dropna= False)\n",
    "\n",
    "print(conteo_por_campania)"
   ]
  },
  {
   "cell_type": "markdown",
   "metadata": {},
   "source": [
    "No hay valores que carezcan de sentido. <br>"
   ]
  },
  {
   "cell_type": "markdown",
   "metadata": {},
   "source": [
    "Conversion de la columna a tipo String"
   ]
  },
  {
   "cell_type": "code",
   "execution_count": 260,
   "metadata": {},
   "outputs": [],
   "source": [
    "rd_copia[\"campaña\"] = rd_copia[\"campaña\"].astype(str)"
   ]
  },
  {
   "cell_type": "markdown",
   "metadata": {},
   "source": [
    "### Analisis de nulos - fecha (Completado):"
   ]
  },
  {
   "cell_type": "code",
   "execution_count": 261,
   "metadata": {},
   "outputs": [
    {
     "name": "stdout",
     "output_type": "stream",
     "text": [
      "fecha\n",
      "23/8/2023     43\n",
      "22/2/2023     42\n",
      "10/5/2023     42\n",
      "14/11/2023    42\n",
      "Name: count, dtype: int64\n"
     ]
    }
   ],
   "source": [
    "import pandas as pd\n",
    "pd.set_option('display.max_rows', 200)\n",
    "\n",
    "conteo_por_fecha = rd_copia[\"fecha\"].value_counts(dropna= False)\n",
    "\n",
    "print(conteo_por_fecha)"
   ]
  },
  {
   "cell_type": "markdown",
   "metadata": {},
   "source": [
    "Conversion de la columna a tipo Date:"
   ]
  },
  {
   "cell_type": "code",
   "execution_count": 262,
   "metadata": {},
   "outputs": [
    {
     "name": "stdout",
     "output_type": "stream",
     "text": [
      "datetime64[ns]\n"
     ]
    }
   ],
   "source": [
    "import pandas as pd\n",
    "\n",
    "rd_copia[\"fecha\"] = pd.to_datetime(rd_copia[\"fecha\"], format=\"%d/%m/%Y\")\n",
    "\n",
    "print(rd_copia[\"fecha\"].dtype)\n",
    "\n",
    "# Aqui %d representa el día, %m el mes y %Y el año en el formato “DD/MM/AAAA”."
   ]
  },
  {
   "cell_type": "markdown",
   "metadata": {},
   "source": [
    "### Analisis de nulos - codigo (Completado):"
   ]
  },
  {
   "cell_type": "code",
   "execution_count": 263,
   "metadata": {},
   "outputs": [
    {
     "name": "stdout",
     "output_type": "stream",
     "text": [
      "codigo\n",
      "TI001       4\n",
      "TI006       4\n",
      "TI002       4\n",
      "TI003       4\n",
      "TI004       4\n",
      "TI005       4\n",
      "TI007       4\n",
      "TI008       4\n",
      "TI009       4\n",
      "SF015       4\n",
      "SI021       4\n",
      "SI022       4\n",
      "SI024       4\n",
      "SI023       4\n",
      "VL033       4\n",
      "VL032       4\n",
      "VL031       4\n",
      "CA041       4\n",
      "CA044       4\n",
      "CA046       4\n",
      "CA047       4\n",
      "AV054       4\n",
      "AV051       4\n",
      "AV052       4\n",
      "AV053       4\n",
      "AV055       4\n",
      "QU061       4\n",
      "QU062       4\n",
      "BS095       4\n",
      "QU063       4\n",
      "BZ078       4\n",
      "BZ077       4\n",
      "BZ080       4\n",
      "EN081       4\n",
      "EN083       4\n",
      "EN082       4\n",
      "BS094       4\n",
      "BS091       4\n",
      "EN084       4\n",
      "BS092       4\n",
      "BS093       4\n",
      "EN-adic     3\n",
      "AC001       1\n",
      "EN-extra    1\n",
      "Name: count, dtype: int64\n"
     ]
    }
   ],
   "source": [
    "import pandas as pd\n",
    "pd.set_option('display.max_rows', 200)\n",
    "\n",
    "conteo_por_codigo = rd_copia[\"codigo\"].value_counts(dropna= False)\n",
    "\n",
    "print(conteo_por_codigo)"
   ]
  },
  {
   "cell_type": "markdown",
   "metadata": {},
   "source": [
    "Conversion de la columna a tipo String"
   ]
  },
  {
   "cell_type": "code",
   "execution_count": 264,
   "metadata": {},
   "outputs": [],
   "source": [
    "rd_copia[\"codigo\"] = rd_copia[\"codigo\"].astype(str)"
   ]
  },
  {
   "cell_type": "markdown",
   "metadata": {},
   "source": [
    "### Analisis de nulos - sitios (Completado):"
   ]
  },
  {
   "cell_type": "code",
   "execution_count": 265,
   "metadata": {},
   "outputs": [
    {
     "name": "stdout",
     "output_type": "stream",
     "text": [
      "sitios\n",
      "Canal Villanueva y Río Luján                 4\n",
      "Río Lujan y Arroyo Caraguatá                 4\n",
      "Canal Aliviador y Río Lujan                  4\n",
      "Río Carapachay y Arroyo Gallo Fiambre        4\n",
      "Río Reconquista y Río Lujan                  4\n",
      "Rio Tigre 100m antes del Rio Luján           4\n",
      "Río Lujan y Canal San Fernando               4\n",
      "Río Capitán y Río San Antonio                4\n",
      "Arroyo Abra Vieja y Santa Rosa               4\n",
      "Del Arca                                     4\n",
      "Espigón La Farola                            4\n",
      "Reserva Ecológica                            4\n",
      "Playa Espigón de Pacheco                     4\n",
      "Perú Puente                                  4\n",
      "Reserva Barrio El Ceibo                      4\n",
      "Puerto de Olivos Espigón                     4\n",
      "Costa y Melo                                 4\n",
      "Parque de los Niños                          4\n",
      "Costanera Norte - Espigón Abanico            4\n",
      "Club de Pescadores                           4\n",
      "Reserva Ecológica Costanera Sur - Playita    4\n",
      "Escollera de Propaneros                      4\n",
      "Polo Petroquímico Dock Sud                   4\n",
      "Costa de Villa Domínico                      4\n",
      "Arroyo Sarandí                               4\n",
      "Arroyo Santo Domingo                         4\n",
      "Espora 400 m                                 4\n",
      "Toma de agua Club de Pesca                   4\n",
      "Náutico 400 m                                4\n",
      "Pejerrey Club 400 m                          4\n",
      "Calle 14 y Costa - Salida cloaca             4\n",
      "Puerto Trinidad calle 47                     4\n",
      "Costanera Hudson Calle 63                    4\n",
      "Boca Cerrada (Res.Nat. Punta Lara)           4\n",
      "Camping Eva Perón                            4\n",
      "Diagonal 66 (descarga cloaca)                4\n",
      "Arroyo El Gato                               4\n",
      "Ensenada Prefectura Isla Santiago            4\n",
      "Balneario Palo Blanco                        4\n",
      "Balneario Municipal                          4\n",
      "Playa La Bagliardi                           4\n",
      "Playa La Balandra                            4\n",
      "Cuatro bocas- desembocadura del Riachuelo    1\n",
      "Name: count, dtype: int64\n"
     ]
    }
   ],
   "source": [
    "import pandas as pd\n",
    "pd.set_option('display.max_rows', 200)\n",
    "\n",
    "conteo_por_sitios = rd_copia[\"sitios\"].value_counts(dropna= False)\n",
    "\n",
    "print(conteo_por_sitios)"
   ]
  },
  {
   "cell_type": "markdown",
   "metadata": {},
   "source": [
    "Conversion de la columna a tipo String:"
   ]
  },
  {
   "cell_type": "code",
   "execution_count": 266,
   "metadata": {},
   "outputs": [],
   "source": [
    "rd_copia[\"codigo\"] = rd_copia[\"codigo\"].astype('str')"
   ]
  },
  {
   "cell_type": "markdown",
   "metadata": {},
   "source": [
    "## Analisis de grupo de entradas/filas en busqueda de las que no aportan información."
   ]
  },
  {
   "cell_type": "markdown",
   "metadata": {},
   "source": [
    "Como contamos con 30 columnas decidimos que aquellas entradas de la tabla que tengan mas de 10 nulos no las consideramos confiables. Por lo tanto las vamos a buscar y borrar del dataset."
   ]
  },
  {
   "cell_type": "code",
   "execution_count": 267,
   "metadata": {},
   "outputs": [
    {
     "data": {
      "text/html": [
       "<div>\n",
       "<style scoped>\n",
       "    .dataframe tbody tr th:only-of-type {\n",
       "        vertical-align: middle;\n",
       "    }\n",
       "\n",
       "    .dataframe tbody tr th {\n",
       "        vertical-align: top;\n",
       "    }\n",
       "\n",
       "    .dataframe thead th {\n",
       "        text-align: right;\n",
       "    }\n",
       "</style>\n",
       "<table border=\"1\" class=\"dataframe\">\n",
       "  <thead>\n",
       "    <tr style=\"text-align: right;\">\n",
       "      <th></th>\n",
       "      <th>sitios</th>\n",
       "      <th>codigo</th>\n",
       "      <th>fecha</th>\n",
       "      <th>campaña</th>\n",
       "      <th>tem_agua</th>\n",
       "      <th>tem_aire</th>\n",
       "      <th>od</th>\n",
       "      <th>ph</th>\n",
       "      <th>olores</th>\n",
       "      <th>color</th>\n",
       "      <th>espumas</th>\n",
       "      <th>mat_susp</th>\n",
       "      <th>colif_fecales_ufc_100ml</th>\n",
       "      <th>escher_coli_ufc_100ml</th>\n",
       "      <th>enteroc_ufc_100ml</th>\n",
       "      <th>nitrato_mg_l</th>\n",
       "      <th>nh4_mg_l</th>\n",
       "      <th>p_total_l_mg_l</th>\n",
       "      <th>fosf_ortofos_mg_l</th>\n",
       "      <th>dbo_mg_l</th>\n",
       "      <th>dqo_mg_l</th>\n",
       "      <th>turbiedad_ntu</th>\n",
       "      <th>cr_total_mg_l</th>\n",
       "      <th>Alta_presencia_de_cadmio</th>\n",
       "      <th>clorofila_a_ug_l</th>\n",
       "      <th>microcistina_ug_l</th>\n",
       "      <th>ica</th>\n",
       "      <th>calidad_de_agua</th>\n",
       "    </tr>\n",
       "  </thead>\n",
       "  <tbody>\n",
       "    <tr>\n",
       "      <th>40</th>\n",
       "      <td>Espigón La Farola</td>\n",
       "      <td>SI021</td>\n",
       "      <td>2023-02-22</td>\n",
       "      <td>Verano</td>\n",
       "      <td>NaN</td>\n",
       "      <td>NaN</td>\n",
       "      <td>NaN</td>\n",
       "      <td>NaN</td>\n",
       "      <td>&lt;NA&gt;</td>\n",
       "      <td>&lt;NA&gt;</td>\n",
       "      <td>&lt;NA&gt;</td>\n",
       "      <td>&lt;NA&gt;</td>\n",
       "      <td>NaN</td>\n",
       "      <td>NaN</td>\n",
       "      <td>NaN</td>\n",
       "      <td>NaN</td>\n",
       "      <td>NaN</td>\n",
       "      <td>NaN</td>\n",
       "      <td>NaN</td>\n",
       "      <td>NaN</td>\n",
       "      <td>NaN</td>\n",
       "      <td>NaN</td>\n",
       "      <td>NaN</td>\n",
       "      <td>&lt;NA&gt;</td>\n",
       "      <td>NaN</td>\n",
       "      <td>NaN</td>\n",
       "      <td>NaN</td>\n",
       "      <td>&lt;NA&gt;</td>\n",
       "    </tr>\n",
       "    <tr>\n",
       "      <th>41</th>\n",
       "      <td>Espigón La Farola</td>\n",
       "      <td>SI021</td>\n",
       "      <td>2023-05-10</td>\n",
       "      <td>otoño</td>\n",
       "      <td>NaN</td>\n",
       "      <td>NaN</td>\n",
       "      <td>NaN</td>\n",
       "      <td>NaN</td>\n",
       "      <td>&lt;NA&gt;</td>\n",
       "      <td>&lt;NA&gt;</td>\n",
       "      <td>&lt;NA&gt;</td>\n",
       "      <td>&lt;NA&gt;</td>\n",
       "      <td>NaN</td>\n",
       "      <td>NaN</td>\n",
       "      <td>NaN</td>\n",
       "      <td>NaN</td>\n",
       "      <td>NaN</td>\n",
       "      <td>NaN</td>\n",
       "      <td>NaN</td>\n",
       "      <td>NaN</td>\n",
       "      <td>NaN</td>\n",
       "      <td>NaN</td>\n",
       "      <td>NaN</td>\n",
       "      <td>&lt;NA&gt;</td>\n",
       "      <td>NaN</td>\n",
       "      <td>NaN</td>\n",
       "      <td>NaN</td>\n",
       "      <td>&lt;NA&gt;</td>\n",
       "    </tr>\n",
       "    <tr>\n",
       "      <th>42</th>\n",
       "      <td>Espigón La Farola</td>\n",
       "      <td>SI021</td>\n",
       "      <td>2023-08-23</td>\n",
       "      <td>invierno</td>\n",
       "      <td>NaN</td>\n",
       "      <td>NaN</td>\n",
       "      <td>NaN</td>\n",
       "      <td>NaN</td>\n",
       "      <td>&lt;NA&gt;</td>\n",
       "      <td>&lt;NA&gt;</td>\n",
       "      <td>&lt;NA&gt;</td>\n",
       "      <td>&lt;NA&gt;</td>\n",
       "      <td>NaN</td>\n",
       "      <td>NaN</td>\n",
       "      <td>NaN</td>\n",
       "      <td>NaN</td>\n",
       "      <td>NaN</td>\n",
       "      <td>NaN</td>\n",
       "      <td>NaN</td>\n",
       "      <td>NaN</td>\n",
       "      <td>NaN</td>\n",
       "      <td>NaN</td>\n",
       "      <td>NaN</td>\n",
       "      <td>&lt;NA&gt;</td>\n",
       "      <td>NaN</td>\n",
       "      <td>NaN</td>\n",
       "      <td>NaN</td>\n",
       "      <td>&lt;NA&gt;</td>\n",
       "    </tr>\n",
       "    <tr>\n",
       "      <th>43</th>\n",
       "      <td>Espigón La Farola</td>\n",
       "      <td>SI021</td>\n",
       "      <td>2023-11-14</td>\n",
       "      <td>primavera</td>\n",
       "      <td>NaN</td>\n",
       "      <td>NaN</td>\n",
       "      <td>NaN</td>\n",
       "      <td>NaN</td>\n",
       "      <td>&lt;NA&gt;</td>\n",
       "      <td>&lt;NA&gt;</td>\n",
       "      <td>&lt;NA&gt;</td>\n",
       "      <td>&lt;NA&gt;</td>\n",
       "      <td>NaN</td>\n",
       "      <td>NaN</td>\n",
       "      <td>NaN</td>\n",
       "      <td>NaN</td>\n",
       "      <td>NaN</td>\n",
       "      <td>NaN</td>\n",
       "      <td>NaN</td>\n",
       "      <td>NaN</td>\n",
       "      <td>NaN</td>\n",
       "      <td>NaN</td>\n",
       "      <td>NaN</td>\n",
       "      <td>&lt;NA&gt;</td>\n",
       "      <td>NaN</td>\n",
       "      <td>NaN</td>\n",
       "      <td>NaN</td>\n",
       "      <td>&lt;NA&gt;</td>\n",
       "    </tr>\n",
       "    <tr>\n",
       "      <th>52</th>\n",
       "      <td>Perú Puente</td>\n",
       "      <td>SI023</td>\n",
       "      <td>2023-02-22</td>\n",
       "      <td>Verano</td>\n",
       "      <td>NaN</td>\n",
       "      <td>NaN</td>\n",
       "      <td>NaN</td>\n",
       "      <td>NaN</td>\n",
       "      <td>&lt;NA&gt;</td>\n",
       "      <td>&lt;NA&gt;</td>\n",
       "      <td>&lt;NA&gt;</td>\n",
       "      <td>&lt;NA&gt;</td>\n",
       "      <td>NaN</td>\n",
       "      <td>NaN</td>\n",
       "      <td>NaN</td>\n",
       "      <td>NaN</td>\n",
       "      <td>NaN</td>\n",
       "      <td>NaN</td>\n",
       "      <td>NaN</td>\n",
       "      <td>NaN</td>\n",
       "      <td>NaN</td>\n",
       "      <td>NaN</td>\n",
       "      <td>NaN</td>\n",
       "      <td>&lt;NA&gt;</td>\n",
       "      <td>NaN</td>\n",
       "      <td>NaN</td>\n",
       "      <td>NaN</td>\n",
       "      <td>&lt;NA&gt;</td>\n",
       "    </tr>\n",
       "    <tr>\n",
       "      <th>70</th>\n",
       "      <td>Parque de los Niños</td>\n",
       "      <td>CA041</td>\n",
       "      <td>2023-08-23</td>\n",
       "      <td>invierno</td>\n",
       "      <td>NaN</td>\n",
       "      <td>NaN</td>\n",
       "      <td>NaN</td>\n",
       "      <td>NaN</td>\n",
       "      <td>&lt;NA&gt;</td>\n",
       "      <td>&lt;NA&gt;</td>\n",
       "      <td>&lt;NA&gt;</td>\n",
       "      <td>&lt;NA&gt;</td>\n",
       "      <td>NaN</td>\n",
       "      <td>NaN</td>\n",
       "      <td>NaN</td>\n",
       "      <td>NaN</td>\n",
       "      <td>NaN</td>\n",
       "      <td>NaN</td>\n",
       "      <td>NaN</td>\n",
       "      <td>NaN</td>\n",
       "      <td>NaN</td>\n",
       "      <td>NaN</td>\n",
       "      <td>NaN</td>\n",
       "      <td>&lt;NA&gt;</td>\n",
       "      <td>NaN</td>\n",
       "      <td>NaN</td>\n",
       "      <td>NaN</td>\n",
       "      <td>&lt;NA&gt;</td>\n",
       "    </tr>\n",
       "    <tr>\n",
       "      <th>71</th>\n",
       "      <td>Parque de los Niños</td>\n",
       "      <td>CA041</td>\n",
       "      <td>2023-11-14</td>\n",
       "      <td>primavera</td>\n",
       "      <td>NaN</td>\n",
       "      <td>NaN</td>\n",
       "      <td>NaN</td>\n",
       "      <td>NaN</td>\n",
       "      <td>&lt;NA&gt;</td>\n",
       "      <td>&lt;NA&gt;</td>\n",
       "      <td>&lt;NA&gt;</td>\n",
       "      <td>&lt;NA&gt;</td>\n",
       "      <td>NaN</td>\n",
       "      <td>NaN</td>\n",
       "      <td>NaN</td>\n",
       "      <td>NaN</td>\n",
       "      <td>NaN</td>\n",
       "      <td>NaN</td>\n",
       "      <td>NaN</td>\n",
       "      <td>NaN</td>\n",
       "      <td>NaN</td>\n",
       "      <td>NaN</td>\n",
       "      <td>NaN</td>\n",
       "      <td>&lt;NA&gt;</td>\n",
       "      <td>NaN</td>\n",
       "      <td>NaN</td>\n",
       "      <td>NaN</td>\n",
       "      <td>&lt;NA&gt;</td>\n",
       "    </tr>\n",
       "    <tr>\n",
       "      <th>74</th>\n",
       "      <td>Costanera Norte - Espigón Abanico</td>\n",
       "      <td>CA044</td>\n",
       "      <td>2023-08-23</td>\n",
       "      <td>invierno</td>\n",
       "      <td>NaN</td>\n",
       "      <td>NaN</td>\n",
       "      <td>NaN</td>\n",
       "      <td>NaN</td>\n",
       "      <td>&lt;NA&gt;</td>\n",
       "      <td>&lt;NA&gt;</td>\n",
       "      <td>&lt;NA&gt;</td>\n",
       "      <td>&lt;NA&gt;</td>\n",
       "      <td>NaN</td>\n",
       "      <td>NaN</td>\n",
       "      <td>NaN</td>\n",
       "      <td>NaN</td>\n",
       "      <td>NaN</td>\n",
       "      <td>NaN</td>\n",
       "      <td>NaN</td>\n",
       "      <td>NaN</td>\n",
       "      <td>NaN</td>\n",
       "      <td>NaN</td>\n",
       "      <td>NaN</td>\n",
       "      <td>&lt;NA&gt;</td>\n",
       "      <td>NaN</td>\n",
       "      <td>NaN</td>\n",
       "      <td>NaN</td>\n",
       "      <td>&lt;NA&gt;</td>\n",
       "    </tr>\n",
       "    <tr>\n",
       "      <th>75</th>\n",
       "      <td>Costanera Norte - Espigón Abanico</td>\n",
       "      <td>CA044</td>\n",
       "      <td>2023-11-14</td>\n",
       "      <td>primavera</td>\n",
       "      <td>NaN</td>\n",
       "      <td>NaN</td>\n",
       "      <td>NaN</td>\n",
       "      <td>NaN</td>\n",
       "      <td>&lt;NA&gt;</td>\n",
       "      <td>&lt;NA&gt;</td>\n",
       "      <td>&lt;NA&gt;</td>\n",
       "      <td>&lt;NA&gt;</td>\n",
       "      <td>NaN</td>\n",
       "      <td>NaN</td>\n",
       "      <td>NaN</td>\n",
       "      <td>NaN</td>\n",
       "      <td>NaN</td>\n",
       "      <td>NaN</td>\n",
       "      <td>NaN</td>\n",
       "      <td>NaN</td>\n",
       "      <td>NaN</td>\n",
       "      <td>NaN</td>\n",
       "      <td>NaN</td>\n",
       "      <td>&lt;NA&gt;</td>\n",
       "      <td>NaN</td>\n",
       "      <td>NaN</td>\n",
       "      <td>NaN</td>\n",
       "      <td>&lt;NA&gt;</td>\n",
       "    </tr>\n",
       "    <tr>\n",
       "      <th>78</th>\n",
       "      <td>Club de Pescadores</td>\n",
       "      <td>CA046</td>\n",
       "      <td>2023-08-23</td>\n",
       "      <td>invierno</td>\n",
       "      <td>NaN</td>\n",
       "      <td>NaN</td>\n",
       "      <td>NaN</td>\n",
       "      <td>NaN</td>\n",
       "      <td>&lt;NA&gt;</td>\n",
       "      <td>&lt;NA&gt;</td>\n",
       "      <td>&lt;NA&gt;</td>\n",
       "      <td>&lt;NA&gt;</td>\n",
       "      <td>NaN</td>\n",
       "      <td>NaN</td>\n",
       "      <td>NaN</td>\n",
       "      <td>NaN</td>\n",
       "      <td>NaN</td>\n",
       "      <td>NaN</td>\n",
       "      <td>NaN</td>\n",
       "      <td>NaN</td>\n",
       "      <td>NaN</td>\n",
       "      <td>NaN</td>\n",
       "      <td>NaN</td>\n",
       "      <td>&lt;NA&gt;</td>\n",
       "      <td>NaN</td>\n",
       "      <td>NaN</td>\n",
       "      <td>NaN</td>\n",
       "      <td>&lt;NA&gt;</td>\n",
       "    </tr>\n",
       "    <tr>\n",
       "      <th>79</th>\n",
       "      <td>Club de Pescadores</td>\n",
       "      <td>CA046</td>\n",
       "      <td>2023-11-14</td>\n",
       "      <td>primavera</td>\n",
       "      <td>NaN</td>\n",
       "      <td>NaN</td>\n",
       "      <td>NaN</td>\n",
       "      <td>NaN</td>\n",
       "      <td>&lt;NA&gt;</td>\n",
       "      <td>&lt;NA&gt;</td>\n",
       "      <td>&lt;NA&gt;</td>\n",
       "      <td>&lt;NA&gt;</td>\n",
       "      <td>NaN</td>\n",
       "      <td>NaN</td>\n",
       "      <td>NaN</td>\n",
       "      <td>NaN</td>\n",
       "      <td>NaN</td>\n",
       "      <td>NaN</td>\n",
       "      <td>NaN</td>\n",
       "      <td>NaN</td>\n",
       "      <td>NaN</td>\n",
       "      <td>NaN</td>\n",
       "      <td>NaN</td>\n",
       "      <td>&lt;NA&gt;</td>\n",
       "      <td>NaN</td>\n",
       "      <td>NaN</td>\n",
       "      <td>NaN</td>\n",
       "      <td>&lt;NA&gt;</td>\n",
       "    </tr>\n",
       "    <tr>\n",
       "      <th>82</th>\n",
       "      <td>Reserva Ecológica Costanera Sur - Playita</td>\n",
       "      <td>CA047</td>\n",
       "      <td>2023-08-23</td>\n",
       "      <td>invierno</td>\n",
       "      <td>NaN</td>\n",
       "      <td>NaN</td>\n",
       "      <td>NaN</td>\n",
       "      <td>NaN</td>\n",
       "      <td>&lt;NA&gt;</td>\n",
       "      <td>&lt;NA&gt;</td>\n",
       "      <td>&lt;NA&gt;</td>\n",
       "      <td>&lt;NA&gt;</td>\n",
       "      <td>NaN</td>\n",
       "      <td>NaN</td>\n",
       "      <td>NaN</td>\n",
       "      <td>NaN</td>\n",
       "      <td>NaN</td>\n",
       "      <td>NaN</td>\n",
       "      <td>NaN</td>\n",
       "      <td>NaN</td>\n",
       "      <td>NaN</td>\n",
       "      <td>NaN</td>\n",
       "      <td>NaN</td>\n",
       "      <td>&lt;NA&gt;</td>\n",
       "      <td>NaN</td>\n",
       "      <td>NaN</td>\n",
       "      <td>NaN</td>\n",
       "      <td>&lt;NA&gt;</td>\n",
       "    </tr>\n",
       "    <tr>\n",
       "      <th>83</th>\n",
       "      <td>Reserva Ecológica Costanera Sur - Playita</td>\n",
       "      <td>CA047</td>\n",
       "      <td>2023-11-14</td>\n",
       "      <td>primavera</td>\n",
       "      <td>NaN</td>\n",
       "      <td>NaN</td>\n",
       "      <td>NaN</td>\n",
       "      <td>NaN</td>\n",
       "      <td>&lt;NA&gt;</td>\n",
       "      <td>&lt;NA&gt;</td>\n",
       "      <td>&lt;NA&gt;</td>\n",
       "      <td>&lt;NA&gt;</td>\n",
       "      <td>NaN</td>\n",
       "      <td>NaN</td>\n",
       "      <td>NaN</td>\n",
       "      <td>NaN</td>\n",
       "      <td>NaN</td>\n",
       "      <td>NaN</td>\n",
       "      <td>NaN</td>\n",
       "      <td>NaN</td>\n",
       "      <td>NaN</td>\n",
       "      <td>NaN</td>\n",
       "      <td>NaN</td>\n",
       "      <td>&lt;NA&gt;</td>\n",
       "      <td>NaN</td>\n",
       "      <td>NaN</td>\n",
       "      <td>NaN</td>\n",
       "      <td>&lt;NA&gt;</td>\n",
       "    </tr>\n",
       "    <tr>\n",
       "      <th>120</th>\n",
       "      <td>Calle 14 y Costa - Salida cloaca</td>\n",
       "      <td>BZ078</td>\n",
       "      <td>2023-08-23</td>\n",
       "      <td>invierno</td>\n",
       "      <td>NaN</td>\n",
       "      <td>NaN</td>\n",
       "      <td>NaN</td>\n",
       "      <td>NaN</td>\n",
       "      <td>&lt;NA&gt;</td>\n",
       "      <td>&lt;NA&gt;</td>\n",
       "      <td>&lt;NA&gt;</td>\n",
       "      <td>&lt;NA&gt;</td>\n",
       "      <td>NaN</td>\n",
       "      <td>NaN</td>\n",
       "      <td>NaN</td>\n",
       "      <td>NaN</td>\n",
       "      <td>NaN</td>\n",
       "      <td>NaN</td>\n",
       "      <td>NaN</td>\n",
       "      <td>NaN</td>\n",
       "      <td>NaN</td>\n",
       "      <td>NaN</td>\n",
       "      <td>NaN</td>\n",
       "      <td>&lt;NA&gt;</td>\n",
       "      <td>NaN</td>\n",
       "      <td>NaN</td>\n",
       "      <td>NaN</td>\n",
       "      <td>&lt;NA&gt;</td>\n",
       "    </tr>\n",
       "    <tr>\n",
       "      <th>127</th>\n",
       "      <td>Puerto Trinidad calle 47</td>\n",
       "      <td>BZ077</td>\n",
       "      <td>2023-08-23</td>\n",
       "      <td>invierno</td>\n",
       "      <td>NaN</td>\n",
       "      <td>NaN</td>\n",
       "      <td>NaN</td>\n",
       "      <td>NaN</td>\n",
       "      <td>&lt;NA&gt;</td>\n",
       "      <td>&lt;NA&gt;</td>\n",
       "      <td>&lt;NA&gt;</td>\n",
       "      <td>&lt;NA&gt;</td>\n",
       "      <td>NaN</td>\n",
       "      <td>NaN</td>\n",
       "      <td>NaN</td>\n",
       "      <td>NaN</td>\n",
       "      <td>NaN</td>\n",
       "      <td>NaN</td>\n",
       "      <td>NaN</td>\n",
       "      <td>NaN</td>\n",
       "      <td>NaN</td>\n",
       "      <td>NaN</td>\n",
       "      <td>NaN</td>\n",
       "      <td>&lt;NA&gt;</td>\n",
       "      <td>NaN</td>\n",
       "      <td>NaN</td>\n",
       "      <td>NaN</td>\n",
       "      <td>&lt;NA&gt;</td>\n",
       "    </tr>\n",
       "    <tr>\n",
       "      <th>131</th>\n",
       "      <td>Costanera Hudson Calle 63</td>\n",
       "      <td>BZ080</td>\n",
       "      <td>2023-08-23</td>\n",
       "      <td>invierno</td>\n",
       "      <td>NaN</td>\n",
       "      <td>NaN</td>\n",
       "      <td>NaN</td>\n",
       "      <td>NaN</td>\n",
       "      <td>&lt;NA&gt;</td>\n",
       "      <td>&lt;NA&gt;</td>\n",
       "      <td>&lt;NA&gt;</td>\n",
       "      <td>&lt;NA&gt;</td>\n",
       "      <td>NaN</td>\n",
       "      <td>NaN</td>\n",
       "      <td>NaN</td>\n",
       "      <td>NaN</td>\n",
       "      <td>NaN</td>\n",
       "      <td>NaN</td>\n",
       "      <td>NaN</td>\n",
       "      <td>NaN</td>\n",
       "      <td>NaN</td>\n",
       "      <td>NaN</td>\n",
       "      <td>NaN</td>\n",
       "      <td>&lt;NA&gt;</td>\n",
       "      <td>NaN</td>\n",
       "      <td>NaN</td>\n",
       "      <td>NaN</td>\n",
       "      <td>&lt;NA&gt;</td>\n",
       "    </tr>\n",
       "    <tr>\n",
       "      <th>152</th>\n",
       "      <td>Balneario Palo Blanco</td>\n",
       "      <td>BS092</td>\n",
       "      <td>2023-08-23</td>\n",
       "      <td>invierno</td>\n",
       "      <td>NaN</td>\n",
       "      <td>NaN</td>\n",
       "      <td>NaN</td>\n",
       "      <td>NaN</td>\n",
       "      <td>&lt;NA&gt;</td>\n",
       "      <td>&lt;NA&gt;</td>\n",
       "      <td>&lt;NA&gt;</td>\n",
       "      <td>&lt;NA&gt;</td>\n",
       "      <td>NaN</td>\n",
       "      <td>NaN</td>\n",
       "      <td>NaN</td>\n",
       "      <td>NaN</td>\n",
       "      <td>NaN</td>\n",
       "      <td>NaN</td>\n",
       "      <td>NaN</td>\n",
       "      <td>NaN</td>\n",
       "      <td>NaN</td>\n",
       "      <td>NaN</td>\n",
       "      <td>NaN</td>\n",
       "      <td>&lt;NA&gt;</td>\n",
       "      <td>NaN</td>\n",
       "      <td>NaN</td>\n",
       "      <td>NaN</td>\n",
       "      <td>&lt;NA&gt;</td>\n",
       "    </tr>\n",
       "    <tr>\n",
       "      <th>156</th>\n",
       "      <td>Diagonal 66 (descarga cloaca)</td>\n",
       "      <td>BS095</td>\n",
       "      <td>2023-08-23</td>\n",
       "      <td>invierno</td>\n",
       "      <td>NaN</td>\n",
       "      <td>NaN</td>\n",
       "      <td>NaN</td>\n",
       "      <td>NaN</td>\n",
       "      <td>&lt;NA&gt;</td>\n",
       "      <td>&lt;NA&gt;</td>\n",
       "      <td>&lt;NA&gt;</td>\n",
       "      <td>&lt;NA&gt;</td>\n",
       "      <td>NaN</td>\n",
       "      <td>NaN</td>\n",
       "      <td>NaN</td>\n",
       "      <td>NaN</td>\n",
       "      <td>NaN</td>\n",
       "      <td>NaN</td>\n",
       "      <td>NaN</td>\n",
       "      <td>NaN</td>\n",
       "      <td>NaN</td>\n",
       "      <td>NaN</td>\n",
       "      <td>NaN</td>\n",
       "      <td>&lt;NA&gt;</td>\n",
       "      <td>NaN</td>\n",
       "      <td>NaN</td>\n",
       "      <td>NaN</td>\n",
       "      <td>&lt;NA&gt;</td>\n",
       "    </tr>\n",
       "  </tbody>\n",
       "</table>\n",
       "</div>"
      ],
      "text/plain": [
       "                                        sitios codigo      fecha    campaña  \\\n",
       "40                           Espigón La Farola  SI021 2023-02-22     Verano   \n",
       "41                           Espigón La Farola  SI021 2023-05-10      otoño   \n",
       "42                           Espigón La Farola  SI021 2023-08-23   invierno   \n",
       "43                           Espigón La Farola  SI021 2023-11-14  primavera   \n",
       "52                                 Perú Puente  SI023 2023-02-22     Verano   \n",
       "70                         Parque de los Niños  CA041 2023-08-23   invierno   \n",
       "71                         Parque de los Niños  CA041 2023-11-14  primavera   \n",
       "74           Costanera Norte - Espigón Abanico  CA044 2023-08-23   invierno   \n",
       "75           Costanera Norte - Espigón Abanico  CA044 2023-11-14  primavera   \n",
       "78                          Club de Pescadores  CA046 2023-08-23   invierno   \n",
       "79                          Club de Pescadores  CA046 2023-11-14  primavera   \n",
       "82   Reserva Ecológica Costanera Sur - Playita  CA047 2023-08-23   invierno   \n",
       "83   Reserva Ecológica Costanera Sur - Playita  CA047 2023-11-14  primavera   \n",
       "120           Calle 14 y Costa - Salida cloaca  BZ078 2023-08-23   invierno   \n",
       "127                   Puerto Trinidad calle 47  BZ077 2023-08-23   invierno   \n",
       "131                  Costanera Hudson Calle 63  BZ080 2023-08-23   invierno   \n",
       "152                      Balneario Palo Blanco  BS092 2023-08-23   invierno   \n",
       "156              Diagonal 66 (descarga cloaca)  BS095 2023-08-23   invierno   \n",
       "\n",
       "     tem_agua  tem_aire  od  ph  olores  color  espumas  mat_susp  \\\n",
       "40        NaN       NaN NaN NaN    <NA>   <NA>     <NA>      <NA>   \n",
       "41        NaN       NaN NaN NaN    <NA>   <NA>     <NA>      <NA>   \n",
       "42        NaN       NaN NaN NaN    <NA>   <NA>     <NA>      <NA>   \n",
       "43        NaN       NaN NaN NaN    <NA>   <NA>     <NA>      <NA>   \n",
       "52        NaN       NaN NaN NaN    <NA>   <NA>     <NA>      <NA>   \n",
       "70        NaN       NaN NaN NaN    <NA>   <NA>     <NA>      <NA>   \n",
       "71        NaN       NaN NaN NaN    <NA>   <NA>     <NA>      <NA>   \n",
       "74        NaN       NaN NaN NaN    <NA>   <NA>     <NA>      <NA>   \n",
       "75        NaN       NaN NaN NaN    <NA>   <NA>     <NA>      <NA>   \n",
       "78        NaN       NaN NaN NaN    <NA>   <NA>     <NA>      <NA>   \n",
       "79        NaN       NaN NaN NaN    <NA>   <NA>     <NA>      <NA>   \n",
       "82        NaN       NaN NaN NaN    <NA>   <NA>     <NA>      <NA>   \n",
       "83        NaN       NaN NaN NaN    <NA>   <NA>     <NA>      <NA>   \n",
       "120       NaN       NaN NaN NaN    <NA>   <NA>     <NA>      <NA>   \n",
       "127       NaN       NaN NaN NaN    <NA>   <NA>     <NA>      <NA>   \n",
       "131       NaN       NaN NaN NaN    <NA>   <NA>     <NA>      <NA>   \n",
       "152       NaN       NaN NaN NaN    <NA>   <NA>     <NA>      <NA>   \n",
       "156       NaN       NaN NaN NaN    <NA>   <NA>     <NA>      <NA>   \n",
       "\n",
       "     colif_fecales_ufc_100ml  escher_coli_ufc_100ml  enteroc_ufc_100ml  \\\n",
       "40                       NaN                    NaN                NaN   \n",
       "41                       NaN                    NaN                NaN   \n",
       "42                       NaN                    NaN                NaN   \n",
       "43                       NaN                    NaN                NaN   \n",
       "52                       NaN                    NaN                NaN   \n",
       "70                       NaN                    NaN                NaN   \n",
       "71                       NaN                    NaN                NaN   \n",
       "74                       NaN                    NaN                NaN   \n",
       "75                       NaN                    NaN                NaN   \n",
       "78                       NaN                    NaN                NaN   \n",
       "79                       NaN                    NaN                NaN   \n",
       "82                       NaN                    NaN                NaN   \n",
       "83                       NaN                    NaN                NaN   \n",
       "120                      NaN                    NaN                NaN   \n",
       "127                      NaN                    NaN                NaN   \n",
       "131                      NaN                    NaN                NaN   \n",
       "152                      NaN                    NaN                NaN   \n",
       "156                      NaN                    NaN                NaN   \n",
       "\n",
       "     nitrato_mg_l  nh4_mg_l  p_total_l_mg_l  fosf_ortofos_mg_l  dbo_mg_l  \\\n",
       "40            NaN       NaN             NaN                NaN       NaN   \n",
       "41            NaN       NaN             NaN                NaN       NaN   \n",
       "42            NaN       NaN             NaN                NaN       NaN   \n",
       "43            NaN       NaN             NaN                NaN       NaN   \n",
       "52            NaN       NaN             NaN                NaN       NaN   \n",
       "70            NaN       NaN             NaN                NaN       NaN   \n",
       "71            NaN       NaN             NaN                NaN       NaN   \n",
       "74            NaN       NaN             NaN                NaN       NaN   \n",
       "75            NaN       NaN             NaN                NaN       NaN   \n",
       "78            NaN       NaN             NaN                NaN       NaN   \n",
       "79            NaN       NaN             NaN                NaN       NaN   \n",
       "82            NaN       NaN             NaN                NaN       NaN   \n",
       "83            NaN       NaN             NaN                NaN       NaN   \n",
       "120           NaN       NaN             NaN                NaN       NaN   \n",
       "127           NaN       NaN             NaN                NaN       NaN   \n",
       "131           NaN       NaN             NaN                NaN       NaN   \n",
       "152           NaN       NaN             NaN                NaN       NaN   \n",
       "156           NaN       NaN             NaN                NaN       NaN   \n",
       "\n",
       "     dqo_mg_l  turbiedad_ntu  cr_total_mg_l  Alta_presencia_de_cadmio  \\\n",
       "40        NaN            NaN            NaN                      <NA>   \n",
       "41        NaN            NaN            NaN                      <NA>   \n",
       "42        NaN            NaN            NaN                      <NA>   \n",
       "43        NaN            NaN            NaN                      <NA>   \n",
       "52        NaN            NaN            NaN                      <NA>   \n",
       "70        NaN            NaN            NaN                      <NA>   \n",
       "71        NaN            NaN            NaN                      <NA>   \n",
       "74        NaN            NaN            NaN                      <NA>   \n",
       "75        NaN            NaN            NaN                      <NA>   \n",
       "78        NaN            NaN            NaN                      <NA>   \n",
       "79        NaN            NaN            NaN                      <NA>   \n",
       "82        NaN            NaN            NaN                      <NA>   \n",
       "83        NaN            NaN            NaN                      <NA>   \n",
       "120       NaN            NaN            NaN                      <NA>   \n",
       "127       NaN            NaN            NaN                      <NA>   \n",
       "131       NaN            NaN            NaN                      <NA>   \n",
       "152       NaN            NaN            NaN                      <NA>   \n",
       "156       NaN            NaN            NaN                      <NA>   \n",
       "\n",
       "     clorofila_a_ug_l  microcistina_ug_l  ica calidad_de_agua  \n",
       "40                NaN                NaN  NaN            <NA>  \n",
       "41                NaN                NaN  NaN            <NA>  \n",
       "42                NaN                NaN  NaN            <NA>  \n",
       "43                NaN                NaN  NaN            <NA>  \n",
       "52                NaN                NaN  NaN            <NA>  \n",
       "70                NaN                NaN  NaN            <NA>  \n",
       "71                NaN                NaN  NaN            <NA>  \n",
       "74                NaN                NaN  NaN            <NA>  \n",
       "75                NaN                NaN  NaN            <NA>  \n",
       "78                NaN                NaN  NaN            <NA>  \n",
       "79                NaN                NaN  NaN            <NA>  \n",
       "82                NaN                NaN  NaN            <NA>  \n",
       "83                NaN                NaN  NaN            <NA>  \n",
       "120               NaN                NaN  NaN            <NA>  \n",
       "127               NaN                NaN  NaN            <NA>  \n",
       "131               NaN                NaN  NaN            <NA>  \n",
       "152               NaN                NaN  NaN            <NA>  \n",
       "156               NaN                NaN  NaN            <NA>  "
      ]
     },
     "execution_count": 267,
     "metadata": {},
     "output_type": "execute_result"
    }
   ],
   "source": [
    "rd_filas_con_nulos = rd_copia[rd_copia.isnull().sum(axis=1) > 10]\n",
    "rd_filas_con_nulos"
   ]
  },
  {
   "cell_type": "markdown",
   "metadata": {},
   "source": [
    "El comando selecciona las filas de rd_copia que contienen más de 10 valores nulos. Para lograr esto, primero calcula la cantidad de valores nulos en cada fila con isnull().sum(axis=1) y luego filtra las filas donde esa cantidad es mayor a 10, asignando el resultado a rd_sin_nulos."
   ]
  },
  {
   "cell_type": "markdown",
   "metadata": {},
   "source": [
    "Ahora que hemos indentificado las filas vamos a pasar a eliminarlas del dataset."
   ]
  },
  {
   "cell_type": "code",
   "execution_count": 268,
   "metadata": {},
   "outputs": [],
   "source": [
    "#rd_copia = rd_copia.dropna(thresh = len(rd_copia.columns) - x)\n",
    "\n",
    "rd_copia = rd_copia.drop(rd_copia[rd_copia.isnull().sum(axis=1) > 10].index)"
   ]
  },
  {
   "cell_type": "markdown",
   "metadata": {},
   "source": [
    "El comando elimina todas las filas de rd_copia que tienen más de 10 valores nulos. Primero se identifican las filas con más de 10 nulos usando isnull().sum(axis=1) > 10 (Al usar axis=1 estamos indicando al metodo que sume la cantidad de valores nulos POR FILA.), luego se obtienen los índices de esas filas, y finalmente se eliminan con drop(). <BR>\n",
    "<span style=\"color:red; font-size:60px\">Pregunta para la profe: </span> \n",
    "<br> Existe una forma mas adecuada o amigable de eliminar las filas que no necesitamos?"
   ]
  },
  {
   "cell_type": "markdown",
   "metadata": {},
   "source": [
    "# Exportacion de dataset para ver como quedó"
   ]
  },
  {
   "cell_type": "code",
   "execution_count": 269,
   "metadata": {},
   "outputs": [],
   "source": [
    "###rd_copia.to_excel(\"Copia limpia de valores sin sentido.xlsx\")"
   ]
  },
  {
   "cell_type": "code",
   "execution_count": 270,
   "metadata": {},
   "outputs": [],
   "source": [
    "###rd_copia.info()\n",
    "###print(rd_copia[\"Alta_presencia_de_cadmio\"].apply(type).unique())"
   ]
  },
  {
   "cell_type": "markdown",
   "metadata": {},
   "source": [
    "## Creacion del profiling en el archivo limpiado."
   ]
  },
  {
   "cell_type": "code",
   "execution_count": 271,
   "metadata": {},
   "outputs": [],
   "source": [
    "\n",
    "\n",
    "import pandas_profiling as pp\n",
    "rd_copia_Continuas_Profiling = rd_copia.drop(columns=['sitios', 'codigo', 'fecha', 'campaña', 'calidad_de_agua', 'olores', 'color', 'espumas', 'mat_susp', 'Alta_presencia_de_cadmio'])\n",
    "\n",
    "###report = pp.ProfileReport(rd_copia_Continuas_Profiling)\n",
    "\n",
    "# lo guardamos como un archivo\n",
    "###report.to_file(output_file=\"reporte_Calidad_de_agua_2023_Limpio_(Continuas).html\")"
   ]
  },
  {
   "cell_type": "markdown",
   "metadata": {},
   "source": [
    "# Estandarizado:"
   ]
  },
  {
   "cell_type": "markdown",
   "metadata": {},
   "source": [
    "### Procesado del dataset para su estandarizacion"
   ]
  },
  {
   "cell_type": "code",
   "execution_count": 272,
   "metadata": {},
   "outputs": [
    {
     "name": "stderr",
     "output_type": "stream",
     "text": [
      "C:\\Users\\Usuario\\AppData\\Local\\Temp\\ipykernel_2680\\3388208072.py:13: FutureWarning: A value is trying to be set on a copy of a DataFrame or Series through chained assignment using an inplace method.\n",
      "The behavior will change in pandas 3.0. This inplace method will never work because the intermediate object on which we are setting values always behaves as a copy.\n",
      "\n",
      "For example, when doing 'df[col].method(value, inplace=True)', try using 'df.method({col: value}, inplace=True)' or df[col] = df[col].method(value) instead, to perform the operation inplace on the original object.\n",
      "\n",
      "\n",
      "  rd_copia['ica'].fillna(mean_by_site, inplace=True)\n"
     ]
    }
   ],
   "source": [
    "# (ACA O EN INFORME )Nos quedamos con las variables continuas y quitamos la de ica que va a ser nuestra variable de estudio.\n",
    "rd_copia_Continuas_a_estandarizar = rd_copia.drop(columns=['sitios', 'codigo', 'fecha', 'campaña', 'calidad_de_agua', 'olores', 'color', 'espumas', 'mat_susp', 'Alta_presencia_de_cadmio', 'ica'])\n",
    "\n",
    "# Reemplazar NaNs con el valor medio de cada columna\n",
    "rd_copia_Continuas_a_estandarizar = rd_copia_Continuas_a_estandarizar.fillna(rd_copia_Continuas_a_estandarizar.mean())\n",
    "\n",
    "# Reemplazamos los NaNs de la columna ica por los valores medios de cada sitio correspondiente:\n",
    "\n",
    "# Calculamos la media de 'ica' por sitio, ignorando valores nulos\n",
    "mean_by_site = rd_copia.groupby('sitios')['ica'].transform(lambda x: int(round(x.mean())))\n",
    "\n",
    "# Reemplazo de los valores nulos en la columna 'ica' con estas medias\n",
    "rd_copia['ica'].fillna(mean_by_site, inplace=True)\n",
    "    \n"
   ]
  },
  {
   "cell_type": "markdown",
   "metadata": {},
   "source": [
    "#### INFORME:Reemplazamos los valores nulos por la media de cada columna ya que no tenemos otra alternativa para poder rellenar esos espacios vacios. Llegamos a la conclusion de que no nos podemos permitir eliminar toda tupla con al menos un nulo ya que perderiamos un gran parte del dataset. (Si nos da el tiempo podemos cuantificarlo, tipo, decir que si eliminaramos las tuplas con nulos implicaria eliminar un 30% de las entradas por decir algo.)"
   ]
  },
  {
   "cell_type": "markdown",
   "metadata": {},
   "source": [
    "#### Tratamiento de la columna calidad de agua:"
   ]
  },
  {
   "cell_type": "markdown",
   "metadata": {},
   "source": [
    "##### Verificacion del valor minimo considerado como calidad de agua muy deteriorada"
   ]
  },
  {
   "cell_type": "code",
   "execution_count": 273,
   "metadata": {},
   "outputs": [
    {
     "data": {
      "text/plain": [
       "count    10.000000\n",
       "mean     50.000000\n",
       "std       6.073622\n",
       "min      45.000000\n",
       "25%      45.500000\n",
       "50%      47.500000\n",
       "75%      52.000000\n",
       "max      62.000000\n",
       "Name: ica, dtype: float64"
      ]
     },
     "execution_count": 273,
     "metadata": {},
     "output_type": "execute_result"
    }
   ],
   "source": [
    "rd_copia[rd_copia['calidad_de_agua'] == \"Muy deteriorada\"]['ica'].describe()"
   ]
  },
  {
   "cell_type": "markdown",
   "metadata": {},
   "source": [
    "##### Verificacion del valor maximo considerado como calidad de agua extremadamente deteriorada"
   ]
  },
  {
   "cell_type": "code",
   "execution_count": 274,
   "metadata": {},
   "outputs": [
    {
     "data": {
      "text/html": [
       "<div>\n",
       "<style scoped>\n",
       "    .dataframe tbody tr th:only-of-type {\n",
       "        vertical-align: middle;\n",
       "    }\n",
       "\n",
       "    .dataframe tbody tr th {\n",
       "        vertical-align: top;\n",
       "    }\n",
       "\n",
       "    .dataframe thead th {\n",
       "        text-align: right;\n",
       "    }\n",
       "</style>\n",
       "<table border=\"1\" class=\"dataframe\">\n",
       "  <thead>\n",
       "    <tr style=\"text-align: right;\">\n",
       "      <th></th>\n",
       "      <th>ica</th>\n",
       "    </tr>\n",
       "  </thead>\n",
       "  <tbody>\n",
       "    <tr>\n",
       "      <th>count</th>\n",
       "      <td>127.000000</td>\n",
       "    </tr>\n",
       "    <tr>\n",
       "      <th>mean</th>\n",
       "      <td>36.196850</td>\n",
       "    </tr>\n",
       "    <tr>\n",
       "      <th>std</th>\n",
       "      <td>3.527757</td>\n",
       "    </tr>\n",
       "    <tr>\n",
       "      <th>min</th>\n",
       "      <td>23.000000</td>\n",
       "    </tr>\n",
       "    <tr>\n",
       "      <th>25%</th>\n",
       "      <td>35.000000</td>\n",
       "    </tr>\n",
       "    <tr>\n",
       "      <th>50%</th>\n",
       "      <td>37.000000</td>\n",
       "    </tr>\n",
       "    <tr>\n",
       "      <th>75%</th>\n",
       "      <td>39.000000</td>\n",
       "    </tr>\n",
       "    <tr>\n",
       "      <th>max</th>\n",
       "      <td>44.000000</td>\n",
       "    </tr>\n",
       "  </tbody>\n",
       "</table>\n",
       "</div>"
      ],
      "text/plain": [
       "              ica\n",
       "count  127.000000\n",
       "mean    36.196850\n",
       "std      3.527757\n",
       "min     23.000000\n",
       "25%     35.000000\n",
       "50%     37.000000\n",
       "75%     39.000000\n",
       "max     44.000000"
      ]
     },
     "execution_count": 274,
     "metadata": {},
     "output_type": "execute_result"
    }
   ],
   "source": [
    "rd_copia[rd_copia['calidad_de_agua'] == \"Extremadamente deteriorada\"][['ica', 'calidad_de_agua']].describe()"
   ]
  },
  {
   "cell_type": "markdown",
   "metadata": {},
   "source": [
    "Como podemos observar es evidente que sitios con valores de ica iguales o mayores a 45 son etiquetados con calidad de agua \"Muy deteriorada\", y aquellos por debajo con \"Extremadamente deteriorada\". Es por esto que consideramos adecuado reemplazar los valores nulos de esta columna teniendo en cuenta esta referencia ya que mas adelante vamos a usar esta columna para el analisis de hipotesis."
   ]
  },
  {
   "cell_type": "markdown",
   "metadata": {},
   "source": [
    "##### Reemplazo de valores `nulos`:"
   ]
  },
  {
   "cell_type": "code",
   "execution_count": 275,
   "metadata": {},
   "outputs": [],
   "source": [
    "# rd_copia[\"calidad_de_agua\"] = rd_copia[rd_copia['ica'] >= 45][\"calidad_de_agua\"].replace([pd.NA], 'Muy deteriorada')\n",
    "# Lo de arriba sobreescribe TODA la columna de calidad de agua con SOLO aquellas que fueron reemplazadas y hace DESASTRE\n",
    "\n",
    "\n",
    "# MUY DETERIORADA:\n",
    "\n",
    "# Alternativa 1:\n",
    "# Reemplazar valores nulos en 'calidad_de_agua' con 'Muy deteriorada' solo en las filas donde 'ica' >= 45\n",
    "### rd_copia.loc[rd_copia['ica'] >= 45, 'calidad_de_agua'] = rd_copia.loc[rd_copia['ica'] >= 45, 'calidad_de_agua'].replace(pd.NA, 'Muy deteriorada')\n",
    "\n",
    "# Entedemos que la opcion de arriba sobreescribe todas las tuplas que cumplen el filtro del valor de ica.\n",
    "\n",
    "# Alternativa 2 (Es la uno pero mas corta):\n",
    "# Reemplazar valores nulos en 'calidad_de_agua' con 'Muy deteriorada' solo en las filas donde 'ica' >= 45\n",
    "rd_copia.loc[(rd_copia['ica'] >= 45) & (rd_copia['calidad_de_agua'].isna()), 'calidad_de_agua'] = 'Muy deteriorada'\n",
    "\n",
    "\n",
    "\n",
    "# Alternativa 3:\n",
    "### rd_copia['calidad de agua'] = rd_copia.apply(\n",
    "###     lambda row: 'Extremadamente deteriorada' if pd.isna(row['calidad de agua']) and row['ica'] < 45 \n",
    "###     else ('Muy deteriorada' if pd.isna(row['calidad de agua']) else row['calidad de agua']),\n",
    "###     axis=1)\n",
    "\n",
    "\n",
    "# EXTREMADAMENTE DETERIORADA\n",
    "rd_copia.loc[(rd_copia['ica'] < 45) & (rd_copia['calidad_de_agua'] == '<NA>'), 'calidad_de_agua'] = 'Extremadamente deteriorada'\n"
   ]
  },
  {
   "cell_type": "markdown",
   "metadata": {},
   "source": [
    "#### Estandarizacion de variables continuas:"
   ]
  },
  {
   "cell_type": "code",
   "execution_count": 276,
   "metadata": {},
   "outputs": [
    {
     "name": "stdout",
     "output_type": "stream",
     "text": [
      "[1. 1. 1. 1. 1. 1. 1. 1. 1. 1. 1. 1. 1. 1. 1. 1. 1.]\n"
     ]
    }
   ],
   "source": [
    "import numpy as np\n",
    "\n",
    "from sklearn.preprocessing import StandardScaler\n",
    "from sklearn.decomposition import PCA\n",
    "\n",
    "\n",
    "\n",
    "# estandarizacion de nuestro dataset limpio.\n",
    "scaler = StandardScaler()\n",
    "rd_scaled_PCA = scaler.fit_transform(rd_copia_Continuas_a_estandarizar)\n",
    "\n",
    "print(np.std(rd_scaled_PCA, axis=0))"
   ]
  },
  {
   "cell_type": "markdown",
   "metadata": {},
   "source": [
    "# Todas las variables continuas definen un agrupamiento sobre el ica?"
   ]
  },
  {
   "cell_type": "markdown",
   "metadata": {},
   "source": [
    "## Realizacion del PCA"
   ]
  },
  {
   "cell_type": "code",
   "execution_count": 277,
   "metadata": {},
   "outputs": [
    {
     "data": {
      "image/png": "[encoded data removed]",
      "text/plain": [
       "<Figure size 640x480 with 1 Axes>"
      ]
     },
     "metadata": {},
     "output_type": "display_data"
    }
   ],
   "source": [
    "import pandas as pd\n",
    "import matplotlib.pyplot as plt\n",
    "\n",
    "# Ahora aplicamos PCA a los datos estandarizados\n",
    "pca = PCA(n_components=2)\n",
    "rd_pca = pca.fit_transform(rd_scaled_PCA)\n",
    "# graficamos los datos\n",
    "plt.scatter(rd_pca[:,0], rd_pca[:,1])\n",
    "plt.grid(True)\n",
    "plt.xlabel('Proyección PCA 1')\n",
    "plt.ylabel('Proyección PCA 2')\n",
    "plt.title('Proyección del conjunto de datos a 2 dimensiones')\n",
    "plt.show()"
   ]
  },
  {
   "cell_type": "markdown",
   "metadata": {},
   "source": [
    "### Verificacion de la varianza explicada usada en la grafica:"
   ]
  },
  {
   "cell_type": "code",
   "execution_count": 278,
   "metadata": {},
   "outputs": [
    {
     "data": {
      "text/plain": [
       "array([0.20211185, 0.15603957])"
      ]
     },
     "execution_count": 278,
     "metadata": {},
     "output_type": "execute_result"
    }
   ],
   "source": [
    "pca.explained_variance_ratio_"
   ]
  },
  {
   "cell_type": "markdown",
   "metadata": {},
   "source": [
    "## Actualizacion de rd_copia con reemplazo de valores nulos y creacion de rd_scaled_expandido"
   ]
  },
  {
   "cell_type": "code",
   "execution_count": 279,
   "metadata": {},
   "outputs": [],
   "source": [
    "\n",
    "# Filtra las columnas de rd_copia_Continuas_a_estandarizar que también existen en rd_copia\n",
    "common_columns = rd_copia.columns.intersection(rd_copia_Continuas_a_estandarizar.columns)\n",
    "\n",
    "# Reemplaza las columnas comunes en rd_copia con los valores de rd_copia_Continuas_a_estandarizar\n",
    "rd_copia[common_columns] = rd_copia_Continuas_a_estandarizar[common_columns]\n",
    "\n",
    "# Creacion de rd_scaled_expandido. Ahora incluye el ica y las booleanas.\n",
    "###rd_scaled_expandido = rd_copia.drop(columns=['sitios', 'codigo', 'fecha', 'campaña', 'calidad_de_agua'])"
   ]
  },
  {
   "cell_type": "markdown",
   "metadata": {},
   "source": [
    "## UMAP"
   ]
  },
  {
   "cell_type": "code",
   "execution_count": 280,
   "metadata": {},
   "outputs": [
    {
     "name": "stderr",
     "output_type": "stream",
     "text": [
      "c:\\Users\\Usuario\\Documents\\Proyectos VS\\Python\\Practica especial\\PracticaEspecialVenv\\Lib\\site-packages\\umap\\umap_.py:1952: UserWarning: n_jobs value 1 overridden to 1 by setting random_state. Use no seed for parallelism.\n",
      "  warn(\n"
     ]
    },
    {
     "name": "stdout",
     "output_type": "stream",
     "text": [
      "Antes de UMAP: (151, 17)\n",
      "Después de UMAP: (151, 2)\n"
     ]
    },
    {
     "data": {
      "image/png": "[encoded data removed]",
      "text/plain": [
       "<Figure size 640x480 with 2 Axes>"
      ]
     },
     "metadata": {},
     "output_type": "display_data"
    }
   ],
   "source": [
    "import umap\n",
    "\n",
    "###rd_scaled_expandido_UMAP = rd_scaled_expandido.drop(columns=['ica'])\n",
    "\n",
    "# creamos el objeto, lo fitteamos en nuestros datos y lo aplicamos sobre esos mismos\n",
    "rd_umap = umap.UMAP(n_components=2, random_state = 42).fit_transform(rd_scaled_PCA)\n",
    "# imprimimos los tamaños antes y después\n",
    "print('Antes de UMAP: {}'.format(rd_scaled_PCA.shape))\n",
    "print('Después de UMAP: {}'.format(rd_umap.shape))\n",
    "\n",
    "# graficamos los datos, el color de cada punto representa el valor de la casa\n",
    "plt.scatter(rd_umap[:,0], rd_umap[:,1], c=rd_copia[\"ica\"], cmap='viridis')\n",
    "plt.grid(True)\n",
    "plt.xlabel('Componente 1 UMAP')\n",
    "plt.ylabel('Component 2 UMAP')\n",
    "plt.title('Representación UMAP del conjunto')\n",
    "plt.colorbar()\n",
    "plt.show()"
   ]
  },
  {
   "cell_type": "markdown",
   "metadata": {},
   "source": [
    "## Realizacion de Clustering: "
   ]
  },
  {
   "cell_type": "markdown",
   "metadata": {},
   "source": [
    "### Elbow-Plot"
   ]
  },
  {
   "cell_type": "code",
   "execution_count": 281,
   "metadata": {},
   "outputs": [
    {
     "data": {
      "image/png": "[encoded data removed]",
      "text/plain": [
       "<Figure size 640x480 with 1 Axes>"
      ]
     },
     "metadata": {},
     "output_type": "display_data"
    }
   ],
   "source": [
    "from sklearn.cluster import KMeans\n",
    "\n",
    "# calculamos cada KMean para cada número de clusters, y nos quedamos con el valor\n",
    "wcss = []\n",
    "for k in range(2, 10):\n",
    "    kmeans = KMeans(n_clusters=k, random_state=10)\n",
    "    kmeans.fit(     rd_scaled_PCA           )\n",
    "    wcss.append(kmeans.inertia_)\n",
    "\n",
    "# graficamos el elbow plot\n",
    "plt.plot(range(2, 10), wcss)\n",
    "plt.title('Elbow plot')\n",
    "plt.grid(\"True\")\n",
    "plt.xlabel('Número de clusters')\n",
    "plt.ylabel('WCSS')\n",
    "plt.show()"
   ]
  },
  {
   "cell_type": "markdown",
   "metadata": {},
   "source": [
    "### K-Means"
   ]
  },
  {
   "cell_type": "code",
   "execution_count": 282,
   "metadata": {},
   "outputs": [
    {
     "name": "stdout",
     "output_type": "stream",
     "text": [
      "[5 1 1 5 5 1 1 5 5 1 2 5 5 1 1 5 5 1 2 5 5 1 2 5 5 1 2 5 5 1 1 5 5 1 1 5 5\n",
      " 1 2 3 5 1 1 5 5 5 2 5 5 3 3 5 1 1 5 5 1 1 3 5 1 3 5 0 0 0 0 0 0 0 0 3 5 1\n",
      " 3 2 5 1 5 5 1 5 2 2 5 1 5 5 2 5 2 2 5 1 5 1 5 1 1 2 5 5 5 4 6 5 1 4 0 4 4\n",
      " 1 4 4 1 1 1 4 0 1 0 4 1 1 4 1 5 1 0 4 1 3 4 1 5 1 2 0 3 5 0 6 4 1 1 2 1 5\n",
      " 1 1 2]\n"
     ]
    }
   ],
   "source": [
    "from sklearn.cluster import KMeans\n",
    "\n",
    "# separamos las features de los indices de calidad de agua\n",
    "sitios = rd_copia['sitios']\n",
    "\n",
    "# inicializamos un objeto de la clase KMeans con el modelo\n",
    "kmeans = KMeans(n_clusters=7, verbose=0, random_state=10)\n",
    "# lo aplicamos sobre nuestros datos para hallar los centroides\n",
    "kmeans.fit(rd_scaled_PCA)\n",
    "# y obtenemos los clusters a los que fueron asignadas las muestras\n",
    "clusters_kmeans = kmeans.predict(rd_scaled_PCA)\n",
    "print(clusters_kmeans)"
   ]
  },
  {
   "cell_type": "markdown",
   "metadata": {},
   "source": [
    "#### Miembros de cada cluster"
   ]
  },
  {
   "cell_type": "code",
   "execution_count": 283,
   "metadata": {},
   "outputs": [
    {
     "name": "stdout",
     "output_type": "stream",
     "text": [
      "\n",
      "Cluster 0:\n",
      "['Parque de los Niños', 'Parque de los Niños', 'Costanera Norte - Espigón Abanico', 'Costanera Norte - Espigón Abanico', 'Club de Pescadores', 'Club de Pescadores', 'Reserva Ecológica Costanera Sur - Playita', 'Reserva Ecológica Costanera Sur - Playita', 'Puerto Trinidad calle 47', 'Camping Eva Perón', 'Camping Eva Perón', 'Arroyo El Gato', 'Diagonal 66 (descarga cloaca)', 'Playa La Bagliardi']\n",
      "\n",
      "Cluster 1:\n",
      "['Canal Villanueva y Río Luján', 'Canal Villanueva y Río Luján', 'Río Lujan y Arroyo Caraguatá', 'Río Lujan y Arroyo Caraguatá', 'Canal Aliviador y Río Lujan', 'Río Carapachay y Arroyo Gallo Fiambre', 'Río Carapachay y Arroyo Gallo Fiambre', 'Río Reconquista y Río Lujan', 'Rio Tigre 100m antes del Rio Luján', 'Río Lujan y Canal San Fernando', 'Río Capitán y Río San Antonio', 'Río Capitán y Río San Antonio', 'Arroyo Abra Vieja y Santa Rosa', 'Arroyo Abra Vieja y Santa Rosa', 'Del Arca', 'Reserva Ecológica', 'Reserva Ecológica', 'Reserva Barrio El Ceibo', 'Reserva Barrio El Ceibo', 'Puerto de Olivos Espigón', 'Puerto de Olivos Espigón', 'Costa y Melo', 'Escollera de Propaneros', 'Polo Petroquímico Dock Sud', 'Arroyo Sarandí', 'Costa de Villa Domínico', 'Espora 400 m', 'Espora 400 m', 'Náutico 400 m', 'Náutico 400 m', 'Pejerrey Club 400 m', 'Costanera Hudson Calle 63', 'Boca Cerrada (Res.Nat. Punta Lara)', 'Boca Cerrada (Res.Nat. Punta Lara)', 'Boca Cerrada (Res.Nat. Punta Lara)', 'Camping Eva Perón', 'Toma de agua Club de Pesca', 'Toma de agua Club de Pesca', 'Arroyo El Gato', 'Toma de agua Club de Pesca', 'Ensenada Prefectura Isla Santiago', 'Balneario Palo Blanco', 'Ensenada Prefectura Isla Santiago', 'Balneario Municipal', 'Balneario Municipal', 'Balneario Municipal', 'Playa La Balandra', 'Playa La Balandra']\n",
      "\n",
      "Cluster 2:\n",
      "['Canal Aliviador y Río Lujan', 'Río Reconquista y Río Lujan', 'Rio Tigre 100m antes del Rio Luján', 'Río Lujan y Canal San Fernando', 'Del Arca', 'Playa Espigón de Pacheco', 'Escollera de Propaneros', 'Polo Petroquímico Dock Sud', 'Arroyo Sarandí', 'Arroyo Santo Domingo', 'Costa de Villa Domínico', 'Arroyo Santo Domingo', 'Náutico 400 m', 'Diagonal 66 (descarga cloaca)', 'Playa La Bagliardi', 'Playa La Balandra']\n",
      "\n",
      "Cluster 3:\n",
      "['Del Arca', 'Perú Puente', 'Perú Puente', 'Puerto de Olivos Espigón', 'Costa y Melo', 'Cuatro bocas- desembocadura del Riachuelo', 'Escollera de Propaneros', 'Ensenada Prefectura Isla Santiago', 'Diagonal 66 (descarga cloaca)']\n",
      "\n",
      "Cluster 4:\n",
      "['Calle 14 y Costa - Salida cloaca', 'Puerto Trinidad calle 47', 'Puerto Trinidad calle 47', 'Costanera Hudson Calle 63', 'Costanera Hudson Calle 63', 'Boca Cerrada (Res.Nat. Punta Lara)', 'Camping Eva Perón', 'Toma de agua Club de Pesca', 'Arroyo El Gato', 'Ensenada Prefectura Isla Santiago', 'Balneario Palo Blanco', 'Balneario Municipal']\n",
      "\n",
      "Cluster 5:\n",
      "['Canal Villanueva y Río Luján', 'Canal Villanueva y Río Luján', 'Río Lujan y Arroyo Caraguatá', 'Río Lujan y Arroyo Caraguatá', 'Canal Aliviador y Río Lujan', 'Canal Aliviador y Río Lujan', 'Río Carapachay y Arroyo Gallo Fiambre', 'Río Carapachay y Arroyo Gallo Fiambre', 'Río Reconquista y Río Lujan', 'Río Reconquista y Río Lujan', 'Rio Tigre 100m antes del Rio Luján', 'Rio Tigre 100m antes del Rio Luján', 'Río Lujan y Canal San Fernando', 'Río Lujan y Canal San Fernando', 'Río Capitán y Río San Antonio', 'Río Capitán y Río San Antonio', 'Arroyo Abra Vieja y Santa Rosa', 'Arroyo Abra Vieja y Santa Rosa', 'Del Arca', 'Reserva Ecológica', 'Reserva Ecológica', 'Playa Espigón de Pacheco', 'Playa Espigón de Pacheco', 'Playa Espigón de Pacheco', 'Perú Puente', 'Reserva Barrio El Ceibo', 'Reserva Barrio El Ceibo', 'Puerto de Olivos Espigón', 'Costa y Melo', 'Costa y Melo', 'Escollera de Propaneros', 'Polo Petroquímico Dock Sud', 'Polo Petroquímico Dock Sud', 'Arroyo Sarandí', 'Arroyo Sarandí', 'Costa de Villa Domínico', 'Costa de Villa Domínico', 'Arroyo Santo Domingo', 'Arroyo Santo Domingo', 'Espora 400 m', 'Espora 400 m', 'Náutico 400 m', 'Pejerrey Club 400 m', 'Pejerrey Club 400 m', 'Pejerrey Club 400 m', 'Calle 14 y Costa - Salida cloaca', 'Arroyo El Gato', 'Balneario Palo Blanco', 'Playa La Bagliardi', 'Playa La Balandra']\n",
      "\n",
      "Cluster 6:\n",
      "['Calle 14 y Costa - Salida cloaca', 'Playa La Bagliardi']\n"
     ]
    }
   ],
   "source": [
    "import pandas as pd\n",
    "\n",
    "# Creamos un DataFrame con los sitios y los clusters asignados\n",
    "cluster_df = pd.DataFrame({'sitios': sitios, 'Cluster': clusters_kmeans})\n",
    "\n",
    "# Imprimimos los países de cada cluster\n",
    "for cluster_num in range(7):\n",
    "  print(f\"\\nCluster {cluster_num}:\")\n",
    "  print(cluster_df[cluster_df['Cluster'] == cluster_num]['sitios'].tolist())"
   ]
  },
  {
   "cell_type": "markdown",
   "metadata": {},
   "source": [
    "#### K-means graficado sobre la reduccion de dimensionalidad (UMAP)"
   ]
  },
  {
   "cell_type": "code",
   "execution_count": 284,
   "metadata": {},
   "outputs": [
    {
     "data": {
      "image/png": "[encoded data removed]",
      "text/plain": [
       "<Figure size 1000x800 with 1 Axes>"
      ]
     },
     "metadata": {},
     "output_type": "display_data"
    }
   ],
   "source": [
    "import matplotlib.pyplot as plt\n",
    "\n",
    "# Crear un DataFrame con los resultados de UMAP y los clusters\n",
    "umap_df = pd.DataFrame({'x': rd_umap[:, 0], 'y': rd_umap[:, 1], 'Cluster': clusters_kmeans, 'sitios': sitios})\n",
    "\n",
    "# Graficar los resultados de UMAP, coloreando los puntos según el cluster\n",
    "plt.figure(figsize=(10, 8))\n",
    "for cluster_num in range(7):\n",
    "  plt.scatter(umap_df[umap_df['Cluster'] == cluster_num]['x'], umap_df[umap_df['Cluster'] == cluster_num]['y'], label=f'Cluster {cluster_num}', s=50)\n",
    "\n",
    "plt.xlabel('Componente UMAP 1')\n",
    "plt.ylabel('Componente UMAP 2')\n",
    "plt.title('Resultados del clustering con K-means (UMAP)')\n",
    "plt.legend()\n",
    "plt.show()\n"
   ]
  },
  {
   "cell_type": "markdown",
   "metadata": {},
   "source": [
    "#### ICA promedio por CLUSTER:"
   ]
  },
  {
   "cell_type": "code",
   "execution_count": 285,
   "metadata": {},
   "outputs": [
    {
     "name": "stdout",
     "output_type": "stream",
     "text": [
      "\n",
      "Cluster 0:\n",
      "37.0\n",
      "\n",
      "Cluster 1:\n",
      "38.416666666666664\n",
      "\n",
      "Cluster 2:\n",
      "36.125\n",
      "\n",
      "Cluster 3:\n",
      "32.55555555555556\n",
      "\n",
      "Cluster 4:\n",
      "34.416666666666664\n",
      "\n",
      "Cluster 5:\n",
      "37.9\n",
      "\n",
      "Cluster 6:\n",
      "26.5\n"
     ]
    }
   ],
   "source": [
    "\"\"\"ica_cluster_df = pd.DataFrame({'ica': rd_copia['ica'], 'Cluster': clusters_kmeans})\n",
    "\n",
    "# Imprimimos los sitios de cada cluster\n",
    "for cluster_num in range(7):\n",
    "  print(f\"\\nCluster {cluster_num}:\")\n",
    "  print(ica_cluster_df[ica_cluster_df['Cluster'] == cluster_num]['ica'].tolist())\n",
    "\"\"\"\n",
    "\n",
    "ica_cluster_df = pd.DataFrame({'ica': rd_copia['ica'], 'Cluster': clusters_kmeans})\n",
    "\n",
    "# Calculamos la media de 'ica' para cada cluster\n",
    "cluster_means = ica_cluster_df.groupby('Cluster')['ica'].mean()\n",
    "\n",
    "# Imprimimos la media de 'ica' para cada cluster\n",
    "for cluster_num in cluster_means.index:\n",
    "    print(f\"\\nCluster {cluster_num}:\")\n",
    "    print(cluster_means[cluster_num])\n"
   ]
  },
  {
   "cell_type": "markdown",
   "metadata": {},
   "source": [
    "# H1: Las variables relacionadas a la materia fecal repercuten negativamente sobre la calidad del agua."
   ]
  },
  {
   "cell_type": "markdown",
   "metadata": {},
   "source": [
    "## PCA solo con fecales"
   ]
  },
  {
   "cell_type": "code",
   "execution_count": 286,
   "metadata": {},
   "outputs": [
    {
     "data": {
      "image/png": "[encoded data removed]",
      "text/plain": [
       "<Figure size 640x480 with 1 Axes>"
      ]
     },
     "metadata": {},
     "output_type": "display_data"
    }
   ],
   "source": [
    "import pandas as pd\n",
    "import matplotlib.pyplot as plt\n",
    "\n",
    "rd_fecales = rd_copia_Continuas_a_estandarizar.drop(columns=['tem_aire', 'tem_agua', 'od', 'ph', 'nitrato_mg_l', 'nh4_mg_l', 'p_total_l_mg_l', 'fosf_ortofos_mg_l', 'dbo_mg_l', 'dqo_mg_l', 'turbiedad_ntu', 'cr_total_mg_l', 'clorofila_a_ug_l', 'microcistina_ug_l'])\n",
    "\n",
    "rd_scaled_Materia_fecal = scaler.fit_transform(rd_fecales)\n",
    "\n",
    "# Ahora aplicamos PCA a los datos estandarizados\n",
    "pca = PCA(n_components=2)\n",
    "rd_pca = pca.fit_transform(rd_scaled_Materia_fecal)\n",
    "# graficamos los datos\n",
    "plt.scatter(rd_pca[:,0], rd_pca[:,1])\n",
    "plt.grid(True)\n",
    "plt.xlabel('Proyección PCA 1')\n",
    "plt.ylabel('Proyección PCA 2')\n",
    "plt.title('Proyección del conjunto de datos a 2 dimensiones')\n",
    "plt.show()"
   ]
  },
  {
   "cell_type": "markdown",
   "metadata": {},
   "source": [
    "### Varianza explicada:"
   ]
  },
  {
   "cell_type": "code",
   "execution_count": 287,
   "metadata": {},
   "outputs": [
    {
     "data": {
      "text/plain": [
       "array([0.72035688, 0.18271063])"
      ]
     },
     "execution_count": 287,
     "metadata": {},
     "output_type": "execute_result"
    }
   ],
   "source": [
    "pca.explained_variance_ratio_"
   ]
  },
  {
   "cell_type": "markdown",
   "metadata": {},
   "source": [
    "### Coloreo de la grafica según el ica"
   ]
  },
  {
   "cell_type": "code",
   "execution_count": 288,
   "metadata": {},
   "outputs": [
    {
     "data": {
      "image/png": "[encoded data removed]",
      "text/plain": [
       "<Figure size 640x480 with 2 Axes>"
      ]
     },
     "metadata": {},
     "output_type": "display_data"
    }
   ],
   "source": [
    "# graficamos los datos. el color de cada punto representa el valor de la casa\n",
    "plt.scatter(rd_pca[:,0], rd_pca[:,1], c=rd_copia[\"ica\"], cmap='viridis')\n",
    "plt.grid(True)\n",
    "plt.xlabel('Proyección PCA 1')\n",
    "plt.ylabel('Proyección PCA 2')\n",
    "plt.title('Proyección del conjunto de datos a 2 dimensiones')\n",
    "plt.colorbar()\n",
    "plt.show()\n"
   ]
  },
  {
   "cell_type": "markdown",
   "metadata": {},
   "source": [
    "Hay dos Cluster"
   ]
  },
  {
   "cell_type": "markdown",
   "metadata": {},
   "source": [
    "### Busqueda de grupos por clustering"
   ]
  },
  {
   "cell_type": "code",
   "execution_count": 289,
   "metadata": {},
   "outputs": [
    {
     "data": {
      "image/png": "[encoded data removed]",
      "text/plain": [
       "<Figure size 3000x700 with 1 Axes>"
      ]
     },
     "metadata": {},
     "output_type": "display_data"
    }
   ],
   "source": [
    "from scipy.cluster.hierarchy import dendrogram, linkage\n",
    "\n",
    "# generamos el clustering jerárquico\n",
    "linked = linkage(rd_scaled_Materia_fecal, method='centroid')\n",
    "\n",
    "# ploteamos el dendrograma\n",
    "plt.figure(figsize=(30,7))\n",
    "dendrogram(linked,\n",
    "           orientation='top',\n",
    "           labels=list(rd_copia['ica']),\n",
    "           distance_sort='descending',\n",
    "           show_leaf_counts=True,\n",
    "           leaf_font_size=10,\n",
    "           truncate_mode= 'level',\n",
    "           p = 6)\n",
    "plt.xlabel('ica')\n",
    "plt.ylabel('Euclidean Distance')\n",
    "plt.show()"
   ]
  },
  {
   "cell_type": "markdown",
   "metadata": {},
   "source": [
    "## T-SNE solo con fecales"
   ]
  },
  {
   "cell_type": "code",
   "execution_count": 290,
   "metadata": {},
   "outputs": [
    {
     "name": "stderr",
     "output_type": "stream",
     "text": [
      "C:\\Users\\Usuario\\AppData\\Local\\Temp\\ipykernel_2680\\2599667436.py:14: UserWarning: No artists with labels found to put in legend.  Note that artists whose label start with an underscore are ignored when legend() is called with no argument.\n",
      "  plt.legend()\n"
     ]
    },
    {
     "data": {
      "image/png": "[encoded data removed]",
      "text/plain": [
       "<Figure size 1000x800 with 1 Axes>"
      ]
     },
     "metadata": {},
     "output_type": "display_data"
    }
   ],
   "source": [
    "import matplotlib.pyplot as plt\n",
    "from sklearn.manifold import TSNE\n",
    "\n",
    "# Reducir la dimensionalidad de los datos usando t-SNE\n",
    "tsne = TSNE(n_components=2, random_state=42)\n",
    "tsne_fecales = tsne.fit_transform(rd_scaled_Materia_fecal)\n",
    "\n",
    "# Graficar los resultados de t-SNE, coloreando los puntos según el cluster\n",
    "plt.figure(figsize=(10, 8))\n",
    "plt.scatter(tsne_fecales[:,0], tsne_fecales[:,1], c=rd_copia[\"ica\"], cmap='viridis')\n",
    "plt.xlabel('Componente t-SNE 1')\n",
    "plt.ylabel('Componente t-SNE 2')\n",
    "plt.title('Resultados del clustering con t-SNE')\n",
    "plt.legend()\n",
    "plt.show()"
   ]
  },
  {
   "cell_type": "markdown",
   "metadata": {},
   "source": [
    "No observamos un comportamiento de grupo entre las observaciones dispuestas por la reduccion de dimensionalidad por T-SNE coloreando con los valores de ica, por lo que consideramos que no tiene sentido profundizar más realizando un test de hipotesis sobre algo que podemos ver que no actua como teniamos pensado."
   ]
  },
  {
   "cell_type": "markdown",
   "metadata": {},
   "source": [
    "# H2: La presencia de cadmio influye en los valores que toma ica."
   ]
  },
  {
   "cell_type": "code",
   "execution_count": 291,
   "metadata": {},
   "outputs": [
    {
     "data": {
      "image/png": "[encoded data removed]",
      "text/plain": [
       "<Figure size 640x480 with 1 Axes>"
      ]
     },
     "metadata": {},
     "output_type": "display_data"
    }
   ],
   "source": [
    "import seaborn as sns\n",
    "import matplotlib.pyplot as plt\n",
    "\n",
    "sns.boxplot(x='Alta_presencia_de_cadmio', y='ica', data=rd_copia, notch=True)\n",
    "plt.title(\"Comparacion de ICA sobre la presencia de cadmio\")\n",
    "plt.xlabel(\"Presencia de cadmio\")\n",
    "plt.xticks(ticks=[0, 1], labels=[\"Poca presencia de cadmio\", \"Alta presencia de cadmio\"])\n",
    "plt.ylabel(\"ICA\")\n",
    "plt.show()"
   ]
  },
  {
   "cell_type": "markdown",
   "metadata": {},
   "source": [
    "## Validamos normalidad de los datos"
   ]
  },
  {
   "cell_type": "code",
   "execution_count": 292,
   "metadata": {},
   "outputs": [
    {
     "name": "stdout",
     "output_type": "stream",
     "text": [
      "Test de Shapiro-Wilk para Sitios con Poca presencia de cadmio: Estadístico=0.885, p-valor=0.000\n"
     ]
    }
   ],
   "source": [
    "from scipy.stats import shapiro\n",
    "\n",
    "# Test de Shapiro-Wilk para ica\n",
    "stat, p = shapiro(rd_copia['ica'])\n",
    "print(f\"Test de Shapiro-Wilk para Sitios con Poca presencia de cadmio: Estadístico={stat:.3f}, p-valor={p:.3f}\")\n"
   ]
  },
  {
   "cell_type": "markdown",
   "metadata": {},
   "source": [
    "La distribucion de ica no es normal."
   ]
  },
  {
   "cell_type": "markdown",
   "metadata": {},
   "source": [
    "## Chequeo visual con QQPlot:"
   ]
  },
  {
   "cell_type": "code",
   "execution_count": 293,
   "metadata": {},
   "outputs": [
    {
     "data": {
      "image/png": "[encoded data removed]",
      "text/plain": [
       "<Figure size 640x480 with 1 Axes>"
      ]
     },
     "metadata": {},
     "output_type": "display_data"
    }
   ],
   "source": [
    "import matplotlib.pyplot as plt\n",
    "import scipy.stats as stats\n",
    "\n",
    "# QQ plot para ica\n",
    "stats.probplot(rd_copia['ica'], dist=\"norm\", plot=plt)\n",
    "plt.title(\"QQ Plot para ica\")\n",
    "plt.show()\n"
   ]
  },
  {
   "cell_type": "markdown",
   "metadata": {},
   "source": [
    "## Validamos la Homocedasticidad de los datos."
   ]
  },
  {
   "cell_type": "code",
   "execution_count": 294,
   "metadata": {},
   "outputs": [
    {
     "name": "stdout",
     "output_type": "stream",
     "text": [
      "Test de Levene para ica: Estadístico=3.938, p-valor=0.049\n"
     ]
    }
   ],
   "source": [
    "# Separamos los datos en dos grupos, rd_Mucho_cadmio y rd_Poco_Cadmio\n",
    "rd_Mucho_cadmio = rd_copia[rd_copia['Alta_presencia_de_cadmio'] == 1]['ica']\n",
    "rd_Poco_Cadmio = rd_copia[rd_copia['Alta_presencia_de_cadmio'] == 0]['ica']\n",
    "\n",
    "stat, p = stats.levene(rd_Mucho_cadmio, rd_Poco_Cadmio)\n",
    "print(f\"Test de Levene para ica: Estadístico={stat:.3f}, p-valor={p:.3f}\")"
   ]
  },
  {
   "cell_type": "markdown",
   "metadata": {},
   "source": [
    "El p-valor es menor a 0.05, por ende los datos no son homocedasticos."
   ]
  },
  {
   "cell_type": "markdown",
   "metadata": {},
   "source": [
    "## Test de Kruskal-Wallis para comparar ica entre observaciones con alta y poca presencia de cadmio."
   ]
  },
  {
   "cell_type": "code",
   "execution_count": 295,
   "metadata": {},
   "outputs": [
    {
     "name": "stdout",
     "output_type": "stream",
     "text": [
      "Test de Kruskal-Wallis para ica: Estadístico=1.943, p-valor=0.163\n",
      "No hay suficiente evidencia para rechazar la hipótesis nula.\n",
      "No hay una diferencia significativa en el valor del ica entre las observaciones con alta presencia de cadmio y poca.\n"
     ]
    }
   ],
   "source": [
    "stat, p = stats.kruskal(rd_Mucho_cadmio, rd_Poco_Cadmio)\n",
    "print(f\"Test de Kruskal-Wallis para ica: Estadístico={stat:.3f}, p-valor={p:.3f}\")\n",
    "\n",
    "# Interpretación de los resultados\n",
    "alpha = 0.05  # Nivel de significancia\n",
    "if p > alpha:\n",
    "    print(\"No hay suficiente evidencia para rechazar la hipótesis nula.\")\n",
    "    print(\"No hay una diferencia significativa en el valor del ica entre las observaciones con alta presencia de cadmio y poca.\")\n",
    "else:\n",
    "    print(\"Se rechaza la hipótesis nula.\")\n",
    "    print(\"Existe una diferencia significativa en el ica entre las observaciones con alta presencia de cadmio y poca.\")"
   ]
  },
  {
   "cell_type": "markdown",
   "metadata": {},
   "source": [
    "# H3: La epoca del año influye en la presencia de materia suspendida. (Primavera - Verano) y (Otoño - Invierno)"
   ]
  },
  {
   "cell_type": "markdown",
   "metadata": {},
   "source": [
    "## Verificamos la independencia de dos grupos (Primavera-Verano y Otoño-Invierno) en funcion de la presencia de materia suspendida con Chi-Cuadrado."
   ]
  },
  {
   "cell_type": "code",
   "execution_count": 296,
   "metadata": {},
   "outputs": [
    {
     "name": "stdout",
     "output_type": "stream",
     "text": [
      "grupo_campaña  otoño-invierno  primavera-verano\n",
      "mat_susp                                       \n",
      "False                      59                45\n",
      "True                       15                32\n",
      "Estadístico chi cuadrado: 7.014974809190233\n",
      "Valor p: 0.008083077028483097\n",
      "Se rechaza la hipótesis nula.\n",
      "Existe una diferencia significativa en la presencia de materia suspendida entre las observaciones que pertenecen a epocas del año de calor y las que no.\n"
     ]
    },
    {
     "data": {
      "image/png": "[encoded data removed]",
      "text/plain": [
       "<Figure size 640x480 with 1 Axes>"
      ]
     },
     "metadata": {},
     "output_type": "display_data"
    }
   ],
   "source": [
    "import pandas as pd\n",
    "import seaborn as sns\n",
    "import matplotlib.pyplot as plt\n",
    "from scipy.stats import chi2_contingency\n",
    "\n",
    "\n",
    "# Supongamos que tus datos están en un DataFrame llamado `df` con columnas `materia_suspendida` y `campaña`\n",
    "# Crear una nueva columna que agrupe las campañas\n",
    "rd_copia['grupo_campaña'] = rd_copia['campaña'].apply(lambda x: 'primavera-verano' if x in ['primavera', 'Verano'] else 'otoño-invierno')\n",
    "\n",
    "# Crear una tabla de contingencia\n",
    "tabla_contingencia = pd.crosstab(rd_copia['mat_susp'], rd_copia['grupo_campaña'])\n",
    "\n",
    "# Imprimir la tabla de contingencia\n",
    "print(tabla_contingencia)\n",
    "\n",
    "# Aplicar el test de chi cuadrado\n",
    "chi2, p, _, _ = chi2_contingency(tabla_contingencia)\n",
    "\n",
    "print(f\"Estadístico chi cuadrado: {chi2}\")\n",
    "print(f\"Valor p: {p}\")\n",
    "\n",
    "alpha = 0.05  # Nivel de significancia\n",
    "if p > alpha:\n",
    "    print(\"No hay suficiente evidencia para rechazar la hipótesis nula.\")\n",
    "    print(\"NO Existe una diferencia significativa en la presencia de materia suspendida entre las observaciones que pertenecen a epocas del año de calor y las que no.\")\n",
    "else:\n",
    "    print(\"Se rechaza la hipótesis nula.\")\n",
    "    print(\"Existe una diferencia significativa en la presencia de materia suspendida entre las observaciones que pertenecen a epocas del año de calor y las que no.\")\n",
    "\n",
    "\n",
    "# Visualización\n",
    "sns.countplot(x='grupo_campaña', hue='mat_susp', data=rd_copia)\n",
    "plt.title('Distribución de Materia Suspendida por Grupo de Campaña')\n",
    "plt.xlabel('Grupo de Campaña')\n",
    "plt.ylabel('Frecuencia de Materia Suspendida')\n",
    "plt.show()\n"
   ]
  },
  {
   "cell_type": "markdown",
   "metadata": {},
   "source": [
    "<span style=\"color:lightgreen; font-size:30px\">Por lo que podemos observar, las epocas del año en las que predomina el calor no necesariamente implican un aumento en la presencia de materia suspendida.</span> "
   ]
  },
  {
   "cell_type": "markdown",
   "metadata": {},
   "source": [
    "# H4: El valor de oxígeno disuelto es menor cuando hay presencia de materia suspendida."
   ]
  },
  {
   "cell_type": "code",
   "execution_count": 297,
   "metadata": {},
   "outputs": [
    {
     "data": {
      "image/png": "[encoded data removed]",
      "text/plain": [
       "<Figure size 640x480 with 1 Axes>"
      ]
     },
     "metadata": {},
     "output_type": "display_data"
    }
   ],
   "source": [
    "import seaborn as sns\n",
    "import matplotlib.pyplot as plt\n",
    "\n",
    "sns.boxplot(x='mat_susp', y='od', data=rd_copia, notch=True)\n",
    "plt.title(\"Comparacion de valores de od sobre la presencia de materia suspendida\")\n",
    "plt.xlabel(\"Presencia de materia suspendida\")\n",
    "plt.xticks(ticks=[0, 1], labels=[\"Presencia de materia suspendida\", \"Ausencia de materia suspendida\"])\n",
    "plt.ylabel(\"od\")\n",
    "plt.show()"
   ]
  },
  {
   "cell_type": "markdown",
   "metadata": {},
   "source": [
    "## Validamos normalidad de los datos"
   ]
  },
  {
   "cell_type": "code",
   "execution_count": 298,
   "metadata": {},
   "outputs": [
    {
     "name": "stdout",
     "output_type": "stream",
     "text": [
      "Test de Shapiro-Wilk para Sitios con ausencia de materia suspendida: Estadístico=0.971, p-valor=0.003\n"
     ]
    }
   ],
   "source": [
    "# Test de Shapiro-Wilk para od total\n",
    "stat, p = shapiro(rd_copia['od'])\n",
    "print(f\"Test de Shapiro-Wilk para Sitios con ausencia de materia suspendida: Estadístico={stat:.3f}, p-valor={p:.3f}\")\n"
   ]
  },
  {
   "cell_type": "markdown",
   "metadata": {},
   "source": [
    "Una de las distribuciones no es normal (ausencia de materia suspendida)."
   ]
  },
  {
   "cell_type": "markdown",
   "metadata": {},
   "source": [
    "## Chequeo visual con QQPlot:"
   ]
  },
  {
   "cell_type": "code",
   "execution_count": 299,
   "metadata": {},
   "outputs": [
    {
     "data": {
      "image/png": "[encoded data removed]",
      "text/plain": [
       "<Figure size 640x480 with 1 Axes>"
      ]
     },
     "metadata": {},
     "output_type": "display_data"
    }
   ],
   "source": [
    "# QQ plot para países en vías de desarrollo\n",
    "stats.probplot(rd_copia['od'], dist=\"norm\", plot=plt)\n",
    "plt.title(\"QQ Plot para od total\")\n",
    "plt.show()"
   ]
  },
  {
   "cell_type": "markdown",
   "metadata": {},
   "source": [
    "## Validamos la Homocedasticidad de los datos."
   ]
  },
  {
   "cell_type": "code",
   "execution_count": 300,
   "metadata": {},
   "outputs": [
    {
     "name": "stdout",
     "output_type": "stream",
     "text": [
      "Test de Levene para od: Estadístico=0.002, p-valor=0.969\n"
     ]
    }
   ],
   "source": [
    "# Separamos los datos en dos grupos, presencia de materia suspendida y ausencia de la misma.\n",
    "rd_Presencia_materias_suspendida = rd_copia[rd_copia['mat_susp'] == 1]['od']\n",
    "rd_Ausencia_materias_suspendida = rd_copia[rd_copia['mat_susp'] == 0]['od']\n",
    "\n",
    "stat, p = stats.levene(rd_Presencia_materias_suspendida, rd_Ausencia_materias_suspendida)\n",
    "print(f\"Test de Levene para od: Estadístico={stat:.3f}, p-valor={p:.3f}\")"
   ]
  },
  {
   "cell_type": "markdown",
   "metadata": {},
   "source": [
    "Los grupos son homocedasticos ya que no se rechazo la hipotesis nulas (Entonces las varianzar son homogeneas)."
   ]
  },
  {
   "cell_type": "code",
   "execution_count": 301,
   "metadata": {},
   "outputs": [
    {
     "name": "stdout",
     "output_type": "stream",
     "text": [
      "Test de Mann-Whitney U para comparar la relación entre od en presencia o no de materia suspendida: Estadístico=1867.500, p-valor=0.010\n",
      "Se rechaza la hipótesis nula.\n",
      "El valor de oxigeno disuelto es menor con presencia de materia suspendida\n"
     ]
    }
   ],
   "source": [
    "# Test de Mann-Whitney U para comprobar que el oxigeno disuelto es menor cuando hay presencia de materia suspendida.\n",
    "stat, p = stats.mannwhitneyu(rd_Presencia_materias_suspendida, rd_Ausencia_materias_suspendida, alternative = 'less')\n",
    "print(f\"Test de Mann-Whitney U para comparar la relación entre od en presencia o no de materia suspendida: Estadístico={stat:.3f}, p-valor={p:.3f}\")\n",
    "\n",
    "# Interpretación de los resultados\n",
    "alpha = 0.05  # Nivel de significancia\n",
    "if p > alpha:\n",
    "    print(\"No hay suficiente evidencia para rechazar la hipótesis nula.\")\n",
    "    print(\"El valor de oxigeno disuelto no es necesariamente menor con presencia de materia suspendida\")\n",
    "else:\n",
    "    print(\"Se rechaza la hipótesis nula.\")\n",
    "    print(\"El valor de oxigeno disuelto es menor con presencia de materia suspendida\")"
   ]
  },
  {
   "cell_type": "markdown",
   "metadata": {},
   "source": [
    "# Hipotesis Planteadas [Lo dejamos acá? y en ese caso hay que definir las otras 2 que puede que testeemos]:"
   ]
  },
  {
   "cell_type": "markdown",
   "metadata": {},
   "source": [
    "## Relación entre temperatura del agua y niveles de oxígeno disuelto (OD)\n",
    "Hipótesis: Las altas temperaturas del agua están asociadas con niveles más bajos de oxígeno disuelto. Esto podría indicar que el calentamiento del agua afecta negativamente la capacidad del agua para sostener vida acuática.\n",
    "## Presencia de cadmio y calidad de agua general\n",
    "Hipótesis: Los sitios con alta presencia de cadmio tienen, en promedio, una clasificación de calidad de agua más baja en el índice ICA. Esto podría ayudar a identificar zonas críticas con riesgo de contaminación por metales pesados.\n",
    "## Niveles de coliformes fecales como indicador de calidad del agua en diferentes campañas\n",
    "Hipótesis: Los niveles de coliformes fecales son significativamente más altos en ciertas campañas (meses o épocas del año), lo que podría indicar factores estacionales que afectan la contaminación fecal en el agua."
   ]
  },
  {
   "cell_type": "markdown",
   "metadata": {},
   "source": [
    "# Zona de exploracion de rd_copia"
   ]
  },
  {
   "cell_type": "code",
   "execution_count": null,
   "metadata": {},
   "outputs": [
    {
     "name": "stdout",
     "output_type": "stream",
     "text": [
      "<class 'pandas.core.frame.DataFrame'>\n",
      "Index: 151 entries, 0 to 168\n",
      "Data columns (total 18 columns):\n",
      " #   Column                   Non-Null Count  Dtype  \n",
      "---  ------                   --------------  -----  \n",
      " 0   tem_agua                 151 non-null    float64\n",
      " 1   tem_aire                 151 non-null    float64\n",
      " 2   od                       151 non-null    float64\n",
      " 3   ph                       151 non-null    float64\n",
      " 4   colif_fecales_ufc_100ml  151 non-null    float64\n",
      " 5   escher_coli_ufc_100ml    151 non-null    float64\n",
      " 6   enteroc_ufc_100ml        151 non-null    float64\n",
      " 7   nitrato_mg_l             151 non-null    float64\n",
      " 8   nh4_mg_l                 151 non-null    float64\n",
      " 9   p_total_l_mg_l           151 non-null    float64\n",
      " 10  fosf_ortofos_mg_l        151 non-null    float64\n",
      " 11  dbo_mg_l                 151 non-null    float64\n",
      " 12  dqo_mg_l                 151 non-null    float64\n",
      " 13  turbiedad_ntu            151 non-null    float64\n",
      " 14  cr_total_mg_l            151 non-null    float64\n",
      " 15  clorofila_a_ug_l         151 non-null    float64\n",
      " 16  microcistina_ug_l        151 non-null    float64\n",
      " 17  ica                      151 non-null    float64\n",
      "dtypes: float64(18)\n",
      "memory usage: 22.4 KB\n"
     ]
    },
    {
     "name": "stderr",
     "output_type": "stream",
     "text": [
      "Summarize dataset: 100%|██████████| 351/351 [00:35<00:00,  9.98it/s, Completed]                                              \n",
      "Generate report structure: 100%|██████████| 1/1 [00:05<00:00,  5.96s/it]\n",
      "Render HTML: 100%|██████████| 1/1 [00:03<00:00,  3.69s/it]\n",
      "Export report to file: 100%|██████████| 1/1 [00:00<00:00, 20.04it/s]\n"
     ]
    }
   ],
   "source": [
    "\n",
    "# Filtra las columnas de rd_copia_Continuas_a_estandarizar que también existen en rd_copia\n",
    "common_columns = rd_copia.columns.intersection(rd_copia_Continuas_a_estandarizar.columns)\n",
    "\n",
    "# Reemplaza las columnas comunes en rd_copia con los valores de rd_copia_Continuas_a_estandarizar\n",
    "rd_copia[common_columns] = rd_copia_Continuas_a_estandarizar[common_columns]\n",
    "\n",
    "# Agregamos a las continuas la columna de ica\n",
    "rd_copia_Continuas_a_estandarizar['ica'] = rd_copia['ica']\n",
    "\n",
    "rd_copia_Continuas_a_estandarizar.info()\n",
    "\n",
    "# Creacion de un profiling\n",
    "report = pp.ProfileReport(rd_copia_Continuas_a_estandarizar)\n",
    "\n",
    "# lo guardamos como un archivo\n",
    "report.to_file(output_file=\"reporte_Calidad_de_agua_2023_Limpio_Solo_Continuas_completas.html\")"
   ]
  },
  {
   "cell_type": "code",
   "execution_count": 304,
   "metadata": {},
   "outputs": [
    {
     "name": "stdout",
     "output_type": "stream",
     "text": [
      "<class 'pandas.core.frame.DataFrame'>\n",
      "Index: 151 entries, 0 to 168\n",
      "Data columns (total 29 columns):\n",
      " #   Column                    Non-Null Count  Dtype         \n",
      "---  ------                    --------------  -----         \n",
      " 0   sitios                    151 non-null    object        \n",
      " 1   codigo                    151 non-null    object        \n",
      " 2   fecha                     151 non-null    datetime64[ns]\n",
      " 3   campaña                   151 non-null    object        \n",
      " 4   tem_agua                  151 non-null    float64       \n",
      " 5   tem_aire                  151 non-null    float64       \n",
      " 6   od                        151 non-null    float64       \n",
      " 7   ph                        151 non-null    float64       \n",
      " 8   olores                    151 non-null    boolean       \n",
      " 9   color                     151 non-null    boolean       \n",
      " 10  espumas                   151 non-null    boolean       \n",
      " 11  mat_susp                  151 non-null    boolean       \n",
      " 12  colif_fecales_ufc_100ml   151 non-null    float64       \n",
      " 13  escher_coli_ufc_100ml     151 non-null    float64       \n",
      " 14  enteroc_ufc_100ml         151 non-null    float64       \n",
      " 15  nitrato_mg_l              151 non-null    float64       \n",
      " 16  nh4_mg_l                  151 non-null    float64       \n",
      " 17  p_total_l_mg_l            151 non-null    float64       \n",
      " 18  fosf_ortofos_mg_l         151 non-null    float64       \n",
      " 19  dbo_mg_l                  151 non-null    float64       \n",
      " 20  dqo_mg_l                  151 non-null    float64       \n",
      " 21  turbiedad_ntu             151 non-null    float64       \n",
      " 22  cr_total_mg_l             151 non-null    float64       \n",
      " 23  Alta_presencia_de_cadmio  151 non-null    boolean       \n",
      " 24  clorofila_a_ug_l          151 non-null    float64       \n",
      " 25  microcistina_ug_l         151 non-null    float64       \n",
      " 26  ica                       151 non-null    float64       \n",
      " 27  calidad_de_agua           151 non-null    object        \n",
      " 28  grupo_campaña             151 non-null    object        \n",
      "dtypes: boolean(5), datetime64[ns](1), float64(18), object(5)\n",
      "memory usage: 31.0+ KB\n"
     ]
    }
   ],
   "source": [
    "rd_copia.info()"
   ]
  },
  {
   "cell_type": "code",
   "execution_count": 305,
   "metadata": {},
   "outputs": [
    {
     "data": {
      "text/plain": [
       "count    151.000000\n",
       "mean      37.046358\n",
       "std        5.061407\n",
       "min       23.000000\n",
       "25%       35.000000\n",
       "50%       37.000000\n",
       "75%       39.000000\n",
       "max       62.000000\n",
       "Name: ica, dtype: float64"
      ]
     },
     "execution_count": 305,
     "metadata": {},
     "output_type": "execute_result"
    }
   ],
   "source": [
    "rd_copia['ica'].describe()"
   ]
  },
  {
   "cell_type": "code",
   "execution_count": null,
   "metadata": {},
   "outputs": [],
   "source": []
  }
 ],
 "metadata": {
  "kernelspec": {
   "display_name": "PracticaEspecialVenv",
   "language": "python",
   "name": "python3"
  },
  "language_info": {
   "codemirror_mode": {
    "name": "ipython",
    "version": 3
   },
   "file_extension": ".py",
   "mimetype": "text/x-python",
   "name": "python",
   "nbconvert_exporter": "python",
   "pygments_lexer": "ipython3",
   "version": "3.12.5"
  }
 },
 "nbformat": 4,
 "nbformat_minor": 2
}
